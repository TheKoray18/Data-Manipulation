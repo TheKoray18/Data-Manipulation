{
  "nbformat": 4,
  "nbformat_minor": 0,
  "metadata": {
    "colab": {
      "name": "VeriManipülasyonu",
      "provenance": [],
      "collapsed_sections": [
        "2DX1NmwZTBNa",
        "8EXPTJgZTI6z",
        "i-l3bCe3TuzA",
        "J8utio9aVBJi",
        "w0s807q5W5FH",
        "b-3d_NHpXVUr",
        "UWn3jOM2_sph",
        "wC94UyIz6nlp",
        "VUidyDXmHJuy",
        "FxBciZDJJYEz",
        "N0wDhcwyMBt-",
        "4jJs_aQySg7L",
        "gyZapn4H1mey",
        "K2fHcLXgG7wV",
        "7gtavRJA6x4_",
        "hBTc8tGHPUuN",
        "wEUplzuyRFP5"
      ],
      "toc_visible": true,
      "authorship_tag": "ABX9TyOEiPXm5jPkHaRhXckz3R/U",
      "include_colab_link": true
    },
    "kernelspec": {
      "name": "python3",
      "display_name": "Python 3"
    },
    "language_info": {
      "name": "python"
    }
  },
  "cells": [
    {
      "cell_type": "markdown",
      "metadata": {
        "id": "view-in-github",
        "colab_type": "text"
      },
      "source": [
        "<a href=\"https://colab.research.google.com/github/TheKoray18/Data-Manipulation/blob/main/VeriManip%C3%BClasyonu.ipynb\" target=\"_parent\"><img src=\"https://colab.research.google.com/assets/colab-badge.svg\" alt=\"Open In Colab\"/></a>"
      ]
    },
    {
      "cell_type": "markdown",
      "metadata": {
        "id": "QLGXsuv5E29h"
      },
      "source": [
        "#Numpy"
      ]
    },
    {
      "cell_type": "markdown",
      "metadata": {
        "id": "0_YRniy7OEuL"
      },
      "source": [
        "###Numpy Array Oluşturmak\n",
        "\n",
        "- **Numpy Array**, numpy içerisinde yer alan **Listeler, Sözlükler** gibi veri tipidir."
      ]
    },
    {
      "cell_type": "code",
      "metadata": {
        "id": "ub1fF8yKOIQG"
      },
      "source": [
        "import numpy as np\n",
        "import pandas as pd"
      ],
      "execution_count": null,
      "outputs": []
    },
    {
      "cell_type": "code",
      "metadata": {
        "colab": {
          "base_uri": "https://localhost:8080/"
        },
        "id": "v1WGuCrOOhRe",
        "outputId": "a8fb18d0-f85d-4a67-8732-873b520adf0f"
      },
      "source": [
        "a = np.array([1,2,3,4])\n",
        "\n",
        "a"
      ],
      "execution_count": null,
      "outputs": [
        {
          "output_type": "execute_result",
          "data": {
            "text/plain": [
              "array([1, 2, 3, 4])"
            ]
          },
          "metadata": {},
          "execution_count": 21
        }
      ]
    },
    {
      "cell_type": "code",
      "metadata": {
        "colab": {
          "base_uri": "https://localhost:8080/"
        },
        "id": "_wLxasy0OlMm",
        "outputId": "f76b5be1-26dd-4103-d1c2-e4725417cb4d"
      },
      "source": [
        "type(a)"
      ],
      "execution_count": null,
      "outputs": [
        {
          "output_type": "execute_result",
          "data": {
            "text/plain": [
              "numpy.ndarray"
            ]
          },
          "metadata": {},
          "execution_count": 22
        }
      ]
    },
    {
      "cell_type": "markdown",
      "metadata": {
        "id": "CqEu2yZxO0JO"
      },
      "source": [
        "- **Sabit Tip Baskısı** ; Numpy array içerisinde, liste içerisinde **sadece 1 tip tutar**.\n",
        "\n",
        "- Aşağıda ki arrayda ilk değerimiz **float** diğerleri **int** veri tipine sahiptir.\n",
        "\n",
        "- Ama numpy **tüm değerleri float veri tipine çevirir**"
      ]
    },
    {
      "cell_type": "code",
      "metadata": {
        "colab": {
          "base_uri": "https://localhost:8080/"
        },
        "id": "4wevieomO_11",
        "outputId": "31d452ee-2410-4e67-c266-87a7d57f276f"
      },
      "source": [
        "np.array([3.14, 4, 12,13])"
      ],
      "execution_count": null,
      "outputs": [
        {
          "output_type": "execute_result",
          "data": {
            "text/plain": [
              "array([ 3.14,  4.  , 12.  , 13.  ])"
            ]
          },
          "metadata": {},
          "execution_count": 23
        }
      ]
    },
    {
      "cell_type": "markdown",
      "metadata": {
        "id": "GEkJCcJ7PZl_"
      },
      "source": [
        "- Tipini ayarlayabilirz"
      ]
    },
    {
      "cell_type": "code",
      "metadata": {
        "colab": {
          "base_uri": "https://localhost:8080/"
        },
        "id": "gfExTLY1Pbnf",
        "outputId": "de9585f6-1303-4f21-f3e2-9fa89a83ecc0"
      },
      "source": [
        "np.array([3.14, 4, 12,13], dtype = 'int')"
      ],
      "execution_count": null,
      "outputs": [
        {
          "output_type": "execute_result",
          "data": {
            "text/plain": [
              "array([ 3,  4, 12, 13])"
            ]
          },
          "metadata": {},
          "execution_count": 24
        }
      ]
    },
    {
      "cell_type": "code",
      "metadata": {
        "id": "O1LdhaayQ5ST"
      },
      "source": [
        "dizi = np.array([1,2,3,4])"
      ],
      "execution_count": null,
      "outputs": []
    },
    {
      "cell_type": "markdown",
      "metadata": {
        "id": "pz-VEreERI1_"
      },
      "source": [
        "- Bu arraydan 2 boyutlu bir başka array oluşturalım\n",
        "- **\"dizi\"** arrayımız (4,1) olduğundan 2'ye 2'lik bir yeni dizi elde ettik"
      ]
    },
    {
      "cell_type": "code",
      "metadata": {
        "colab": {
          "base_uri": "https://localhost:8080/"
        },
        "id": "6fXRcVMCRUEp",
        "outputId": "1487cdf1-f586-4f98-fa31-b54061515e60"
      },
      "source": [
        "dizi.reshape(2,2)"
      ],
      "execution_count": null,
      "outputs": [
        {
          "output_type": "execute_result",
          "data": {
            "text/plain": [
              "array([[1, 2],\n",
              "       [3, 4]])"
            ]
          },
          "metadata": {},
          "execution_count": 30
        }
      ]
    },
    {
      "cell_type": "markdown",
      "metadata": {
        "id": "_y8RzmsGRhna"
      },
      "source": [
        "- 2 Boyutlu array oluşturma\n",
        "- 4 sütunlu , 3 satırlı bir array oluşturduk."
      ]
    },
    {
      "cell_type": "code",
      "metadata": {
        "colab": {
          "base_uri": "https://localhost:8080/"
        },
        "id": "HXuevtOSRf-A",
        "outputId": "75360eff-ed92-4533-9965-fabc26eba270"
      },
      "source": [
        "dizi2D = np.array([[1,2,3,4],[5,6,7,8],[9,8,7,6]])\n",
        "\n",
        "dizi2D"
      ],
      "execution_count": null,
      "outputs": [
        {
          "output_type": "execute_result",
          "data": {
            "text/plain": [
              "array([[1, 2, 3, 4],\n",
              "       [5, 6, 7, 8],\n",
              "       [9, 8, 7, 6]])"
            ]
          },
          "metadata": {},
          "execution_count": 31
        }
      ]
    },
    {
      "cell_type": "markdown",
      "metadata": {
        "id": "W_D7OY7aRtuK"
      },
      "source": [
        "### np.zeros()\n",
        "\n",
        "- 0'lardan oluşan array oluşturur.\n",
        "- Çift parantez kullanırsak 2 boyutlu olur."
      ]
    },
    {
      "cell_type": "code",
      "metadata": {
        "colab": {
          "base_uri": "https://localhost:8080/"
        },
        "id": "-LYNVWYPRycg",
        "outputId": "94806cc7-bac9-4a46-e22f-784f81684855"
      },
      "source": [
        "np.zeros(4)"
      ],
      "execution_count": null,
      "outputs": [
        {
          "output_type": "execute_result",
          "data": {
            "text/plain": [
              "array([0., 0., 0., 0.])"
            ]
          },
          "metadata": {},
          "execution_count": 37
        }
      ]
    },
    {
      "cell_type": "code",
      "metadata": {
        "colab": {
          "base_uri": "https://localhost:8080/"
        },
        "id": "HwWCnsOdSoBV",
        "outputId": "01e68072-a5e3-4653-efcd-6c1415675fcb"
      },
      "source": [
        "np.zeros((4))"
      ],
      "execution_count": null,
      "outputs": [
        {
          "output_type": "execute_result",
          "data": {
            "text/plain": [
              "array([0., 0., 0., 0.])"
            ]
          },
          "metadata": {},
          "execution_count": 38
        }
      ]
    },
    {
      "cell_type": "markdown",
      "metadata": {
        "id": "KDUtiC8WSpiE"
      },
      "source": [
        "- **3'e 5'lik 0'lardan oluşan array** oluşturma"
      ]
    },
    {
      "cell_type": "code",
      "metadata": {
        "colab": {
          "base_uri": "https://localhost:8080/"
        },
        "id": "gPXAmlgVSxUw",
        "outputId": "23dc7e8c-d788-4b04-fbf0-319b7d23105a"
      },
      "source": [
        "np.zeros((3,5))"
      ],
      "execution_count": null,
      "outputs": [
        {
          "output_type": "execute_result",
          "data": {
            "text/plain": [
              "array([[0., 0., 0., 0., 0.],\n",
              "       [0., 0., 0., 0., 0.],\n",
              "       [0., 0., 0., 0., 0.]])"
            ]
          },
          "metadata": {},
          "execution_count": 39
        }
      ]
    },
    {
      "cell_type": "markdown",
      "metadata": {
        "id": "2DX1NmwZTBNa"
      },
      "source": [
        "## np.ones()\n",
        "\n",
        "- **1'lerden** oluşan bir array oluşturur"
      ]
    },
    {
      "cell_type": "code",
      "metadata": {
        "colab": {
          "base_uri": "https://localhost:8080/"
        },
        "id": "SzvxcFqKTB8v",
        "outputId": "1d8a7e08-c85b-4884-9271-099aff29b4ee"
      },
      "source": [
        "np.ones(4)"
      ],
      "execution_count": null,
      "outputs": [
        {
          "output_type": "execute_result",
          "data": {
            "text/plain": [
              "array([1., 1., 1., 1.])"
            ]
          },
          "metadata": {},
          "execution_count": 40
        }
      ]
    },
    {
      "cell_type": "code",
      "metadata": {
        "colab": {
          "base_uri": "https://localhost:8080/"
        },
        "id": "WO3yaxHFTFbX",
        "outputId": "139ba295-3525-4af5-a549-d777ffb0cc77"
      },
      "source": [
        "np.ones((4))"
      ],
      "execution_count": null,
      "outputs": [
        {
          "output_type": "execute_result",
          "data": {
            "text/plain": [
              "array([1., 1., 1., 1.])"
            ]
          },
          "metadata": {},
          "execution_count": 41
        }
      ]
    },
    {
      "cell_type": "markdown",
      "metadata": {
        "id": "HlkWRgPhTJen"
      },
      "source": [
        "- **3'e 5'lik 1'lerden oluşan array** oluşturma\n",
        "- istersek **tipini değiştirebiliriz**"
      ]
    },
    {
      "cell_type": "code",
      "metadata": {
        "colab": {
          "base_uri": "https://localhost:8080/"
        },
        "id": "Kf6VhqKgTIqT",
        "outputId": "6e29ff74-9535-45f5-b825-45e41824ed66"
      },
      "source": [
        "np.ones((3,5), dtype = int)"
      ],
      "execution_count": null,
      "outputs": [
        {
          "output_type": "execute_result",
          "data": {
            "text/plain": [
              "array([[1, 1, 1, 1, 1],\n",
              "       [1, 1, 1, 1, 1],\n",
              "       [1, 1, 1, 1, 1]])"
            ]
          },
          "metadata": {},
          "execution_count": 43
        }
      ]
    },
    {
      "cell_type": "markdown",
      "metadata": {
        "id": "8EXPTJgZTI6z"
      },
      "source": [
        "## np.empty()\n",
        "\n",
        "- Boş bir array oluşturur.\n",
        "- Sıfıra cok yakın değerlerdir.0'dırlar. Ondan boş matristir diyebiliriz"
      ]
    },
    {
      "cell_type": "code",
      "metadata": {
        "colab": {
          "base_uri": "https://localhost:8080/"
        },
        "id": "hLFXm9v6TmZr",
        "outputId": "3e7741ff-df68-475f-dcfd-13283dc86ea9"
      },
      "source": [
        "np.empty((3,4))"
      ],
      "execution_count": null,
      "outputs": [
        {
          "output_type": "execute_result",
          "data": {
            "text/plain": [
              "array([[4.65115131e-310, 2.47032823e-322, 0.00000000e+000,\n",
              "        0.00000000e+000],\n",
              "       [6.92088927e-310, 8.60952352e-072, 6.81618461e-091,\n",
              "        1.25669137e-071],\n",
              "       [6.55036969e-043, 2.21658010e-056, 3.99910963e+252,\n",
              "        1.46030983e-319]])"
            ]
          },
          "metadata": {},
          "execution_count": 46
        }
      ]
    },
    {
      "cell_type": "markdown",
      "metadata": {
        "id": "i-l3bCe3TuzA"
      },
      "source": [
        "## np.arange(x,y,basamak)\n",
        "\n",
        "-**X'den başlar, Y'ye kadar gider basamak kadar arttırarak** gider."
      ]
    },
    {
      "cell_type": "code",
      "metadata": {
        "colab": {
          "base_uri": "https://localhost:8080/"
        },
        "id": "msBcqK3TTve0",
        "outputId": "85c07dc0-3c10-4864-f750-0a057d139e6a"
      },
      "source": [
        "np.arange(10,50,5)"
      ],
      "execution_count": null,
      "outputs": [
        {
          "output_type": "execute_result",
          "data": {
            "text/plain": [
              "array([10, 15, 20, 25, 30, 35, 40, 45])"
            ]
          },
          "metadata": {},
          "execution_count": 47
        }
      ]
    },
    {
      "cell_type": "markdown",
      "metadata": {
        "id": "J8utio9aVBJi"
      },
      "source": [
        "## np.full()\n",
        "\n",
        "- **Oluşturduğumuz dizi de hep aynı değer ile diziyi oluşturur.**"
      ]
    },
    {
      "cell_type": "code",
      "metadata": {
        "colab": {
          "base_uri": "https://localhost:8080/"
        },
        "id": "ab0GR9dSVLRI",
        "outputId": "6e9e657d-a595-456c-e90d-cb0df1d23b5f"
      },
      "source": [
        "np.full((3,5),5)"
      ],
      "execution_count": null,
      "outputs": [
        {
          "output_type": "execute_result",
          "data": {
            "text/plain": [
              "array([[5, 5, 5, 5, 5],\n",
              "       [5, 5, 5, 5, 5],\n",
              "       [5, 5, 5, 5, 5]])"
            ]
          },
          "metadata": {},
          "execution_count": 51
        }
      ]
    },
    {
      "cell_type": "markdown",
      "metadata": {
        "id": "w0s807q5W5FH"
      },
      "source": [
        "## np.linspace(x,y,basamak)\n",
        "\n",
        "- **X ve Y dahil olmak üzere , X'den başlayıp Y'ye kadar Y dahil ve o aralıkta basamak kadar sayıya böler**\n",
        "\n",
        "- Yani ; **X ve Y dahil olacak şekilde X ile Y arasında Basamak değeri kadar sayı oluşturur.**"
      ]
    },
    {
      "cell_type": "code",
      "metadata": {
        "colab": {
          "base_uri": "https://localhost:8080/"
        },
        "id": "AxB5WBUbW_Ag",
        "outputId": "91907e43-9e62-469b-fa9b-72427ed23ef2"
      },
      "source": [
        "np.linspace(10,20,5)"
      ],
      "execution_count": null,
      "outputs": [
        {
          "output_type": "execute_result",
          "data": {
            "text/plain": [
              "array([10. , 12.5, 15. , 17.5, 20. ])"
            ]
          },
          "metadata": {},
          "execution_count": 53
        }
      ]
    },
    {
      "cell_type": "markdown",
      "metadata": {
        "id": "b-3d_NHpXVUr"
      },
      "source": [
        "##np.random.normal()"
      ]
    },
    {
      "cell_type": "code",
      "metadata": {
        "colab": {
          "base_uri": "https://localhost:8080/"
        },
        "id": "C3SavKJyXLl5",
        "outputId": "9b794bbc-7c26-4618-bf45-578d9ba844aa"
      },
      "source": [
        "np.random.normal(10,4,(3,4))"
      ],
      "execution_count": null,
      "outputs": [
        {
          "output_type": "execute_result",
          "data": {
            "text/plain": [
              "array([[ 7.03489555,  8.69279985, 12.25997801,  9.82053329],\n",
              "       [11.35740859, 10.37065339, 11.45141326,  8.48906246],\n",
              "       [12.54814232, 16.62509667, 11.51127882, 11.10510518]])"
            ]
          },
          "metadata": {},
          "execution_count": 54
        }
      ]
    },
    {
      "cell_type": "markdown",
      "metadata": {
        "id": "UWn3jOM2_sph"
      },
      "source": [
        "## np.random.randint(x,y)\n",
        "\n",
        "- **X dahil X'den Y'ye kadar Random int sayı üretir**"
      ]
    },
    {
      "cell_type": "code",
      "metadata": {
        "colab": {
          "base_uri": "https://localhost:8080/"
        },
        "id": "HRDK6QLt_zCD",
        "outputId": "93f7df3d-ac51-4625-c156-84e230a18b24"
      },
      "source": [
        "np.random.randint(0,10)"
      ],
      "execution_count": null,
      "outputs": [
        {
          "output_type": "execute_result",
          "data": {
            "text/plain": [
              "2"
            ]
          },
          "metadata": {},
          "execution_count": 8
        }
      ]
    },
    {
      "cell_type": "markdown",
      "metadata": {
        "id": "DU2HYJw1AL2m"
      },
      "source": [
        "- **İstersek Size Verebiliriz**"
      ]
    },
    {
      "cell_type": "code",
      "metadata": {
        "colab": {
          "base_uri": "https://localhost:8080/"
        },
        "id": "fVbSK92yAQ6I",
        "outputId": "46be6f43-1f4b-49eb-d565-0946fff655f7"
      },
      "source": [
        "np.random.randint(0,10,(3,5))"
      ],
      "execution_count": null,
      "outputs": [
        {
          "output_type": "execute_result",
          "data": {
            "text/plain": [
              "array([[2, 2, 7, 7, 9],\n",
              "       [2, 8, 9, 0, 2],\n",
              "       [1, 9, 4, 4, 2]])"
            ]
          },
          "metadata": {},
          "execution_count": 9
        }
      ]
    },
    {
      "cell_type": "markdown",
      "metadata": {
        "id": "ajRcl9uNA0k4"
      },
      "source": [
        "- **Eğer Başlangıç değeri vermezsek np başlangıç değerini 0 kabul eder.**\n",
        "- **Aşağıdaki örnekte 0'dan 10'a kadar size =10 yani 10 tane random int değer üret dedik**"
      ]
    },
    {
      "cell_type": "code",
      "metadata": {
        "colab": {
          "base_uri": "https://localhost:8080/"
        },
        "id": "cR_BFK-rAxW-",
        "outputId": "951291a4-cec3-4ef5-87d0-0efd66c54d26"
      },
      "source": [
        "np.random.randint(10,size = 10)"
      ],
      "execution_count": null,
      "outputs": [
        {
          "output_type": "execute_result",
          "data": {
            "text/plain": [
              "array([8, 7, 2, 0, 0, 8, 6, 1, 5, 5])"
            ]
          },
          "metadata": {},
          "execution_count": 11
        }
      ]
    },
    {
      "cell_type": "markdown",
      "metadata": {
        "id": "wC94UyIz6nlp"
      },
      "source": [
        "## Numpy Array Özellikleri\n",
        "\n",
        "- **ndim** = _Boyut Sayısı_\n",
        "- **Shape**= _Boyut Bilgisi_\n",
        "- **Size** = _Toplam Elaman Sayısı_\n",
        "- **dtype** = _Array Veri Tipi_"
      ]
    },
    {
      "cell_type": "code",
      "metadata": {
        "colab": {
          "base_uri": "https://localhost:8080/"
        },
        "id": "dql8vDjO6mdi",
        "outputId": "020d6e12-9354-4c60-fd33-32de7a6d1731"
      },
      "source": [
        "a = np.random.randint(10,size = 10)\n",
        "\n",
        "a"
      ],
      "execution_count": null,
      "outputs": [
        {
          "output_type": "execute_result",
          "data": {
            "text/plain": [
              "array([5, 5, 6, 9, 9, 5, 3, 9, 2, 9])"
            ]
          },
          "metadata": {},
          "execution_count": 12
        }
      ]
    },
    {
      "cell_type": "code",
      "metadata": {
        "colab": {
          "base_uri": "https://localhost:8080/"
        },
        "id": "AVtBnl9GCb_6",
        "outputId": "1df56c03-8724-4cde-c81b-f26da457ab90"
      },
      "source": [
        "print(f\"Boyut Sayısı = {a.ndim}\")\n",
        "print(f\"Boyut Bilgisi = {a.shape}\")\n",
        "print(f\"Toplam Elaman Sayısı = {a.size}\")\n",
        "print(f\"Array Veri Tipi = {a.dtype}\")"
      ],
      "execution_count": null,
      "outputs": [
        {
          "output_type": "stream",
          "name": "stdout",
          "text": [
            "Boyut Sayısı = 1\n",
            "Boyut Bilgisi = (10,)\n",
            "Toplam Elaman Sayısı = 10\n",
            "Array Veri Tipi = int64\n"
          ]
        }
      ]
    },
    {
      "cell_type": "code",
      "metadata": {
        "colab": {
          "base_uri": "https://localhost:8080/"
        },
        "id": "oVuTpqEeDCbj",
        "outputId": "b314c508-65fc-4caa-a61b-7419abfe0cda"
      },
      "source": [
        "b = np.random.randint(10, size = (3,5))\n",
        "\n",
        "b"
      ],
      "execution_count": null,
      "outputs": [
        {
          "output_type": "execute_result",
          "data": {
            "text/plain": [
              "array([[7, 5, 4, 1, 0],\n",
              "       [8, 1, 5, 0, 5],\n",
              "       [8, 3, 8, 0, 3]])"
            ]
          },
          "metadata": {},
          "execution_count": 14
        }
      ]
    },
    {
      "cell_type": "code",
      "metadata": {
        "colab": {
          "base_uri": "https://localhost:8080/"
        },
        "id": "B9iOiiouDL29",
        "outputId": "3c72b95d-7d83-48e9-86a1-6ccaefc16890"
      },
      "source": [
        "print(f\"Boyut Sayısı = {b.ndim}\")\n",
        "print(f\"Boyut Bilgisi = {b.shape}\")\n",
        "print(f\"Toplam Elaman Sayısı = {b.size}\")\n",
        "print(f\"Array Veri Tipi = {b.dtype}\")"
      ],
      "execution_count": null,
      "outputs": [
        {
          "output_type": "stream",
          "name": "stdout",
          "text": [
            "Boyut Sayısı = 2\n",
            "Boyut Bilgisi = (3, 5)\n",
            "Toplam Elaman Sayısı = 15\n",
            "Array Veri Tipi = int64\n"
          ]
        }
      ]
    },
    {
      "cell_type": "markdown",
      "metadata": {
        "id": "VUidyDXmHJuy"
      },
      "source": [
        "## Yeniden Şekillendirme - Reshape\n",
        "\n",
        "- **reshape() dizimizi 2 Boyutlu hale dönüştürür. Vektörden Matrise dönüştürür**"
      ]
    },
    {
      "cell_type": "code",
      "metadata": {
        "colab": {
          "base_uri": "https://localhost:8080/"
        },
        "id": "oWycC1WAHOjU",
        "outputId": "ab7e2fbc-5d05-4626-8c3e-ae7a32f1c4fa"
      },
      "source": [
        "np.arange(1,10)"
      ],
      "execution_count": null,
      "outputs": [
        {
          "output_type": "execute_result",
          "data": {
            "text/plain": [
              "array([1, 2, 3, 4, 5, 6, 7, 8, 9])"
            ]
          },
          "metadata": {},
          "execution_count": 16
        }
      ]
    },
    {
      "cell_type": "markdown",
      "metadata": {
        "id": "027FYtPKHgAJ"
      },
      "source": [
        "- **Yukarıdaki arrayımizi (3,3)'lük bir matrise çevirelim**"
      ]
    },
    {
      "cell_type": "code",
      "metadata": {
        "colab": {
          "base_uri": "https://localhost:8080/"
        },
        "id": "SakI8ocKHXSH",
        "outputId": "1acc323f-7c21-4ffe-9ba0-7c0f1044ad6b"
      },
      "source": [
        "np.arange(1,10).reshape((3,3))"
      ],
      "execution_count": null,
      "outputs": [
        {
          "output_type": "execute_result",
          "data": {
            "text/plain": [
              "array([[1, 2, 3],\n",
              "       [4, 5, 6],\n",
              "       [7, 8, 9]])"
            ]
          },
          "metadata": {},
          "execution_count": 18
        }
      ]
    },
    {
      "cell_type": "markdown",
      "metadata": {
        "id": "FxBciZDJJYEz"
      },
      "source": [
        "## Birleştirme - Concatenate\n",
        "\n",
        "- **axis parametresi eksenleri ifade eder.** \n",
        "   - **axis = 0 Satır bazlı birleştirme işlemi yapar.Default olarak axis = 0 gelir.**\n",
        "   - **axis = 1 Sütun bazlı birleştirme işlemi yapar.**"
      ]
    },
    {
      "cell_type": "code",
      "metadata": {
        "id": "PLdQUN22Jx-a"
      },
      "source": [
        "a = np.array([1,2,3])\n",
        "b = np.array([4,5,6])"
      ],
      "execution_count": null,
      "outputs": []
    },
    {
      "cell_type": "markdown",
      "metadata": {
        "id": "D8gvnhFpKGnS"
      },
      "source": [
        " - **a ve b dizilerini birleştirelim**"
      ]
    },
    {
      "cell_type": "code",
      "metadata": {
        "colab": {
          "base_uri": "https://localhost:8080/"
        },
        "id": "wY5xZNI1KC1B",
        "outputId": "550dedad-9323-4406-cb00-44aa62836148"
      },
      "source": [
        "np.concatenate([a,b])"
      ],
      "execution_count": null,
      "outputs": [
        {
          "output_type": "execute_result",
          "data": {
            "text/plain": [
              "array([1, 2, 3, 4, 5, 6])"
            ]
          },
          "metadata": {},
          "execution_count": 20
        }
      ]
    },
    {
      "cell_type": "markdown",
      "metadata": {
        "id": "ZlPHnssyKNJt"
      },
      "source": [
        "- **İki Boyutlu array oluşturalım**"
      ]
    },
    {
      "cell_type": "code",
      "metadata": {
        "colab": {
          "base_uri": "https://localhost:8080/"
        },
        "id": "Hr3-6zmbKr0W",
        "outputId": "ee0f765e-9744-4825-8e52-e15e50c02005"
      },
      "source": [
        "a = np.array([[1,2,3],\n",
        "             [4,5,6]])\n",
        "a"
      ],
      "execution_count": null,
      "outputs": [
        {
          "output_type": "execute_result",
          "data": {
            "text/plain": [
              "array([[1, 2, 3],\n",
              "       [4, 5, 6]])"
            ]
          },
          "metadata": {},
          "execution_count": 24
        }
      ]
    },
    {
      "cell_type": "code",
      "metadata": {
        "colab": {
          "base_uri": "https://localhost:8080/"
        },
        "id": "IKPdd-NeLCDW",
        "outputId": "76a8972a-d657-460b-ae01-6ad992a0d23e"
      },
      "source": [
        "np.concatenate([a,a])"
      ],
      "execution_count": null,
      "outputs": [
        {
          "output_type": "execute_result",
          "data": {
            "text/plain": [
              "array([[1, 2, 3],\n",
              "       [4, 5, 6],\n",
              "       [1, 2, 3],\n",
              "       [4, 5, 6]])"
            ]
          },
          "metadata": {},
          "execution_count": 25
        }
      ]
    },
    {
      "cell_type": "markdown",
      "metadata": {
        "id": "DoO15RfdLMrO"
      },
      "source": [
        "- **Sütun Bazlı Birleştirme İşlemi Yapalım**"
      ]
    },
    {
      "cell_type": "code",
      "metadata": {
        "colab": {
          "base_uri": "https://localhost:8080/"
        },
        "id": "rnAzqN5zLIK2",
        "outputId": "c29b0b02-34e9-476c-9128-f4d7fdc59ea0"
      },
      "source": [
        "np.concatenate([a,a], axis=1)"
      ],
      "execution_count": null,
      "outputs": [
        {
          "output_type": "execute_result",
          "data": {
            "text/plain": [
              "array([[1, 2, 3, 1, 2, 3],\n",
              "       [4, 5, 6, 4, 5, 6]])"
            ]
          },
          "metadata": {},
          "execution_count": 26
        }
      ]
    },
    {
      "cell_type": "markdown",
      "metadata": {
        "id": "N0wDhcwyMBt-"
      },
      "source": [
        "## Array Ayırma - Split"
      ]
    },
    {
      "cell_type": "code",
      "metadata": {
        "colab": {
          "base_uri": "https://localhost:8080/"
        },
        "id": "sqTsT9OhMFDB",
        "outputId": "de6688ff-90cb-45c4-b01a-bf607a8a7e18"
      },
      "source": [
        "x = np.array([1,2,3,99,99,3,2,1])\n",
        "\n",
        "x"
      ],
      "execution_count": null,
      "outputs": [
        {
          "output_type": "execute_result",
          "data": {
            "text/plain": [
              "array([ 1,  2,  3, 99, 99,  3,  2,  1])"
            ]
          },
          "metadata": {},
          "execution_count": 27
        }
      ]
    },
    {
      "cell_type": "markdown",
      "metadata": {
        "id": "fmYHmLJzMNkd"
      },
      "source": [
        "- **x dizisini 3 parçaya bölerek ayıracağız**\n",
        "- **[3,5] : Buradaki 3 indexi ifade eder. İlk 3 indexe kadar al dedik ayır dedik ve [1,2,3] değerini aldı.**\n",
        "- **Daha Sonra 5 dedik yani 5. indexe göre al dedik ve [99,99] aldı**\n",
        "- **[3,2,1] değerleri de tek kaldığı için onları da ayırmış olduk**\n",
        "\n",
        "- **Biz [3,5] diyerek 2 index verdiğimizden dolayı 3 tane ayırma işlemi yapıyor. Eğer 3 tane index verseydik 4 tane ayırma işlemi yapardı**"
      ]
    },
    {
      "cell_type": "code",
      "metadata": {
        "colab": {
          "base_uri": "https://localhost:8080/"
        },
        "id": "6dFX9Af6MSbq",
        "outputId": "08f7fbd6-7323-404e-81e8-cdd8c9fb4f10"
      },
      "source": [
        "np.split(x,[3,5])"
      ],
      "execution_count": null,
      "outputs": [
        {
          "output_type": "execute_result",
          "data": {
            "text/plain": [
              "[array([1, 2, 3]), array([99, 99]), array([3, 2, 1])]"
            ]
          },
          "metadata": {},
          "execution_count": 28
        }
      ]
    },
    {
      "cell_type": "markdown",
      "metadata": {
        "id": "cBwKZfxtNr3Y"
      },
      "source": [
        "- **Ayırdığımız 3 tane array'ı tek tek almak için şu şekilde işlem yaparız**"
      ]
    },
    {
      "cell_type": "code",
      "metadata": {
        "id": "EJ6xm5KGOF00"
      },
      "source": [
        "a,b,c = np.split(x,[3,5])"
      ],
      "execution_count": null,
      "outputs": []
    },
    {
      "cell_type": "code",
      "metadata": {
        "colab": {
          "base_uri": "https://localhost:8080/"
        },
        "id": "0h3-db3lOJ4E",
        "outputId": "60895334-517e-45a3-8bac-6fc1d968c390"
      },
      "source": [
        "a"
      ],
      "execution_count": null,
      "outputs": [
        {
          "output_type": "execute_result",
          "data": {
            "text/plain": [
              "array([1, 2, 3])"
            ]
          },
          "metadata": {},
          "execution_count": 36
        }
      ]
    },
    {
      "cell_type": "code",
      "metadata": {
        "colab": {
          "base_uri": "https://localhost:8080/"
        },
        "id": "7alXQqG9ONav",
        "outputId": "85e69625-6319-4f45-b4c7-664566a71a8b"
      },
      "source": [
        "b"
      ],
      "execution_count": null,
      "outputs": [
        {
          "output_type": "execute_result",
          "data": {
            "text/plain": [
              "array([99, 99])"
            ]
          },
          "metadata": {},
          "execution_count": 37
        }
      ]
    },
    {
      "cell_type": "code",
      "metadata": {
        "colab": {
          "base_uri": "https://localhost:8080/"
        },
        "id": "8cdd2eQPOO4w",
        "outputId": "588cd198-0d4e-4f4a-a741-bf41f50d60e4"
      },
      "source": [
        "c"
      ],
      "execution_count": null,
      "outputs": [
        {
          "output_type": "execute_result",
          "data": {
            "text/plain": [
              "array([3, 2, 1])"
            ]
          },
          "metadata": {},
          "execution_count": 38
        }
      ]
    },
    {
      "cell_type": "markdown",
      "metadata": {
        "id": "ORWOPJfgO3sj"
      },
      "source": [
        "- **Yukarıda gördüğünüz gibi ayırdığımız arrayları a,b,c değerlerine atayarak onları tek bir array olarak kullanabiliyoruz**"
      ]
    },
    {
      "cell_type": "markdown",
      "metadata": {
        "id": "lx5x6fbPPJf_"
      },
      "source": [
        "- **_İki Boyutlu Array_**"
      ]
    },
    {
      "cell_type": "code",
      "metadata": {
        "colab": {
          "base_uri": "https://localhost:8080/"
        },
        "id": "eghkuOYvPBxv",
        "outputId": "54667f38-34c2-45da-9c05-098a755ce9aa"
      },
      "source": [
        "m = np.arange(16).reshape((4,4))\n",
        "m"
      ],
      "execution_count": null,
      "outputs": [
        {
          "output_type": "execute_result",
          "data": {
            "text/plain": [
              "array([[ 0,  1,  2,  3],\n",
              "       [ 4,  5,  6,  7],\n",
              "       [ 8,  9, 10, 11],\n",
              "       [12, 13, 14, 15]])"
            ]
          },
          "metadata": {},
          "execution_count": 41
        }
      ]
    },
    {
      "cell_type": "markdown",
      "metadata": {
        "id": "p_Zb9VwnPhOn"
      },
      "source": [
        "- **Oluşturduğumuz 2 Boyutlu arrayımızı ayıralım"
      ]
    },
    {
      "cell_type": "code",
      "metadata": {
        "colab": {
          "base_uri": "https://localhost:8080/"
        },
        "id": "0sxTNT3nPdBL",
        "outputId": "208bc67e-f877-47bb-fd2d-c93cf3a09b17"
      },
      "source": [
        "np.vsplit(m,[2])"
      ],
      "execution_count": null,
      "outputs": [
        {
          "output_type": "execute_result",
          "data": {
            "text/plain": [
              "[array([[0, 1, 2, 3],\n",
              "        [4, 5, 6, 7]]), array([[ 8,  9, 10, 11],\n",
              "        [12, 13, 14, 15]])]"
            ]
          },
          "metadata": {},
          "execution_count": 42
        }
      ]
    },
    {
      "cell_type": "markdown",
      "metadata": {
        "id": "_LghgcnoQDUs"
      },
      "source": [
        "- **Yukarıda gördüğümüz gibi 2 Boyutlu arrayımızı 2'ye \"Yatayda\" ayırdık.**\n",
        "\n",
        "- **Yine ayırdığımız Arrayları tek bir arraymış gibi atayalım**"
      ]
    },
    {
      "cell_type": "code",
      "metadata": {
        "colab": {
          "base_uri": "https://localhost:8080/"
        },
        "id": "nsK9skWuQK_C",
        "outputId": "b1c79e8a-14d3-45b3-89c5-56aa4b5deb9e"
      },
      "source": [
        "alt,üst = np.vsplit(m,[2])\n",
        "\n",
        "alt"
      ],
      "execution_count": null,
      "outputs": [
        {
          "output_type": "execute_result",
          "data": {
            "text/plain": [
              "array([[0, 1, 2, 3],\n",
              "       [4, 5, 6, 7]])"
            ]
          },
          "metadata": {},
          "execution_count": 43
        }
      ]
    },
    {
      "cell_type": "code",
      "metadata": {
        "colab": {
          "base_uri": "https://localhost:8080/"
        },
        "id": "gA32ARbPQRLW",
        "outputId": "36742804-6833-4d51-f0f1-19da8907a357"
      },
      "source": [
        "üst"
      ],
      "execution_count": null,
      "outputs": [
        {
          "output_type": "execute_result",
          "data": {
            "text/plain": [
              "array([[ 8,  9, 10, 11],\n",
              "       [12, 13, 14, 15]])"
            ]
          },
          "metadata": {},
          "execution_count": 44
        }
      ]
    },
    {
      "cell_type": "markdown",
      "metadata": {
        "id": "s2PgNjtGQUJ6"
      },
      "source": [
        "- **2 Boyutlu arrayımızı \"Dikeyde\" ayıralım**"
      ]
    },
    {
      "cell_type": "code",
      "metadata": {
        "colab": {
          "base_uri": "https://localhost:8080/"
        },
        "id": "9BQw3RRLQnCY",
        "outputId": "e6cb44f8-c395-4f85-fb3a-f3216ab0a926"
      },
      "source": [
        "np.hsplit(m,[2])"
      ],
      "execution_count": null,
      "outputs": [
        {
          "output_type": "execute_result",
          "data": {
            "text/plain": [
              "[array([[ 0,  1],\n",
              "        [ 4,  5],\n",
              "        [ 8,  9],\n",
              "        [12, 13]]), array([[ 2,  3],\n",
              "        [ 6,  7],\n",
              "        [10, 11],\n",
              "        [14, 15]])]"
            ]
          },
          "metadata": {},
          "execution_count": 45
        }
      ]
    },
    {
      "cell_type": "markdown",
      "metadata": {
        "id": "_AgbLlmRQsxe"
      },
      "source": [
        "- **2 parçaya Dikeyde ayırdığımız arrayları tek tek başka değere atayalım**"
      ]
    },
    {
      "cell_type": "code",
      "metadata": {
        "colab": {
          "base_uri": "https://localhost:8080/"
        },
        "id": "Dhuo8FvVQ1XJ",
        "outputId": "64590281-eb63-43da-b7b7-3a2895ff70ec"
      },
      "source": [
        "sağ,sol = np.hsplit(m,[2])\n",
        "\n",
        "sağ"
      ],
      "execution_count": null,
      "outputs": [
        {
          "output_type": "execute_result",
          "data": {
            "text/plain": [
              "array([[ 0,  1],\n",
              "       [ 4,  5],\n",
              "       [ 8,  9],\n",
              "       [12, 13]])"
            ]
          },
          "metadata": {},
          "execution_count": 46
        }
      ]
    },
    {
      "cell_type": "code",
      "metadata": {
        "colab": {
          "base_uri": "https://localhost:8080/"
        },
        "id": "2L2GRAk9Q-PF",
        "outputId": "4a6ccd69-501e-4901-a136-dc3d3325a32c"
      },
      "source": [
        "sol"
      ],
      "execution_count": null,
      "outputs": [
        {
          "output_type": "execute_result",
          "data": {
            "text/plain": [
              "array([[ 2,  3],\n",
              "       [ 6,  7],\n",
              "       [10, 11],\n",
              "       [14, 15]])"
            ]
          },
          "metadata": {},
          "execution_count": 47
        }
      ]
    },
    {
      "cell_type": "markdown",
      "metadata": {
        "id": "4jJs_aQySg7L"
      },
      "source": [
        "## Sıralama - Sort"
      ]
    },
    {
      "cell_type": "code",
      "metadata": {
        "colab": {
          "base_uri": "https://localhost:8080/"
        },
        "id": "Ry6_YgxxSj_M",
        "outputId": "dfd1f3fb-30a8-41d6-fbee-ca518d059eab"
      },
      "source": [
        "v = np.array([2,1,4,3,5])\n",
        "\n",
        "v"
      ],
      "execution_count": null,
      "outputs": [
        {
          "output_type": "execute_result",
          "data": {
            "text/plain": [
              "array([2, 1, 4, 3, 5])"
            ]
          },
          "metadata": {},
          "execution_count": 48
        }
      ]
    },
    {
      "cell_type": "markdown",
      "metadata": {
        "id": "Fia-5hhzS8Uk"
      },
      "source": [
        "- **Dizimiz içerisindeki değerleri küçükten büyüğe doğru sıralar**\n",
        "- **Ama dizimizin yapısını değiştirmez**"
      ]
    },
    {
      "cell_type": "code",
      "metadata": {
        "colab": {
          "base_uri": "https://localhost:8080/"
        },
        "id": "lfN5_l-XSqbg",
        "outputId": "7fb8a2c7-7468-4f3c-d295-2c093794abc3"
      },
      "source": [
        "np.sort(v)"
      ],
      "execution_count": null,
      "outputs": [
        {
          "output_type": "execute_result",
          "data": {
            "text/plain": [
              "array([1, 2, 3, 4, 5])"
            ]
          },
          "metadata": {},
          "execution_count": 54
        }
      ]
    },
    {
      "cell_type": "code",
      "metadata": {
        "colab": {
          "base_uri": "https://localhost:8080/"
        },
        "id": "v6btVlB8TGnf",
        "outputId": "64f80043-fad5-47bb-899e-75253b7c0d96"
      },
      "source": [
        "v"
      ],
      "execution_count": null,
      "outputs": [
        {
          "output_type": "execute_result",
          "data": {
            "text/plain": [
              "array([2, 1, 4, 3, 5])"
            ]
          },
          "metadata": {},
          "execution_count": 55
        }
      ]
    },
    {
      "cell_type": "markdown",
      "metadata": {
        "id": "867Sj5PjTH4H"
      },
      "source": [
        "- **Yukarıda gördüğümüz gibi dizimizin yapısı değişmedi.Şimdi _sort metodu_ ile küçükten büyüğe sıralayrak  dizimizin yapısını değiştirelim**"
      ]
    },
    {
      "cell_type": "code",
      "metadata": {
        "colab": {
          "base_uri": "https://localhost:8080/"
        },
        "id": "qCxGJWGMTVqF",
        "outputId": "ed2231c2-1af3-4a1f-83b3-936a2167b606"
      },
      "source": [
        "v.sort()\n",
        "\n",
        "v"
      ],
      "execution_count": null,
      "outputs": [
        {
          "output_type": "execute_result",
          "data": {
            "text/plain": [
              "array([1, 2, 3, 4, 5])"
            ]
          },
          "metadata": {},
          "execution_count": 56
        }
      ]
    },
    {
      "cell_type": "markdown",
      "metadata": {
        "id": "gyZapn4H1mey"
      },
      "source": [
        "## Index Elemanlarına Erişmek\n"
      ]
    },
    {
      "cell_type": "code",
      "metadata": {
        "colab": {
          "base_uri": "https://localhost:8080/"
        },
        "id": "T1UH36Rx1v8Q",
        "outputId": "90a3038b-20c2-46ca-c0ba-5d9be8f75cf1"
      },
      "source": [
        "m = np.random.randint(10, size = (3,5))\n",
        "\n",
        "m"
      ],
      "execution_count": null,
      "outputs": [
        {
          "output_type": "execute_result",
          "data": {
            "text/plain": [
              "array([[0, 5, 3, 3, 8],\n",
              "       [9, 4, 0, 6, 7],\n",
              "       [8, 3, 2, 1, 1]])"
            ]
          },
          "metadata": {},
          "execution_count": 3
        }
      ]
    },
    {
      "cell_type": "markdown",
      "metadata": {
        "id": "IOfigZnP2ZGM"
      },
      "source": [
        "- **Oluşturduğumuz 2 Boyutlu Arrayın 0. Satırında 0.Sütunda ki değeri alalım** "
      ]
    },
    {
      "cell_type": "code",
      "metadata": {
        "colab": {
          "base_uri": "https://localhost:8080/"
        },
        "id": "ez5tK6sM2H1L",
        "outputId": "8aacaf6c-9cc7-454f-e083-a86d5b04a2c3"
      },
      "source": [
        "m[0,0]"
      ],
      "execution_count": null,
      "outputs": [
        {
          "output_type": "execute_result",
          "data": {
            "text/plain": [
              "0"
            ]
          },
          "metadata": {},
          "execution_count": 6
        }
      ]
    },
    {
      "cell_type": "markdown",
      "metadata": {
        "id": "M1_7iaKI2vFV"
      },
      "source": [
        "- **1. Satırda, 1. Sütununda ki değeri alalım**"
      ]
    },
    {
      "cell_type": "code",
      "metadata": {
        "colab": {
          "base_uri": "https://localhost:8080/"
        },
        "id": "8lrRGobA3C-d",
        "outputId": "2a006676-6574-434d-8635-6e6129843935"
      },
      "source": [
        "m[1,1]"
      ],
      "execution_count": null,
      "outputs": [
        {
          "output_type": "execute_result",
          "data": {
            "text/plain": [
              "4"
            ]
          },
          "metadata": {},
          "execution_count": 7
        }
      ]
    },
    {
      "cell_type": "markdown",
      "metadata": {
        "id": "crZfdAsi3Nb9"
      },
      "source": [
        "- **1. Satırda 4.Sütunda ki değeri alalım**"
      ]
    },
    {
      "cell_type": "code",
      "metadata": {
        "colab": {
          "base_uri": "https://localhost:8080/"
        },
        "id": "guGNAbjv3Vrh",
        "outputId": "1a72cbcb-bffe-4698-a72d-5515d57ff2e3"
      },
      "source": [
        "m[1,4]"
      ],
      "execution_count": null,
      "outputs": [
        {
          "output_type": "execute_result",
          "data": {
            "text/plain": [
              "7"
            ]
          },
          "metadata": {},
          "execution_count": 9
        }
      ]
    },
    {
      "cell_type": "markdown",
      "metadata": {
        "id": "O3upM6o-3iii"
      },
      "source": [
        "- **Arrayımızda ki değerleri değiştirebiliriz**\n",
        "- **Örneğin yukarıda 1. Satırda 4. Sütunda ki 7 olan değeri 99 yapalım**"
      ]
    },
    {
      "cell_type": "code",
      "metadata": {
        "colab": {
          "base_uri": "https://localhost:8080/"
        },
        "id": "L1Xag02M3vxi",
        "outputId": "bcdaa259-7da4-41d9-f4ef-55fbd9fe4498"
      },
      "source": [
        "m[1,4] = 99 \n",
        "\n",
        "m"
      ],
      "execution_count": null,
      "outputs": [
        {
          "output_type": "execute_result",
          "data": {
            "text/plain": [
              "array([[ 0,  5,  3,  3,  8],\n",
              "       [ 9,  4,  0,  6, 99],\n",
              "       [ 8,  3,  2,  1,  1]])"
            ]
          },
          "metadata": {},
          "execution_count": 10
        }
      ]
    },
    {
      "cell_type": "markdown",
      "metadata": {
        "id": "vU3tYAtrBEvV"
      },
      "source": [
        "## Slicing ile Elemanlara Erişmek (Array Alt Kümesine Erişmek)"
      ]
    },
    {
      "cell_type": "code",
      "metadata": {
        "colab": {
          "base_uri": "https://localhost:8080/"
        },
        "id": "nZ7NfpGABKHz",
        "outputId": "75247e2f-87c3-42a4-999f-4f792205e908"
      },
      "source": [
        "a = np.arange(20,30)\n",
        "\n",
        "a"
      ],
      "execution_count": null,
      "outputs": [
        {
          "output_type": "execute_result",
          "data": {
            "text/plain": [
              "array([20, 21, 22, 23, 24, 25, 26, 27, 28, 29])"
            ]
          },
          "metadata": {},
          "execution_count": 12
        }
      ]
    },
    {
      "cell_type": "markdown",
      "metadata": {
        "id": "Z-fFUkrnBUBv"
      },
      "source": [
        "- **0. indexten 3. indexe kadar git**"
      ]
    },
    {
      "cell_type": "code",
      "metadata": {
        "colab": {
          "base_uri": "https://localhost:8080/"
        },
        "id": "QDqEXu5yBX8d",
        "outputId": "a42a383c-6ea2-44f5-9878-04261fb4134a"
      },
      "source": [
        "a[0:3]"
      ],
      "execution_count": null,
      "outputs": [
        {
          "output_type": "execute_result",
          "data": {
            "text/plain": [
              "array([20, 21, 22])"
            ]
          },
          "metadata": {},
          "execution_count": 13
        }
      ]
    },
    {
      "cell_type": "markdown",
      "metadata": {
        "id": "jxwkZktBBc3B"
      },
      "source": [
        "- **3. indexten son indexe kadar git**"
      ]
    },
    {
      "cell_type": "code",
      "metadata": {
        "colab": {
          "base_uri": "https://localhost:8080/"
        },
        "id": "k1q4Ae7EBgOV",
        "outputId": "3f1f2648-334a-4f7b-d8f1-f9ec89cc3e4a"
      },
      "source": [
        "a[3:]"
      ],
      "execution_count": null,
      "outputs": [
        {
          "output_type": "execute_result",
          "data": {
            "text/plain": [
              "array([23, 24, 25, 26, 27, 28, 29])"
            ]
          },
          "metadata": {},
          "execution_count": 14
        }
      ]
    },
    {
      "cell_type": "markdown",
      "metadata": {
        "id": "RLJQJiv7BpHi"
      },
      "source": [
        "- **1. indexten başlayarak son indexe kadar 2'şer 2'şer gitsin**"
      ]
    },
    {
      "cell_type": "code",
      "metadata": {
        "colab": {
          "base_uri": "https://localhost:8080/"
        },
        "id": "o6OFtkPcBveq",
        "outputId": "5d8022c5-8064-4bfd-f1fc-c7f70bbd9396"
      },
      "source": [
        "a[1::2]"
      ],
      "execution_count": null,
      "outputs": [
        {
          "output_type": "execute_result",
          "data": {
            "text/plain": [
              "array([21, 23, 25, 27, 29])"
            ]
          },
          "metadata": {},
          "execution_count": 15
        }
      ]
    },
    {
      "cell_type": "markdown",
      "metadata": {
        "id": "SRdmDCX2B56Z"
      },
      "source": [
        "###2 Boyutlu Slice İşlemleri\n",
        "\n",
        "- Slice işlemlerini 2 boyutlu Array'lerde gerçekleştireceğimiz için, **İşlemlerimizi \",(virgül) \" aracılığıyla satır ve sütun bazında yapacağız.**\n",
        "\n",
        "   -  **m [ : , : ]** = Virgülün solunda ki işlemler **Satır üzerinde**,\n",
        "   Virgülün Sağındaki işlemler ise **Sütun üzerinde** olur."
      ]
    },
    {
      "cell_type": "code",
      "metadata": {
        "colab": {
          "base_uri": "https://localhost:8080/"
        },
        "id": "IxqkQPE3B9Ye",
        "outputId": "1df08c6a-5b3a-431d-e883-1b28ff435e2b"
      },
      "source": [
        "m = np.random.randint(10,size = (5,5))\n",
        "\n",
        "m"
      ],
      "execution_count": null,
      "outputs": [
        {
          "output_type": "execute_result",
          "data": {
            "text/plain": [
              "array([[8, 8, 7, 3, 5],\n",
              "       [9, 9, 5, 8, 0],\n",
              "       [0, 3, 7, 1, 5],\n",
              "       [7, 1, 2, 3, 5],\n",
              "       [8, 6, 2, 6, 5]])"
            ]
          },
          "metadata": {},
          "execution_count": 16
        }
      ]
    },
    {
      "cell_type": "markdown",
      "metadata": {
        "id": "ggXYt-ZkCOAg"
      },
      "source": [
        "- **Tüm satırları seçip, 0. sütunu alalım**\n",
        "- Yani **İlk Sütuna** erişmiş olacağız."
      ]
    },
    {
      "cell_type": "code",
      "metadata": {
        "colab": {
          "base_uri": "https://localhost:8080/"
        },
        "id": "-21o-GxMCaGI",
        "outputId": "f939f9d6-5151-48a7-cadf-f411756418bb"
      },
      "source": [
        "m[:,0]"
      ],
      "execution_count": null,
      "outputs": [
        {
          "output_type": "execute_result",
          "data": {
            "text/plain": [
              "array([8, 9, 0, 7, 8])"
            ]
          },
          "metadata": {},
          "execution_count": 17
        }
      ]
    },
    {
      "cell_type": "markdown",
      "metadata": {
        "id": "1kEUGO5mCl2F"
      },
      "source": [
        "- **Şimdi ise Tüm Sütunları Seçip, 0. Satırı alalım**\n",
        "- Yani **İlk Satıra** erişmiş olacağız"
      ]
    },
    {
      "cell_type": "code",
      "metadata": {
        "colab": {
          "base_uri": "https://localhost:8080/"
        },
        "id": "COoIKfpKDlDh",
        "outputId": "4772965b-e0fb-46b4-ecda-3f68900c9022"
      },
      "source": [
        "m[0,:]"
      ],
      "execution_count": null,
      "outputs": [
        {
          "output_type": "execute_result",
          "data": {
            "text/plain": [
              "array([8, 8, 7, 3, 5])"
            ]
          },
          "metadata": {},
          "execution_count": 18
        }
      ]
    },
    {
      "cell_type": "markdown",
      "metadata": {
        "id": "JSh6ll4GD_zP"
      },
      "source": [
        "- **Hem Satırla,Hem de Sütunlara Birlikte erişip belirli Elemanları seçelim**\n",
        "- **O. Satırdan 2.indexteki Satırı al, 0. indexte ki Sütundan 3. indexte ki sütuna kadar alalım**"
      ]
    },
    {
      "cell_type": "code",
      "metadata": {
        "colab": {
          "base_uri": "https://localhost:8080/"
        },
        "id": "MpuQx4IbEav9",
        "outputId": "6dccdf17-f6a4-4eba-cc90-e882c178aaf6"
      },
      "source": [
        "m[0:2,0:3]"
      ],
      "execution_count": null,
      "outputs": [
        {
          "output_type": "execute_result",
          "data": {
            "text/plain": [
              "array([[8, 8, 7],\n",
              "       [9, 9, 5]])"
            ]
          },
          "metadata": {},
          "execution_count": 19
        }
      ]
    },
    {
      "cell_type": "markdown",
      "metadata": {
        "id": "gD3SiejlEvM2"
      },
      "source": [
        "- **Tüm Satırları , ilk 2 sütunu alalım**"
      ]
    },
    {
      "cell_type": "code",
      "metadata": {
        "colab": {
          "base_uri": "https://localhost:8080/"
        },
        "id": "5DADRRjbE0Nb",
        "outputId": "ebf31451-7b29-41b7-eb05-aacb86877513"
      },
      "source": [
        "m[:,0:2]"
      ],
      "execution_count": null,
      "outputs": [
        {
          "output_type": "execute_result",
          "data": {
            "text/plain": [
              "array([[8, 8],\n",
              "       [9, 9],\n",
              "       [0, 3],\n",
              "       [7, 1],\n",
              "       [8, 6]])"
            ]
          },
          "metadata": {},
          "execution_count": 20
        }
      ]
    },
    {
      "cell_type": "markdown",
      "metadata": {
        "id": "K2fHcLXgG7wV"
      },
      "source": [
        "## Fancy Index ile Elemanlara Erişmek"
      ]
    },
    {
      "cell_type": "code",
      "metadata": {
        "id": "z6vPqCRDHAMx",
        "colab": {
          "base_uri": "https://localhost:8080/"
        },
        "outputId": "ec0f162d-dbde-4615-f5ec-22f9171f0dee"
      },
      "source": [
        "v = np.arange(0,30,3)\n",
        "\n",
        "v"
      ],
      "execution_count": null,
      "outputs": [
        {
          "output_type": "execute_result",
          "data": {
            "text/plain": [
              "array([ 0,  3,  6,  9, 12, 15, 18, 21, 24, 27])"
            ]
          },
          "metadata": {},
          "execution_count": 2
        }
      ]
    },
    {
      "cell_type": "markdown",
      "metadata": {
        "id": "kikwPu250cxc"
      },
      "source": [
        "- **v arrayının 1. indexindeki elemana ulaşalım**"
      ]
    },
    {
      "cell_type": "code",
      "metadata": {
        "colab": {
          "base_uri": "https://localhost:8080/"
        },
        "id": "t2WHi04e0VsS",
        "outputId": "df0dfa44-b2f7-4b67-80e4-0c85e86f1e3d"
      },
      "source": [
        "v[1]"
      ],
      "execution_count": null,
      "outputs": [
        {
          "output_type": "execute_result",
          "data": {
            "text/plain": [
              "3"
            ]
          },
          "metadata": {},
          "execution_count": 3
        }
      ]
    },
    {
      "cell_type": "markdown",
      "metadata": {
        "id": "1N7bvgRQ0m9U"
      },
      "source": [
        "-  **v arrayının 3. indexindeki elemana ulaşalım**"
      ]
    },
    {
      "cell_type": "code",
      "metadata": {
        "colab": {
          "base_uri": "https://localhost:8080/"
        },
        "id": "_rftY1eo0Xhl",
        "outputId": "9370ec33-0ad8-4c82-a6d7-06d6c3f5eea3"
      },
      "source": [
        "v[3]"
      ],
      "execution_count": null,
      "outputs": [
        {
          "output_type": "execute_result",
          "data": {
            "text/plain": [
              "9"
            ]
          },
          "metadata": {},
          "execution_count": 4
        }
      ]
    },
    {
      "cell_type": "markdown",
      "metadata": {
        "id": "3r6ntKwi0pF4"
      },
      "source": [
        "- **v arrayının 5. indexindeki elemana ulaşalım**"
      ]
    },
    {
      "cell_type": "code",
      "metadata": {
        "colab": {
          "base_uri": "https://localhost:8080/"
        },
        "id": "a9SnS4bs0Y_0",
        "outputId": "ecb4a904-585e-40a9-f656-fb0125b0f714"
      },
      "source": [
        "v[5]"
      ],
      "execution_count": null,
      "outputs": [
        {
          "output_type": "execute_result",
          "data": {
            "text/plain": [
              "15"
            ]
          },
          "metadata": {},
          "execution_count": 5
        }
      ]
    },
    {
      "cell_type": "code",
      "metadata": {
        "colab": {
          "base_uri": "https://localhost:8080/"
        },
        "id": "g34XtFH2001R",
        "outputId": "c58b0306-9b0d-4543-cefe-7c594c92bca7"
      },
      "source": [
        "[v[1],v[3],v[5]]"
      ],
      "execution_count": null,
      "outputs": [
        {
          "output_type": "execute_result",
          "data": {
            "text/plain": [
              "[3, 9, 15]"
            ]
          },
          "metadata": {},
          "execution_count": 6
        }
      ]
    },
    {
      "cell_type": "markdown",
      "metadata": {
        "id": "a0eXlA766Ufw"
      },
      "source": [
        "- Liste oluşturuyoruz.Bu listede v arrayınden almak istediğimiz değerlerin indexleri bulunuyor"
      ]
    },
    {
      "cell_type": "code",
      "metadata": {
        "colab": {
          "base_uri": "https://localhost:8080/"
        },
        "id": "h14ba13v6FFB",
        "outputId": "095637a4-7a22-40e7-f7c4-69b84a00d2e8"
      },
      "source": [
        "al_getir = [1,3,5]\n",
        "\n",
        "al_getir"
      ],
      "execution_count": null,
      "outputs": [
        {
          "output_type": "execute_result",
          "data": {
            "text/plain": [
              "[1, 3, 5]"
            ]
          },
          "metadata": {},
          "execution_count": 7
        }
      ]
    },
    {
      "cell_type": "markdown",
      "metadata": {
        "id": "62RhiRzb6b4U"
      },
      "source": [
        "- **İçerisinde V arrayından almak istediğimiz elemanların index değerleri bulunana al_getir listesini V array içerisinde yazarsak bize o indexteki değerleri verir . Aşağıda gördüğümüz gibi**"
      ]
    },
    {
      "cell_type": "code",
      "metadata": {
        "colab": {
          "base_uri": "https://localhost:8080/"
        },
        "id": "3H4wUx6T6Kl0",
        "outputId": "d6a876c1-f8d5-499e-c862-c5b9ede98617"
      },
      "source": [
        "v[al_getir]"
      ],
      "execution_count": null,
      "outputs": [
        {
          "output_type": "execute_result",
          "data": {
            "text/plain": [
              "array([ 3,  9, 15])"
            ]
          },
          "metadata": {},
          "execution_count": 8
        }
      ]
    },
    {
      "cell_type": "markdown",
      "metadata": {
        "id": "7gtavRJA6x4_"
      },
      "source": [
        "### 2 Boyutta Fancy İşlemi"
      ]
    },
    {
      "cell_type": "code",
      "metadata": {
        "colab": {
          "base_uri": "https://localhost:8080/"
        },
        "id": "IPyFQQg560v6",
        "outputId": "24db37da-ef66-4a11-e5b4-00fc5ed776da"
      },
      "source": [
        "m = np.arange(9).reshape((3,3))\n",
        "\n",
        "m"
      ],
      "execution_count": null,
      "outputs": [
        {
          "output_type": "execute_result",
          "data": {
            "text/plain": [
              "array([[0, 1, 2],\n",
              "       [3, 4, 5],\n",
              "       [6, 7, 8]])"
            ]
          },
          "metadata": {},
          "execution_count": 9
        }
      ]
    },
    {
      "cell_type": "code",
      "metadata": {
        "colab": {
          "base_uri": "https://localhost:8080/"
        },
        "id": "mr5H5K677kOn",
        "outputId": "adb7d570-0733-4991-e22a-acdaaec29add"
      },
      "source": [
        "satır = np.array([0,1])\n",
        "sütun = np.array([1,2])\n",
        "\n",
        "satır, sütun"
      ],
      "execution_count": null,
      "outputs": [
        {
          "output_type": "execute_result",
          "data": {
            "text/plain": [
              "(array([0, 1]), array([1, 2]))"
            ]
          },
          "metadata": {},
          "execution_count": 11
        }
      ]
    },
    {
      "cell_type": "code",
      "metadata": {
        "colab": {
          "base_uri": "https://localhost:8080/"
        },
        "id": "oXjThB1c8hdJ",
        "outputId": "a2afedff-680b-4bb6-8731-b9dc226311ba"
      },
      "source": [
        "m[satır,sütun]"
      ],
      "execution_count": null,
      "outputs": [
        {
          "output_type": "execute_result",
          "data": {
            "text/plain": [
              "array([1, 5])"
            ]
          },
          "metadata": {},
          "execution_count": 12
        }
      ]
    },
    {
      "cell_type": "markdown",
      "metadata": {
        "id": "-cECYM6H9YMu"
      },
      "source": [
        "## Koşullu Eleman İşlemleri\n",
        "\n"
      ]
    },
    {
      "cell_type": "code",
      "metadata": {
        "colab": {
          "base_uri": "https://localhost:8080/"
        },
        "id": "1j_7E7o99bII",
        "outputId": "1918f81b-6e16-4135-b232-90813ddbe02a"
      },
      "source": [
        "v = np.array([1,2,3,4,5])\n",
        "\n",
        "v"
      ],
      "execution_count": null,
      "outputs": [
        {
          "output_type": "execute_result",
          "data": {
            "text/plain": [
              "array([1, 2, 3, 4, 5])"
            ]
          },
          "metadata": {},
          "execution_count": 13
        }
      ]
    },
    {
      "cell_type": "markdown",
      "metadata": {
        "id": "RdpSUxxV-PTh"
      },
      "source": [
        "- **Karşılaştırma operatörleri ile belirli işlemler gerçekleştireceğiz**\n",
        "\n",
        "- **Örneğin, v Arrayının içersindeki değerlerin 5'den büyük olup olmadığını sorgulayalım**\n",
        "\n",
        "- **Bize True,False sonuçlarını bir liste dönecek.**\n",
        "\n",
        "- **SORGULAMA İŞLEMİ YAPACAĞIZ**"
      ]
    },
    {
      "cell_type": "code",
      "metadata": {
        "colab": {
          "base_uri": "https://localhost:8080/"
        },
        "id": "rcO6SHyo-oH7",
        "outputId": "76934e14-fe64-43d4-c2ab-d08ecac7f680"
      },
      "source": [
        "v > 5"
      ],
      "execution_count": null,
      "outputs": [
        {
          "output_type": "execute_result",
          "data": {
            "text/plain": [
              "array([False, False, False, False, False])"
            ]
          },
          "metadata": {},
          "execution_count": 14
        }
      ]
    },
    {
      "cell_type": "markdown",
      "metadata": {
        "id": "aUR4JZ1h-1yr"
      },
      "source": [
        "- **v Arrayının içerisinde ki değerlerin 3'ten küçük olup olmadığını sorgulayalım**"
      ]
    },
    {
      "cell_type": "code",
      "metadata": {
        "colab": {
          "base_uri": "https://localhost:8080/"
        },
        "id": "x0GF6A7K-0bD",
        "outputId": "551a6d61-f0ed-4eb0-d4e6-e3d044b5de4c"
      },
      "source": [
        "v < 3"
      ],
      "execution_count": null,
      "outputs": [
        {
          "output_type": "execute_result",
          "data": {
            "text/plain": [
              "array([ True,  True, False, False, False])"
            ]
          },
          "metadata": {},
          "execution_count": 15
        }
      ]
    },
    {
      "cell_type": "markdown",
      "metadata": {
        "id": "edz8bfbE_QLp"
      },
      "source": [
        "- **v < 3 için değerlerin Sağlayanları ya da sağlanmayanları dönen Boolean değerlere göre görebiliyoruz**\n",
        "- **Şimdi ise v < 3 için sağlanan değerleri yani True olan v Arrayında ki 3'ten küçük olan değerleri almak istersek Fancy index ile alacağız**"
      ]
    },
    {
      "cell_type": "code",
      "metadata": {
        "colab": {
          "base_uri": "https://localhost:8080/"
        },
        "id": "AWS7Tne5_pEI",
        "outputId": "a0006626-0a58-4566-bc86-9620fb4f5541"
      },
      "source": [
        "v[v < 3]"
      ],
      "execution_count": null,
      "outputs": [
        {
          "output_type": "execute_result",
          "data": {
            "text/plain": [
              "array([1, 2])"
            ]
          },
          "metadata": {},
          "execution_count": 16
        }
      ]
    },
    {
      "cell_type": "markdown",
      "metadata": {
        "id": "QPK658Xg_yIY"
      },
      "source": [
        "- **Böylelikle True olan değerleri almış olduk.**"
      ]
    },
    {
      "cell_type": "code",
      "metadata": {
        "colab": {
          "base_uri": "https://localhost:8080/"
        },
        "id": "8WayPMHa_2hJ",
        "outputId": "0c464e6d-fd55-400e-e3e1-0d10788af416"
      },
      "source": [
        "v[v != 4]"
      ],
      "execution_count": null,
      "outputs": [
        {
          "output_type": "execute_result",
          "data": {
            "text/plain": [
              "array([1, 2, 3, 5])"
            ]
          },
          "metadata": {},
          "execution_count": 18
        }
      ]
    },
    {
      "cell_type": "markdown",
      "metadata": {
        "id": "rh2yjLlQKK1Y"
      },
      "source": [
        "# Pandas"
      ]
    },
    {
      "cell_type": "code",
      "metadata": {
        "id": "TGbzEdIELvi3"
      },
      "source": [
        "import pandas as pd"
      ],
      "execution_count": null,
      "outputs": []
    },
    {
      "cell_type": "markdown",
      "metadata": {
        "id": "rkBj1-KQLsj7"
      },
      "source": [
        "## Series\n",
        "\n",
        "- **Tek bir array gibi düşünebiliriz.**"
      ]
    },
    {
      "cell_type": "code",
      "metadata": {
        "colab": {
          "base_uri": "https://localhost:8080/"
        },
        "id": "pR_Xjf4eKN2D",
        "outputId": "8d478b5d-3907-45ec-bb80-29c85210c775"
      },
      "source": [
        "seri = pd.Series([11,22,33,44,55])\n",
        "\n",
        "seri"
      ],
      "execution_count": null,
      "outputs": [
        {
          "output_type": "execute_result",
          "data": {
            "text/plain": [
              "0    11\n",
              "1    22\n",
              "2    33\n",
              "3    44\n",
              "4    55\n",
              "dtype: int64"
            ]
          },
          "metadata": {},
          "execution_count": 21
        }
      ]
    },
    {
      "cell_type": "markdown",
      "metadata": {
        "id": "h9q4yHo5L7zM"
      },
      "source": [
        "- **AXES**\n",
        "\n",
        "- Serinin index bilgilerini bize verir.\n",
        "\n",
        "- **0. indexten başlar.5. indexe kadar gider. Yani son index 4'tür.**"
      ]
    },
    {
      "cell_type": "code",
      "metadata": {
        "colab": {
          "base_uri": "https://localhost:8080/"
        },
        "id": "pBnN__7jL9eg",
        "outputId": "4b012cbc-533c-4f76-96b2-7439f856c19a"
      },
      "source": [
        "seri.axes"
      ],
      "execution_count": null,
      "outputs": [
        {
          "output_type": "execute_result",
          "data": {
            "text/plain": [
              "[RangeIndex(start=0, stop=5, step=1)]"
            ]
          },
          "metadata": {},
          "execution_count": 22
        }
      ]
    },
    {
      "cell_type": "markdown",
      "metadata": {
        "id": "hNRadKVEMmCG"
      },
      "source": [
        "### İndex İsimlendirilmesi"
      ]
    },
    {
      "cell_type": "code",
      "metadata": {
        "colab": {
          "base_uri": "https://localhost:8080/"
        },
        "id": "aatroy15Mo3V",
        "outputId": "2414dba8-8e0b-4142-f481-0c49fccb3b41"
      },
      "source": [
        "seri = pd.Series([11,22,33,44,55], index=['a','b','c','d','e'])\n",
        "\n",
        "seri"
      ],
      "execution_count": null,
      "outputs": [
        {
          "output_type": "execute_result",
          "data": {
            "text/plain": [
              "a    11\n",
              "b    22\n",
              "c    33\n",
              "d    44\n",
              "e    55\n",
              "dtype: int64"
            ]
          },
          "metadata": {},
          "execution_count": 23
        }
      ]
    },
    {
      "cell_type": "code",
      "metadata": {
        "colab": {
          "base_uri": "https://localhost:8080/"
        },
        "id": "qj1jL5tSNhk-",
        "outputId": "20c2c507-b687-4ede-d000-39cb71bdefb0"
      },
      "source": [
        "seri[\"a\"]"
      ],
      "execution_count": null,
      "outputs": [
        {
          "output_type": "execute_result",
          "data": {
            "text/plain": [
              "11"
            ]
          },
          "metadata": {},
          "execution_count": 24
        }
      ]
    },
    {
      "cell_type": "markdown",
      "metadata": {
        "id": "2Oh_rgsSNoNw"
      },
      "source": [
        "- Slicin işlemi ile Serieslerden elemanlarına ulaşma.\n",
        "- İndexlerine göre işlem yaparız.\n",
        "- İndex isimlerine göre elemanlarına ulaşırız"
      ]
    },
    {
      "cell_type": "code",
      "metadata": {
        "colab": {
          "base_uri": "https://localhost:8080/"
        },
        "id": "omm5UmLrNkYI",
        "outputId": "d18db20b-72fa-4d7a-858a-8263d1a786be"
      },
      "source": [
        "seri[\"a\":\"c\"]"
      ],
      "execution_count": null,
      "outputs": [
        {
          "output_type": "execute_result",
          "data": {
            "text/plain": [
              "a    11\n",
              "b    22\n",
              "c    33\n",
              "dtype: int64"
            ]
          },
          "metadata": {},
          "execution_count": 25
        }
      ]
    },
    {
      "cell_type": "markdown",
      "metadata": {
        "id": "22gKNaNKN5C-"
      },
      "source": [
        "### Sözlük(Dict) kullanarak Serie oluşturma"
      ]
    },
    {
      "cell_type": "code",
      "metadata": {
        "colab": {
          "base_uri": "https://localhost:8080/"
        },
        "id": "VfemmibZNxR5",
        "outputId": "f19a92aa-fc37-423a-b380-b6d65d4c3006"
      },
      "source": [
        "sözlük = {'reg':10,'log':11,'cart':12}\n",
        "\n",
        "seri = pd.Series(sözlük)\n",
        "\n",
        "seri"
      ],
      "execution_count": null,
      "outputs": [
        {
          "output_type": "execute_result",
          "data": {
            "text/plain": [
              "reg     10\n",
              "log     11\n",
              "cart    12\n",
              "dtype: int64"
            ]
          },
          "metadata": {},
          "execution_count": 26
        }
      ]
    },
    {
      "cell_type": "markdown",
      "metadata": {
        "id": "hBTc8tGHPUuN"
      },
      "source": [
        "### Numpy Array ile Series oluşturma"
      ]
    },
    {
      "cell_type": "code",
      "metadata": {
        "colab": {
          "base_uri": "https://localhost:8080/"
        },
        "id": "Lgk3YgtQPYmt",
        "outputId": "3779c66e-cc5d-4217-986f-a424107096ca"
      },
      "source": [
        "array = np.array([11,22,33,44,55])\n",
        "\n",
        "seri = pd.Series(array)\n",
        "\n",
        "seri"
      ],
      "execution_count": null,
      "outputs": [
        {
          "output_type": "execute_result",
          "data": {
            "text/plain": [
              "0    11\n",
              "1    22\n",
              "2    33\n",
              "3    44\n",
              "4    55\n",
              "dtype: int64"
            ]
          },
          "metadata": {},
          "execution_count": 27
        }
      ]
    },
    {
      "cell_type": "markdown",
      "metadata": {
        "id": "SKWKlwKrQn7t"
      },
      "source": [
        "###  Seride Eleman İşlemleri"
      ]
    },
    {
      "cell_type": "code",
      "metadata": {
        "colab": {
          "base_uri": "https://localhost:8080/"
        },
        "id": "-V_UhNyEQvi3",
        "outputId": "b741a048-d988-4de1-ae3b-86587ddc0147"
      },
      "source": [
        "seri = pd.Series([121,200,150,99], index = ['reg','log','cart','rf'])\n",
        "\n",
        "seri"
      ],
      "execution_count": null,
      "outputs": [
        {
          "output_type": "execute_result",
          "data": {
            "text/plain": [
              "reg     121\n",
              "log     200\n",
              "cart    150\n",
              "rf       99\n",
              "dtype: int64"
            ]
          },
          "metadata": {},
          "execution_count": 28
        }
      ]
    },
    {
      "cell_type": "markdown",
      "metadata": {
        "id": "d3uLUsEnRCcN"
      },
      "source": [
        "#### Index"
      ]
    },
    {
      "cell_type": "code",
      "metadata": {
        "colab": {
          "base_uri": "https://localhost:8080/"
        },
        "id": "s7C8BLBkQ6v-",
        "outputId": "fc38752c-ab46-4992-f541-e7538378c483"
      },
      "source": [
        "seri.index"
      ],
      "execution_count": null,
      "outputs": [
        {
          "output_type": "execute_result",
          "data": {
            "text/plain": [
              "Index(['reg', 'log', 'cart', 'rf'], dtype='object')"
            ]
          },
          "metadata": {},
          "execution_count": 31
        }
      ]
    },
    {
      "cell_type": "markdown",
      "metadata": {
        "id": "wEUplzuyRFP5"
      },
      "source": [
        "#### Keys\n",
        "\n",
        "- **keys()** , Keys kullanarakta index değerlerini alabiliriz"
      ]
    },
    {
      "cell_type": "code",
      "metadata": {
        "colab": {
          "base_uri": "https://localhost:8080/"
        },
        "id": "ifi3n6oQRBsh",
        "outputId": "6c2ea858-9408-4a70-c82b-ab34c92cb649"
      },
      "source": [
        "  seri.keys()"
      ],
      "execution_count": null,
      "outputs": [
        {
          "output_type": "execute_result",
          "data": {
            "text/plain": [
              "Index(['reg', 'log', 'cart', 'rf'], dtype='object')"
            ]
          },
          "metadata": {},
          "execution_count": 34
        }
      ]
    },
    {
      "cell_type": "markdown",
      "metadata": {
        "id": "XUohFP3MRnh6"
      },
      "source": [
        "- **keys** kullanarak seriesi yazdırabiliriz."
      ]
    },
    {
      "cell_type": "code",
      "metadata": {
        "colab": {
          "base_uri": "https://localhost:8080/"
        },
        "id": "u0U55m5JRfk4",
        "outputId": "278d652e-da24-4faf-f2ad-539ee1e91f7e"
      },
      "source": [
        "seri.keys"
      ],
      "execution_count": null,
      "outputs": [
        {
          "output_type": "execute_result",
          "data": {
            "text/plain": [
              "<bound method Series.keys of reg     121\n",
              "log     200\n",
              "cart    150\n",
              "rf       99\n",
              "dtype: int64>"
            ]
          },
          "metadata": {},
          "execution_count": 36
        }
      ]
    },
    {
      "cell_type": "markdown",
      "metadata": {
        "id": "BkAtqciPR0bD"
      },
      "source": [
        "- **items()** kullanarakta Serinin indexlere ve elemanlarına ulaşabiliriz.Dictionary'de olduğu gibi."
      ]
    },
    {
      "cell_type": "code",
      "metadata": {
        "colab": {
          "base_uri": "https://localhost:8080/"
        },
        "id": "TvW2QeqKRtuH",
        "outputId": "214a0ab2-00cd-4c20-cd7d-57b2b51f98ad"
      },
      "source": [
        "list(seri.items())"
      ],
      "execution_count": null,
      "outputs": [
        {
          "output_type": "execute_result",
          "data": {
            "text/plain": [
              "[('reg', 121), ('log', 200), ('cart', 150), ('rf', 99)]"
            ]
          },
          "metadata": {},
          "execution_count": 39
        }
      ]
    },
    {
      "cell_type": "markdown",
      "metadata": {
        "id": "mAwBCV4FSDqA"
      },
      "source": [
        "#### Fancy Eleman\n",
        "\n",
        "- Fancy Yöntemi ile indexe göre eleman seçebiliriz"
      ]
    },
    {
      "cell_type": "code",
      "metadata": {
        "colab": {
          "base_uri": "https://localhost:8080/"
        },
        "id": "XpB078EeSFVv",
        "outputId": "02a152cb-2ea0-445f-a55d-ab7d6a039942"
      },
      "source": [
        "seri[['reg','log']]"
      ],
      "execution_count": null,
      "outputs": [
        {
          "output_type": "execute_result",
          "data": {
            "text/plain": [
              "reg    121\n",
              "log    200\n",
              "dtype: int64"
            ]
          },
          "metadata": {},
          "execution_count": 40
        }
      ]
    },
    {
      "cell_type": "markdown",
      "metadata": {
        "id": "ykXuEUEtSQ9E"
      },
      "source": [
        "- Seri içerisindeki elemanları değiştirebiliriz.\n",
        "- Fancy yöntemi ile index seçerek.\n",
        "\n",
        "- 121 olan \"reg\" index değerini 130 olarak değiştirdik"
      ]
    },
    {
      "cell_type": "code",
      "metadata": {
        "colab": {
          "base_uri": "https://localhost:8080/"
        },
        "id": "C_qc3Q8HSbYn",
        "outputId": "42e563a0-6ad3-42e0-e045-b0c19825205c"
      },
      "source": [
        "seri['reg'] = 130\n",
        "\n",
        "seri['reg']"
      ],
      "execution_count": null,
      "outputs": [
        {
          "output_type": "execute_result",
          "data": {
            "text/plain": [
              "130"
            ]
          },
          "metadata": {},
          "execution_count": 41
        }
      ]
    },
    {
      "cell_type": "code",
      "metadata": {
        "colab": {
          "base_uri": "https://localhost:8080/"
        },
        "id": "p8Vb3_3ISwE9",
        "outputId": "763a4fd2-2d15-42f6-f3c6-7424585d77a2"
      },
      "source": [
        "seri['reg':'cart']"
      ],
      "execution_count": null,
      "outputs": [
        {
          "output_type": "execute_result",
          "data": {
            "text/plain": [
              "reg     130\n",
              "log     200\n",
              "cart    150\n",
              "dtype: int64"
            ]
          },
          "metadata": {},
          "execution_count": 42
        }
      ]
    },
    {
      "cell_type": "markdown",
      "metadata": {
        "id": "56f3lF0rUPHn"
      },
      "source": [
        "## DataFrame"
      ]
    },
    {
      "cell_type": "code",
      "metadata": {
        "colab": {
          "base_uri": "https://localhost:8080/",
          "height": 203
        },
        "id": "pD7JqlFnUSi3",
        "outputId": "732ec93e-298b-460d-95d1-5e5569702b03"
      },
      "source": [
        "array = np.array([11,22,33,44,55])\n",
        "\n",
        "data = pd.DataFrame(array)\n",
        "\n",
        "data"
      ],
      "execution_count": null,
      "outputs": [
        {
          "output_type": "execute_result",
          "data": {
            "text/html": [
              "<div>\n",
              "<style scoped>\n",
              "    .dataframe tbody tr th:only-of-type {\n",
              "        vertical-align: middle;\n",
              "    }\n",
              "\n",
              "    .dataframe tbody tr th {\n",
              "        vertical-align: top;\n",
              "    }\n",
              "\n",
              "    .dataframe thead th {\n",
              "        text-align: right;\n",
              "    }\n",
              "</style>\n",
              "<table border=\"1\" class=\"dataframe\">\n",
              "  <thead>\n",
              "    <tr style=\"text-align: right;\">\n",
              "      <th></th>\n",
              "      <th>0</th>\n",
              "    </tr>\n",
              "  </thead>\n",
              "  <tbody>\n",
              "    <tr>\n",
              "      <th>0</th>\n",
              "      <td>11</td>\n",
              "    </tr>\n",
              "    <tr>\n",
              "      <th>1</th>\n",
              "      <td>22</td>\n",
              "    </tr>\n",
              "    <tr>\n",
              "      <th>2</th>\n",
              "      <td>33</td>\n",
              "    </tr>\n",
              "    <tr>\n",
              "      <th>3</th>\n",
              "      <td>44</td>\n",
              "    </tr>\n",
              "    <tr>\n",
              "      <th>4</th>\n",
              "      <td>55</td>\n",
              "    </tr>\n",
              "  </tbody>\n",
              "</table>\n",
              "</div>"
            ],
            "text/plain": [
              "    0\n",
              "0  11\n",
              "1  22\n",
              "2  33\n",
              "3  44\n",
              "4  55"
            ]
          },
          "metadata": {},
          "execution_count": 43
        }
      ]
    },
    {
      "cell_type": "markdown",
      "metadata": {
        "id": "WPj1UB4BUoSu"
      },
      "source": [
        "- **Columns ile Değişken isimlerine isimler verebiliyoruz**"
      ]
    },
    {
      "cell_type": "code",
      "metadata": {
        "colab": {
          "base_uri": "https://localhost:8080/",
          "height": 203
        },
        "id": "V74v77_LUhV2",
        "outputId": "226af38c-671e-4ddd-a036-ff53c150e94b"
      },
      "source": [
        "data = pd.DataFrame(array, columns = ['Değişken'])\n",
        "\n",
        "data"
      ],
      "execution_count": null,
      "outputs": [
        {
          "output_type": "execute_result",
          "data": {
            "text/html": [
              "<div>\n",
              "<style scoped>\n",
              "    .dataframe tbody tr th:only-of-type {\n",
              "        vertical-align: middle;\n",
              "    }\n",
              "\n",
              "    .dataframe tbody tr th {\n",
              "        vertical-align: top;\n",
              "    }\n",
              "\n",
              "    .dataframe thead th {\n",
              "        text-align: right;\n",
              "    }\n",
              "</style>\n",
              "<table border=\"1\" class=\"dataframe\">\n",
              "  <thead>\n",
              "    <tr style=\"text-align: right;\">\n",
              "      <th></th>\n",
              "      <th>Değişken</th>\n",
              "    </tr>\n",
              "  </thead>\n",
              "  <tbody>\n",
              "    <tr>\n",
              "      <th>0</th>\n",
              "      <td>11</td>\n",
              "    </tr>\n",
              "    <tr>\n",
              "      <th>1</th>\n",
              "      <td>22</td>\n",
              "    </tr>\n",
              "    <tr>\n",
              "      <th>2</th>\n",
              "      <td>33</td>\n",
              "    </tr>\n",
              "    <tr>\n",
              "      <th>3</th>\n",
              "      <td>44</td>\n",
              "    </tr>\n",
              "    <tr>\n",
              "      <th>4</th>\n",
              "      <td>55</td>\n",
              "    </tr>\n",
              "  </tbody>\n",
              "</table>\n",
              "</div>"
            ],
            "text/plain": [
              "   Değişken\n",
              "0        11\n",
              "1        22\n",
              "2        33\n",
              "3        44\n",
              "4        55"
            ]
          },
          "metadata": {},
          "execution_count": 44
        }
      ]
    },
    {
      "cell_type": "markdown",
      "metadata": {
        "id": "7jfnp0JDU3-U"
      },
      "source": [
        "- **2 boyutlu Array ile DataFrame oluşturalım**"
      ]
    },
    {
      "cell_type": "code",
      "metadata": {
        "colab": {
          "base_uri": "https://localhost:8080/"
        },
        "id": "165H3v-sUv6S",
        "outputId": "16acdf5c-b102-4022-f5c9-253d3064b472"
      },
      "source": [
        "m = np.arange(1,10).reshape((3,3))\n",
        "\n",
        "m"
      ],
      "execution_count": null,
      "outputs": [
        {
          "output_type": "execute_result",
          "data": {
            "text/plain": [
              "array([[1, 2, 3],\n",
              "       [4, 5, 6],\n",
              "       [7, 8, 9]])"
            ]
          },
          "metadata": {},
          "execution_count": 3
        }
      ]
    },
    {
      "cell_type": "code",
      "metadata": {
        "colab": {
          "base_uri": "https://localhost:8080/",
          "height": 142
        },
        "id": "87tv3xboVIkZ",
        "outputId": "c1b0b0d5-6bca-447a-a12b-b38f74fabdcc"
      },
      "source": [
        "data = pd.DataFrame(m)\n",
        "\n",
        "data"
      ],
      "execution_count": null,
      "outputs": [
        {
          "output_type": "execute_result",
          "data": {
            "text/html": [
              "<div>\n",
              "<style scoped>\n",
              "    .dataframe tbody tr th:only-of-type {\n",
              "        vertical-align: middle;\n",
              "    }\n",
              "\n",
              "    .dataframe tbody tr th {\n",
              "        vertical-align: top;\n",
              "    }\n",
              "\n",
              "    .dataframe thead th {\n",
              "        text-align: right;\n",
              "    }\n",
              "</style>\n",
              "<table border=\"1\" class=\"dataframe\">\n",
              "  <thead>\n",
              "    <tr style=\"text-align: right;\">\n",
              "      <th></th>\n",
              "      <th>0</th>\n",
              "      <th>1</th>\n",
              "      <th>2</th>\n",
              "    </tr>\n",
              "  </thead>\n",
              "  <tbody>\n",
              "    <tr>\n",
              "      <th>0</th>\n",
              "      <td>1</td>\n",
              "      <td>2</td>\n",
              "      <td>3</td>\n",
              "    </tr>\n",
              "    <tr>\n",
              "      <th>1</th>\n",
              "      <td>4</td>\n",
              "      <td>5</td>\n",
              "      <td>6</td>\n",
              "    </tr>\n",
              "    <tr>\n",
              "      <th>2</th>\n",
              "      <td>7</td>\n",
              "      <td>8</td>\n",
              "      <td>9</td>\n",
              "    </tr>\n",
              "  </tbody>\n",
              "</table>\n",
              "</div>"
            ],
            "text/plain": [
              "   0  1  2\n",
              "0  1  2  3\n",
              "1  4  5  6\n",
              "2  7  8  9"
            ]
          },
          "metadata": {},
          "execution_count": 4
        }
      ]
    },
    {
      "cell_type": "markdown",
      "metadata": {
        "id": "deRv9_siVM3T"
      },
      "source": [
        "- **Columns parametresini kullanarak Değişken İsimleri verelim.**"
      ]
    },
    {
      "cell_type": "code",
      "metadata": {
        "colab": {
          "base_uri": "https://localhost:8080/",
          "height": 142
        },
        "id": "PnyYiJZTVSxP",
        "outputId": "dbab8d83-8722-4153-af75-ee47f330ac54"
      },
      "source": [
        "data = pd.DataFrame(m, columns = ['var1','var2','var3'])\n",
        "\n",
        "data"
      ],
      "execution_count": null,
      "outputs": [
        {
          "output_type": "execute_result",
          "data": {
            "text/html": [
              "<div>\n",
              "<style scoped>\n",
              "    .dataframe tbody tr th:only-of-type {\n",
              "        vertical-align: middle;\n",
              "    }\n",
              "\n",
              "    .dataframe tbody tr th {\n",
              "        vertical-align: top;\n",
              "    }\n",
              "\n",
              "    .dataframe thead th {\n",
              "        text-align: right;\n",
              "    }\n",
              "</style>\n",
              "<table border=\"1\" class=\"dataframe\">\n",
              "  <thead>\n",
              "    <tr style=\"text-align: right;\">\n",
              "      <th></th>\n",
              "      <th>var1</th>\n",
              "      <th>var2</th>\n",
              "      <th>var3</th>\n",
              "    </tr>\n",
              "  </thead>\n",
              "  <tbody>\n",
              "    <tr>\n",
              "      <th>0</th>\n",
              "      <td>1</td>\n",
              "      <td>2</td>\n",
              "      <td>3</td>\n",
              "    </tr>\n",
              "    <tr>\n",
              "      <th>1</th>\n",
              "      <td>4</td>\n",
              "      <td>5</td>\n",
              "      <td>6</td>\n",
              "    </tr>\n",
              "    <tr>\n",
              "      <th>2</th>\n",
              "      <td>7</td>\n",
              "      <td>8</td>\n",
              "      <td>9</td>\n",
              "    </tr>\n",
              "  </tbody>\n",
              "</table>\n",
              "</div>"
            ],
            "text/plain": [
              "   var1  var2  var3\n",
              "0     1     2     3\n",
              "1     4     5     6\n",
              "2     7     8     9"
            ]
          },
          "metadata": {},
          "execution_count": 5
        }
      ]
    },
    {
      "cell_type": "markdown",
      "metadata": {
        "id": "RrdwKWOILeuc"
      },
      "source": [
        "- **Datamızın İstediğimiz Değişken İsimlerini \"rename( )\" ile de değiştirebiliriz**"
      ]
    },
    {
      "cell_type": "code",
      "metadata": {
        "id": "3Ml6GTIhX5zS",
        "colab": {
          "base_uri": "https://localhost:8080/",
          "height": 142
        },
        "outputId": "7e158d37-127c-48b3-b6cb-1f708adc7abc"
      },
      "source": [
        "data.rename(columns={'var1':'deg1'})"
      ],
      "execution_count": null,
      "outputs": [
        {
          "output_type": "execute_result",
          "data": {
            "text/html": [
              "<div>\n",
              "<style scoped>\n",
              "    .dataframe tbody tr th:only-of-type {\n",
              "        vertical-align: middle;\n",
              "    }\n",
              "\n",
              "    .dataframe tbody tr th {\n",
              "        vertical-align: top;\n",
              "    }\n",
              "\n",
              "    .dataframe thead th {\n",
              "        text-align: right;\n",
              "    }\n",
              "</style>\n",
              "<table border=\"1\" class=\"dataframe\">\n",
              "  <thead>\n",
              "    <tr style=\"text-align: right;\">\n",
              "      <th></th>\n",
              "      <th>deg1</th>\n",
              "      <th>var2</th>\n",
              "      <th>var3</th>\n",
              "    </tr>\n",
              "  </thead>\n",
              "  <tbody>\n",
              "    <tr>\n",
              "      <th>0</th>\n",
              "      <td>1</td>\n",
              "      <td>2</td>\n",
              "      <td>3</td>\n",
              "    </tr>\n",
              "    <tr>\n",
              "      <th>1</th>\n",
              "      <td>4</td>\n",
              "      <td>5</td>\n",
              "      <td>6</td>\n",
              "    </tr>\n",
              "    <tr>\n",
              "      <th>2</th>\n",
              "      <td>7</td>\n",
              "      <td>8</td>\n",
              "      <td>9</td>\n",
              "    </tr>\n",
              "  </tbody>\n",
              "</table>\n",
              "</div>"
            ],
            "text/plain": [
              "   deg1  var2  var3\n",
              "0     1     2     3\n",
              "1     4     5     6\n",
              "2     7     8     9"
            ]
          },
          "metadata": {},
          "execution_count": 6
        }
      ]
    },
    {
      "cell_type": "markdown",
      "metadata": {
        "id": "ZYUPAGjWMPWS"
      },
      "source": [
        "### İndex Bazında Eleman İşlemleri"
      ]
    },
    {
      "cell_type": "code",
      "metadata": {
        "id": "uIatOnxQMR_h"
      },
      "source": [
        "s1 = np.random.randint(10, size = 5)\n",
        "s2 = np.random.randint(10, size = 5)\n",
        "s3 = np.random.randint(10, size = 5)"
      ],
      "execution_count": null,
      "outputs": []
    },
    {
      "cell_type": "markdown",
      "metadata": {
        "id": "7dkVsm3VMpas"
      },
      "source": [
        "- Oluşturduğumuz numpy arrayleri üzerinden bir sözlük oluşturuyoruz"
      ]
    },
    {
      "cell_type": "code",
      "metadata": {
        "colab": {
          "base_uri": "https://localhost:8080/"
        },
        "id": "nC4YNZx0Mk84",
        "outputId": "e7b823be-ba42-4245-8e04-0d45cc99282a"
      },
      "source": [
        "sözlük = {'var1':s1,'var2':s2,'var3':s3}\n",
        "\n",
        "sözlük"
      ],
      "execution_count": null,
      "outputs": [
        {
          "output_type": "execute_result",
          "data": {
            "text/plain": [
              "{'var1': array([1, 2, 9, 9, 6]),\n",
              " 'var2': array([4, 2, 5, 3, 4]),\n",
              " 'var3': array([4, 2, 7, 7, 0])}"
            ]
          },
          "metadata": {},
          "execution_count": 10
        }
      ]
    },
    {
      "cell_type": "markdown",
      "metadata": {
        "id": "Xz1j3eCKNBto"
      },
      "source": [
        "- Oluşturduğumuz sözlük üzerinden de bir DataFrame elde edeceğiz"
      ]
    },
    {
      "cell_type": "code",
      "metadata": {
        "colab": {
          "base_uri": "https://localhost:8080/",
          "height": 203
        },
        "id": "2kIBTkiYNF9W",
        "outputId": "dedb87c0-4ae4-4ba3-ab09-e2248202587e"
      },
      "source": [
        "df = pd.DataFrame(sözlük)\n",
        "\n",
        "df"
      ],
      "execution_count": null,
      "outputs": [
        {
          "output_type": "execute_result",
          "data": {
            "text/html": [
              "<div>\n",
              "<style scoped>\n",
              "    .dataframe tbody tr th:only-of-type {\n",
              "        vertical-align: middle;\n",
              "    }\n",
              "\n",
              "    .dataframe tbody tr th {\n",
              "        vertical-align: top;\n",
              "    }\n",
              "\n",
              "    .dataframe thead th {\n",
              "        text-align: right;\n",
              "    }\n",
              "</style>\n",
              "<table border=\"1\" class=\"dataframe\">\n",
              "  <thead>\n",
              "    <tr style=\"text-align: right;\">\n",
              "      <th></th>\n",
              "      <th>var1</th>\n",
              "      <th>var2</th>\n",
              "      <th>var3</th>\n",
              "    </tr>\n",
              "  </thead>\n",
              "  <tbody>\n",
              "    <tr>\n",
              "      <th>0</th>\n",
              "      <td>1</td>\n",
              "      <td>4</td>\n",
              "      <td>4</td>\n",
              "    </tr>\n",
              "    <tr>\n",
              "      <th>1</th>\n",
              "      <td>2</td>\n",
              "      <td>2</td>\n",
              "      <td>2</td>\n",
              "    </tr>\n",
              "    <tr>\n",
              "      <th>2</th>\n",
              "      <td>9</td>\n",
              "      <td>5</td>\n",
              "      <td>7</td>\n",
              "    </tr>\n",
              "    <tr>\n",
              "      <th>3</th>\n",
              "      <td>9</td>\n",
              "      <td>3</td>\n",
              "      <td>7</td>\n",
              "    </tr>\n",
              "    <tr>\n",
              "      <th>4</th>\n",
              "      <td>6</td>\n",
              "      <td>4</td>\n",
              "      <td>0</td>\n",
              "    </tr>\n",
              "  </tbody>\n",
              "</table>\n",
              "</div>"
            ],
            "text/plain": [
              "   var1  var2  var3\n",
              "0     1     4     4\n",
              "1     2     2     2\n",
              "2     9     5     7\n",
              "3     9     3     7\n",
              "4     6     4     0"
            ]
          },
          "metadata": {},
          "execution_count": 26
        }
      ]
    },
    {
      "cell_type": "markdown",
      "metadata": {
        "id": "xGR4c3z0NRU-"
      },
      "source": [
        "- Datamızı 0'dan 1'e kadar alalım.Virgül fln yazmadığımız için direk yazdığımız için satır bazında işlem yapar"
      ]
    },
    {
      "cell_type": "code",
      "metadata": {
        "colab": {
          "base_uri": "https://localhost:8080/",
          "height": 80
        },
        "id": "pfBJB8MKNS62",
        "outputId": "a0dccd06-87a2-4fed-dde7-80e606bf6a77"
      },
      "source": [
        "df[0:1]"
      ],
      "execution_count": null,
      "outputs": [
        {
          "output_type": "execute_result",
          "data": {
            "text/html": [
              "<div>\n",
              "<style scoped>\n",
              "    .dataframe tbody tr th:only-of-type {\n",
              "        vertical-align: middle;\n",
              "    }\n",
              "\n",
              "    .dataframe tbody tr th {\n",
              "        vertical-align: top;\n",
              "    }\n",
              "\n",
              "    .dataframe thead th {\n",
              "        text-align: right;\n",
              "    }\n",
              "</style>\n",
              "<table border=\"1\" class=\"dataframe\">\n",
              "  <thead>\n",
              "    <tr style=\"text-align: right;\">\n",
              "      <th></th>\n",
              "      <th>var1</th>\n",
              "      <th>var2</th>\n",
              "      <th>var3</th>\n",
              "    </tr>\n",
              "  </thead>\n",
              "  <tbody>\n",
              "    <tr>\n",
              "      <th>0</th>\n",
              "      <td>1</td>\n",
              "      <td>4</td>\n",
              "      <td>4</td>\n",
              "    </tr>\n",
              "  </tbody>\n",
              "</table>\n",
              "</div>"
            ],
            "text/plain": [
              "   var1  var2  var3\n",
              "0     1     4     4"
            ]
          },
          "metadata": {},
          "execution_count": 12
        }
      ]
    },
    {
      "cell_type": "markdown",
      "metadata": {
        "id": "6FhNl6RmRwJL"
      },
      "source": [
        "- **İndexleri isimlendirme**"
      ]
    },
    {
      "cell_type": "code",
      "metadata": {
        "colab": {
          "base_uri": "https://localhost:8080/"
        },
        "id": "y-wt2rONNil3",
        "outputId": "98d1d8d8-c451-4ab1-ec6d-71f544da3e8b"
      },
      "source": [
        "df.index"
      ],
      "execution_count": null,
      "outputs": [
        {
          "output_type": "execute_result",
          "data": {
            "text/plain": [
              "RangeIndex(start=0, stop=5, step=1)"
            ]
          },
          "metadata": {},
          "execution_count": 18
        }
      ]
    },
    {
      "cell_type": "code",
      "metadata": {
        "colab": {
          "base_uri": "https://localhost:8080/",
          "height": 203
        },
        "id": "VT9pqJaNR0rZ",
        "outputId": "b83bfb20-c75f-4c63-9bfe-3bc3db6004bb"
      },
      "source": [
        "df.index = [\"a\",\"b\",\"c\",\"d\",\"e\"]\n",
        "\n",
        "df"
      ],
      "execution_count": null,
      "outputs": [
        {
          "output_type": "execute_result",
          "data": {
            "text/html": [
              "<div>\n",
              "<style scoped>\n",
              "    .dataframe tbody tr th:only-of-type {\n",
              "        vertical-align: middle;\n",
              "    }\n",
              "\n",
              "    .dataframe tbody tr th {\n",
              "        vertical-align: top;\n",
              "    }\n",
              "\n",
              "    .dataframe thead th {\n",
              "        text-align: right;\n",
              "    }\n",
              "</style>\n",
              "<table border=\"1\" class=\"dataframe\">\n",
              "  <thead>\n",
              "    <tr style=\"text-align: right;\">\n",
              "      <th></th>\n",
              "      <th>var1</th>\n",
              "      <th>var2</th>\n",
              "      <th>var3</th>\n",
              "    </tr>\n",
              "  </thead>\n",
              "  <tbody>\n",
              "    <tr>\n",
              "      <th>a</th>\n",
              "      <td>1</td>\n",
              "      <td>4</td>\n",
              "      <td>4</td>\n",
              "    </tr>\n",
              "    <tr>\n",
              "      <th>b</th>\n",
              "      <td>2</td>\n",
              "      <td>2</td>\n",
              "      <td>2</td>\n",
              "    </tr>\n",
              "    <tr>\n",
              "      <th>c</th>\n",
              "      <td>9</td>\n",
              "      <td>5</td>\n",
              "      <td>7</td>\n",
              "    </tr>\n",
              "    <tr>\n",
              "      <th>d</th>\n",
              "      <td>9</td>\n",
              "      <td>3</td>\n",
              "      <td>7</td>\n",
              "    </tr>\n",
              "    <tr>\n",
              "      <th>e</th>\n",
              "      <td>6</td>\n",
              "      <td>4</td>\n",
              "      <td>0</td>\n",
              "    </tr>\n",
              "  </tbody>\n",
              "</table>\n",
              "</div>"
            ],
            "text/plain": [
              "   var1  var2  var3\n",
              "a     1     4     4\n",
              "b     2     2     2\n",
              "c     9     5     7\n",
              "d     9     3     7\n",
              "e     6     4     0"
            ]
          },
          "metadata": {},
          "execution_count": 27
        }
      ]
    },
    {
      "cell_type": "markdown",
      "metadata": {
        "id": "rNRQ0fkHSW9g"
      },
      "source": [
        "- index üzerinden işlemler yapalım.\n",
        "- İndex değerlerine göre eleman seçelim\n",
        "- Örneğin aşağıda **c'den e'ye kadar** alalım."
      ]
    },
    {
      "cell_type": "code",
      "metadata": {
        "colab": {
          "base_uri": "https://localhost:8080/",
          "height": 142
        },
        "id": "Ih_rJV9DSfy5",
        "outputId": "5f661b5c-8df1-45d1-a376-112c21a7e1b0"
      },
      "source": [
        "df[\"c\":\"e\"]"
      ],
      "execution_count": null,
      "outputs": [
        {
          "output_type": "execute_result",
          "data": {
            "text/html": [
              "<div>\n",
              "<style scoped>\n",
              "    .dataframe tbody tr th:only-of-type {\n",
              "        vertical-align: middle;\n",
              "    }\n",
              "\n",
              "    .dataframe tbody tr th {\n",
              "        vertical-align: top;\n",
              "    }\n",
              "\n",
              "    .dataframe thead th {\n",
              "        text-align: right;\n",
              "    }\n",
              "</style>\n",
              "<table border=\"1\" class=\"dataframe\">\n",
              "  <thead>\n",
              "    <tr style=\"text-align: right;\">\n",
              "      <th></th>\n",
              "      <th>var1</th>\n",
              "      <th>var2</th>\n",
              "      <th>var3</th>\n",
              "    </tr>\n",
              "  </thead>\n",
              "  <tbody>\n",
              "    <tr>\n",
              "      <th>c</th>\n",
              "      <td>9</td>\n",
              "      <td>5</td>\n",
              "      <td>7</td>\n",
              "    </tr>\n",
              "    <tr>\n",
              "      <th>d</th>\n",
              "      <td>9</td>\n",
              "      <td>3</td>\n",
              "      <td>7</td>\n",
              "    </tr>\n",
              "    <tr>\n",
              "      <th>e</th>\n",
              "      <td>6</td>\n",
              "      <td>4</td>\n",
              "      <td>0</td>\n",
              "    </tr>\n",
              "  </tbody>\n",
              "</table>\n",
              "</div>"
            ],
            "text/plain": [
              "   var1  var2  var3\n",
              "c     9     5     7\n",
              "d     9     3     7\n",
              "e     6     4     0"
            ]
          },
          "metadata": {},
          "execution_count": 28
        }
      ]
    },
    {
      "cell_type": "markdown",
      "metadata": {
        "id": "FB3MYaBqSqw7"
      },
      "source": [
        "#### Silme"
      ]
    },
    {
      "cell_type": "markdown",
      "metadata": {
        "id": "j8HDONInTW82"
      },
      "source": [
        "- İndexler bazında silme işlemi yapalım\n",
        "- a indexini datamızdan silelim \n",
        "- index bazında yani satır bazında silme işlemleri yaptığımızdan dolayı axis = 0 dedik."
      ]
    },
    {
      "cell_type": "code",
      "metadata": {
        "colab": {
          "base_uri": "https://localhost:8080/",
          "height": 172
        },
        "id": "T5R1nrxXSs18",
        "outputId": "cabfcb14-1730-4929-88e2-8cc9f09db05b"
      },
      "source": [
        "df.drop(\"a\", axis = 0)"
      ],
      "execution_count": null,
      "outputs": [
        {
          "output_type": "execute_result",
          "data": {
            "text/html": [
              "<div>\n",
              "<style scoped>\n",
              "    .dataframe tbody tr th:only-of-type {\n",
              "        vertical-align: middle;\n",
              "    }\n",
              "\n",
              "    .dataframe tbody tr th {\n",
              "        vertical-align: top;\n",
              "    }\n",
              "\n",
              "    .dataframe thead th {\n",
              "        text-align: right;\n",
              "    }\n",
              "</style>\n",
              "<table border=\"1\" class=\"dataframe\">\n",
              "  <thead>\n",
              "    <tr style=\"text-align: right;\">\n",
              "      <th></th>\n",
              "      <th>var1</th>\n",
              "      <th>var2</th>\n",
              "      <th>var3</th>\n",
              "    </tr>\n",
              "  </thead>\n",
              "  <tbody>\n",
              "    <tr>\n",
              "      <th>b</th>\n",
              "      <td>2</td>\n",
              "      <td>2</td>\n",
              "      <td>2</td>\n",
              "    </tr>\n",
              "    <tr>\n",
              "      <th>c</th>\n",
              "      <td>9</td>\n",
              "      <td>5</td>\n",
              "      <td>7</td>\n",
              "    </tr>\n",
              "    <tr>\n",
              "      <th>d</th>\n",
              "      <td>9</td>\n",
              "      <td>3</td>\n",
              "      <td>7</td>\n",
              "    </tr>\n",
              "    <tr>\n",
              "      <th>e</th>\n",
              "      <td>6</td>\n",
              "      <td>4</td>\n",
              "      <td>0</td>\n",
              "    </tr>\n",
              "  </tbody>\n",
              "</table>\n",
              "</div>"
            ],
            "text/plain": [
              "   var1  var2  var3\n",
              "b     2     2     2\n",
              "c     9     5     7\n",
              "d     9     3     7\n",
              "e     6     4     0"
            ]
          },
          "metadata": {},
          "execution_count": 29
        }
      ]
    },
    {
      "cell_type": "markdown",
      "metadata": {
        "id": "zBGRu8xgTlpG"
      },
      "source": [
        "- **c ile e** indexlerini silelim "
      ]
    },
    {
      "cell_type": "code",
      "metadata": {
        "colab": {
          "base_uri": "https://localhost:8080/",
          "height": 142
        },
        "id": "PBS3nx-HTdxN",
        "outputId": "e570b6b5-775b-4491-8afa-a082f3677a02"
      },
      "source": [
        "df.drop(['c','e'], axis=0)"
      ],
      "execution_count": null,
      "outputs": [
        {
          "output_type": "execute_result",
          "data": {
            "text/html": [
              "<div>\n",
              "<style scoped>\n",
              "    .dataframe tbody tr th:only-of-type {\n",
              "        vertical-align: middle;\n",
              "    }\n",
              "\n",
              "    .dataframe tbody tr th {\n",
              "        vertical-align: top;\n",
              "    }\n",
              "\n",
              "    .dataframe thead th {\n",
              "        text-align: right;\n",
              "    }\n",
              "</style>\n",
              "<table border=\"1\" class=\"dataframe\">\n",
              "  <thead>\n",
              "    <tr style=\"text-align: right;\">\n",
              "      <th></th>\n",
              "      <th>var1</th>\n",
              "      <th>var2</th>\n",
              "      <th>var3</th>\n",
              "    </tr>\n",
              "  </thead>\n",
              "  <tbody>\n",
              "    <tr>\n",
              "      <th>a</th>\n",
              "      <td>1</td>\n",
              "      <td>4</td>\n",
              "      <td>4</td>\n",
              "    </tr>\n",
              "    <tr>\n",
              "      <th>b</th>\n",
              "      <td>2</td>\n",
              "      <td>2</td>\n",
              "      <td>2</td>\n",
              "    </tr>\n",
              "    <tr>\n",
              "      <th>d</th>\n",
              "      <td>9</td>\n",
              "      <td>3</td>\n",
              "      <td>7</td>\n",
              "    </tr>\n",
              "  </tbody>\n",
              "</table>\n",
              "</div>"
            ],
            "text/plain": [
              "   var1  var2  var3\n",
              "a     1     4     4\n",
              "b     2     2     2\n",
              "d     9     3     7"
            ]
          },
          "metadata": {},
          "execution_count": 30
        }
      ]
    },
    {
      "cell_type": "markdown",
      "metadata": {
        "id": "mraE7xGZUI-A"
      },
      "source": [
        "### Değişken Bazında Eleman İşlemleri"
      ]
    },
    {
      "cell_type": "markdown",
      "metadata": {
        "id": "Yr1wQW8EUXL9"
      },
      "source": [
        "- Basit bir değişken sorgusu yapalım.\n",
        "- **v3** değişkenimiz **df datamızın** içerisinde mi demiş olduk."
      ]
    },
    {
      "cell_type": "code",
      "metadata": {
        "colab": {
          "base_uri": "https://localhost:8080/"
        },
        "id": "DQcbwNskUMLs",
        "outputId": "4b02453b-3f3d-46b1-dd39-fdc40af886f8"
      },
      "source": [
        "'v3' in df"
      ],
      "execution_count": null,
      "outputs": [
        {
          "output_type": "execute_result",
          "data": {
            "text/plain": [
              "False"
            ]
          },
          "metadata": {},
          "execution_count": 32
        }
      ]
    },
    {
      "cell_type": "markdown",
      "metadata": {
        "id": "fsnQgCHtUsjR"
      },
      "source": [
        "- İstediğimiz değişken isimlerini for döngüsü kullanarak df içerisinde mi değil mi kontrol edelim\n",
        "\n",
        "- **l adında bir liste oluşturduk.İçerisinde sorgulatmak istediğimiz değişken isimleri bulunuyor**\n",
        "\n",
        "- **Daha sonra for döngüsü ile l listesi içerisinde gezerek \"in df\" diyerek sorgumuzu yapıyoruz**"
      ]
    },
    {
      "cell_type": "code",
      "metadata": {
        "colab": {
          "base_uri": "https://localhost:8080/"
        },
        "id": "XTT8ovhGUIZh",
        "outputId": "a4ff2786-ed19-4bc6-edb9-a9581696c2b5"
      },
      "source": [
        "l = ['var1','var4','var2'] \n",
        "\n",
        "for i in l:\n",
        "  print(i in df)"
      ],
      "execution_count": null,
      "outputs": [
        {
          "output_type": "stream",
          "name": "stdout",
          "text": [
            "True\n",
            "False\n",
            "True\n"
          ]
        }
      ]
    },
    {
      "cell_type": "markdown",
      "metadata": {
        "id": "q83Q4-s2jnzk"
      },
      "source": [
        "- **Datamızın \"var1\" değişkenini alalım.**"
      ]
    },
    {
      "cell_type": "code",
      "metadata": {
        "colab": {
          "base_uri": "https://localhost:8080/"
        },
        "id": "hav1paCujif9",
        "outputId": "9906f608-405f-4bfe-ac73-025a8510883d"
      },
      "source": [
        "df['var1']"
      ],
      "execution_count": null,
      "outputs": [
        {
          "output_type": "execute_result",
          "data": {
            "text/plain": [
              "0    27\n",
              "1    27\n",
              "2     4\n",
              "3    17\n",
              "4    14\n",
              "5     4\n",
              "6    29\n",
              "7    24\n",
              "8    19\n",
              "9    12\n",
              "Name: var1, dtype: int64"
            ]
          },
          "metadata": {},
          "execution_count": 53
        }
      ]
    },
    {
      "cell_type": "markdown",
      "metadata": {
        "id": "IJp8CUVwjzFd"
      },
      "source": [
        "- **Datamızın \"var1\" değişkeninin 0'dan 4'e kadar olan gözlemlerini alalım**"
      ]
    },
    {
      "cell_type": "code",
      "metadata": {
        "colab": {
          "base_uri": "https://localhost:8080/"
        },
        "id": "Ho7iB9RDjk11",
        "outputId": "afbc3c8d-2426-4aae-f862-521e1f65597c"
      },
      "source": [
        "df['var1'][0:4]"
      ],
      "execution_count": null,
      "outputs": [
        {
          "output_type": "execute_result",
          "data": {
            "text/plain": [
              "0    27\n",
              "1    27\n",
              "2     4\n",
              "3    17\n",
              "Name: var1, dtype: int64"
            ]
          },
          "metadata": {},
          "execution_count": 54
        }
      ]
    },
    {
      "cell_type": "markdown",
      "metadata": {
        "id": "W1oe5SFRl-0O"
      },
      "source": [
        "- **Datamızın var1 ve var2 değişkenlerinin 0'dan 4'e kadar olan gözlemlerini alalım**\n",
        "- **Birden çok değişkeni almak istersek Fancy index yöntemini kullanırız.Yani df[ gözlem seçimi ] [ [ Almak istediğimiz değişkenler ] ]**"
      ]
    },
    {
      "cell_type": "code",
      "metadata": {
        "colab": {
          "base_uri": "https://localhost:8080/",
          "height": 172
        },
        "id": "bTiN1LjOl3g-",
        "outputId": "22383095-f8ff-4bd6-accb-7a196625757b"
      },
      "source": [
        "df[0:4][['var1','var2']]"
      ],
      "execution_count": null,
      "outputs": [
        {
          "output_type": "execute_result",
          "data": {
            "text/html": [
              "<div>\n",
              "<style scoped>\n",
              "    .dataframe tbody tr th:only-of-type {\n",
              "        vertical-align: middle;\n",
              "    }\n",
              "\n",
              "    .dataframe tbody tr th {\n",
              "        vertical-align: top;\n",
              "    }\n",
              "\n",
              "    .dataframe thead th {\n",
              "        text-align: right;\n",
              "    }\n",
              "</style>\n",
              "<table border=\"1\" class=\"dataframe\">\n",
              "  <thead>\n",
              "    <tr style=\"text-align: right;\">\n",
              "      <th></th>\n",
              "      <th>var1</th>\n",
              "      <th>var2</th>\n",
              "    </tr>\n",
              "  </thead>\n",
              "  <tbody>\n",
              "    <tr>\n",
              "      <th>0</th>\n",
              "      <td>27</td>\n",
              "      <td>7</td>\n",
              "    </tr>\n",
              "    <tr>\n",
              "      <th>1</th>\n",
              "      <td>27</td>\n",
              "      <td>20</td>\n",
              "    </tr>\n",
              "    <tr>\n",
              "      <th>2</th>\n",
              "      <td>4</td>\n",
              "      <td>8</td>\n",
              "    </tr>\n",
              "    <tr>\n",
              "      <th>3</th>\n",
              "      <td>17</td>\n",
              "      <td>19</td>\n",
              "    </tr>\n",
              "  </tbody>\n",
              "</table>\n",
              "</div>"
            ],
            "text/plain": [
              "   var1  var2\n",
              "0    27     7\n",
              "1    27    20\n",
              "2     4     8\n",
              "3    17    19"
            ]
          },
          "metadata": {},
          "execution_count": 56
        }
      ]
    },
    {
      "cell_type": "markdown",
      "metadata": {
        "id": "gbYzTpkhXH8X"
      },
      "source": [
        "- **Datamıza yeni değişken ekleyeceğiz.Bu değişkeni de datamızdaki değişkenin değerlerini kullanarak yapacağız**\n",
        "\n",
        "- **\"var4\" adında yeni bir değişken oluştralım.Bu değişkeni de var1 ve var2 değişkenin değerlerini çarparak oluşturalım**"
      ]
    },
    {
      "cell_type": "code",
      "metadata": {
        "colab": {
          "base_uri": "https://localhost:8080/",
          "height": 203
        },
        "id": "6j_ybCk8WfWk",
        "outputId": "b5a99cdb-64f1-4f1f-c876-6c816f18b1b1"
      },
      "source": [
        "df['var4'] = df['var1'] * df['var2']\n",
        "\n",
        "df"
      ],
      "execution_count": null,
      "outputs": [
        {
          "output_type": "execute_result",
          "data": {
            "text/html": [
              "<div>\n",
              "<style scoped>\n",
              "    .dataframe tbody tr th:only-of-type {\n",
              "        vertical-align: middle;\n",
              "    }\n",
              "\n",
              "    .dataframe tbody tr th {\n",
              "        vertical-align: top;\n",
              "    }\n",
              "\n",
              "    .dataframe thead th {\n",
              "        text-align: right;\n",
              "    }\n",
              "</style>\n",
              "<table border=\"1\" class=\"dataframe\">\n",
              "  <thead>\n",
              "    <tr style=\"text-align: right;\">\n",
              "      <th></th>\n",
              "      <th>var1</th>\n",
              "      <th>var2</th>\n",
              "      <th>var3</th>\n",
              "      <th>var4</th>\n",
              "    </tr>\n",
              "  </thead>\n",
              "  <tbody>\n",
              "    <tr>\n",
              "      <th>a</th>\n",
              "      <td>1</td>\n",
              "      <td>4</td>\n",
              "      <td>4</td>\n",
              "      <td>4</td>\n",
              "    </tr>\n",
              "    <tr>\n",
              "      <th>b</th>\n",
              "      <td>2</td>\n",
              "      <td>2</td>\n",
              "      <td>2</td>\n",
              "      <td>4</td>\n",
              "    </tr>\n",
              "    <tr>\n",
              "      <th>c</th>\n",
              "      <td>9</td>\n",
              "      <td>5</td>\n",
              "      <td>7</td>\n",
              "      <td>45</td>\n",
              "    </tr>\n",
              "    <tr>\n",
              "      <th>d</th>\n",
              "      <td>9</td>\n",
              "      <td>3</td>\n",
              "      <td>7</td>\n",
              "      <td>27</td>\n",
              "    </tr>\n",
              "    <tr>\n",
              "      <th>e</th>\n",
              "      <td>6</td>\n",
              "      <td>4</td>\n",
              "      <td>0</td>\n",
              "      <td>24</td>\n",
              "    </tr>\n",
              "  </tbody>\n",
              "</table>\n",
              "</div>"
            ],
            "text/plain": [
              "   var1  var2  var3  var4\n",
              "a     1     4     4     4\n",
              "b     2     2     2     4\n",
              "c     9     5     7    45\n",
              "d     9     3     7    27\n",
              "e     6     4     0    24"
            ]
          },
          "metadata": {},
          "execution_count": 36
        }
      ]
    },
    {
      "cell_type": "markdown",
      "metadata": {
        "id": "lI_6thNHXyUE"
      },
      "source": [
        "#### Silme"
      ]
    },
    {
      "cell_type": "markdown",
      "metadata": {
        "id": "zWtpUDN1X4FP"
      },
      "source": [
        "- index işleminde yaptığımız gibi silmek istediğimiz değişkenin ismini vererek siliyoruz.\n",
        "- Değişken bazında silme işlemi yaptıdğımız için yani sütun bazında işlem yaptığımız için axis = 1 dedik"
      ]
    },
    {
      "cell_type": "code",
      "metadata": {
        "id": "H0sgj5tQXzuA"
      },
      "source": [
        "df.drop('var4', axis = 1)"
      ],
      "execution_count": null,
      "outputs": []
    },
    {
      "cell_type": "markdown",
      "metadata": {
        "id": "1PbA9uroYHZ4"
      },
      "source": [
        "### Gözlem ve Değişken Seçimi - loc & iloc"
      ]
    },
    {
      "cell_type": "code",
      "metadata": {
        "colab": {
          "base_uri": "https://localhost:8080/",
          "height": 357
        },
        "id": "928XaFgdYKkc",
        "outputId": "4866e1f4-09af-49f1-f289-364d2af4ac4e"
      },
      "source": [
        "m = np.random.randint(1,30, size = (10,3))\n",
        "\n",
        "df = pd.DataFrame(m, columns = ['var1','var2','var3'])\n",
        "\n",
        "df"
      ],
      "execution_count": null,
      "outputs": [
        {
          "output_type": "execute_result",
          "data": {
            "text/html": [
              "<div>\n",
              "<style scoped>\n",
              "    .dataframe tbody tr th:only-of-type {\n",
              "        vertical-align: middle;\n",
              "    }\n",
              "\n",
              "    .dataframe tbody tr th {\n",
              "        vertical-align: top;\n",
              "    }\n",
              "\n",
              "    .dataframe thead th {\n",
              "        text-align: right;\n",
              "    }\n",
              "</style>\n",
              "<table border=\"1\" class=\"dataframe\">\n",
              "  <thead>\n",
              "    <tr style=\"text-align: right;\">\n",
              "      <th></th>\n",
              "      <th>var1</th>\n",
              "      <th>var2</th>\n",
              "      <th>var3</th>\n",
              "    </tr>\n",
              "  </thead>\n",
              "  <tbody>\n",
              "    <tr>\n",
              "      <th>0</th>\n",
              "      <td>27</td>\n",
              "      <td>7</td>\n",
              "      <td>13</td>\n",
              "    </tr>\n",
              "    <tr>\n",
              "      <th>1</th>\n",
              "      <td>27</td>\n",
              "      <td>20</td>\n",
              "      <td>15</td>\n",
              "    </tr>\n",
              "    <tr>\n",
              "      <th>2</th>\n",
              "      <td>4</td>\n",
              "      <td>8</td>\n",
              "      <td>1</td>\n",
              "    </tr>\n",
              "    <tr>\n",
              "      <th>3</th>\n",
              "      <td>17</td>\n",
              "      <td>19</td>\n",
              "      <td>26</td>\n",
              "    </tr>\n",
              "    <tr>\n",
              "      <th>4</th>\n",
              "      <td>14</td>\n",
              "      <td>5</td>\n",
              "      <td>21</td>\n",
              "    </tr>\n",
              "    <tr>\n",
              "      <th>5</th>\n",
              "      <td>4</td>\n",
              "      <td>11</td>\n",
              "      <td>1</td>\n",
              "    </tr>\n",
              "    <tr>\n",
              "      <th>6</th>\n",
              "      <td>29</td>\n",
              "      <td>12</td>\n",
              "      <td>8</td>\n",
              "    </tr>\n",
              "    <tr>\n",
              "      <th>7</th>\n",
              "      <td>24</td>\n",
              "      <td>27</td>\n",
              "      <td>23</td>\n",
              "    </tr>\n",
              "    <tr>\n",
              "      <th>8</th>\n",
              "      <td>19</td>\n",
              "      <td>21</td>\n",
              "      <td>27</td>\n",
              "    </tr>\n",
              "    <tr>\n",
              "      <th>9</th>\n",
              "      <td>12</td>\n",
              "      <td>27</td>\n",
              "      <td>4</td>\n",
              "    </tr>\n",
              "  </tbody>\n",
              "</table>\n",
              "</div>"
            ],
            "text/plain": [
              "   var1  var2  var3\n",
              "0    27     7    13\n",
              "1    27    20    15\n",
              "2     4     8     1\n",
              "3    17    19    26\n",
              "4    14     5    21\n",
              "5     4    11     1\n",
              "6    29    12     8\n",
              "7    24    27    23\n",
              "8    19    21    27\n",
              "9    12    27     4"
            ]
          },
          "metadata": {},
          "execution_count": 38
        }
      ]
    },
    {
      "cell_type": "markdown",
      "metadata": {
        "id": "w6hALa4FasGm"
      },
      "source": [
        "#### loc\n",
        "\n",
        "- Tanımlandığı şekliyle seçim yapmak için kullanılır."
      ]
    },
    {
      "cell_type": "markdown",
      "metadata": {
        "id": "ki88SrVtcNEe"
      },
      "source": [
        "- **Örneğin loc[ 0 : 3 ] diyerek 0'dan 3'e kadar değil 0 ve 3 dahil alarak işlem yapar loc**"
      ]
    },
    {
      "cell_type": "code",
      "metadata": {
        "colab": {
          "base_uri": "https://localhost:8080/",
          "height": 172
        },
        "id": "WjsLGiEWayz8",
        "outputId": "42626485-5089-4b0b-ad28-52282666f4dc"
      },
      "source": [
        "df.loc[0:3]"
      ],
      "execution_count": null,
      "outputs": [
        {
          "output_type": "execute_result",
          "data": {
            "text/html": [
              "<div>\n",
              "<style scoped>\n",
              "    .dataframe tbody tr th:only-of-type {\n",
              "        vertical-align: middle;\n",
              "    }\n",
              "\n",
              "    .dataframe tbody tr th {\n",
              "        vertical-align: top;\n",
              "    }\n",
              "\n",
              "    .dataframe thead th {\n",
              "        text-align: right;\n",
              "    }\n",
              "</style>\n",
              "<table border=\"1\" class=\"dataframe\">\n",
              "  <thead>\n",
              "    <tr style=\"text-align: right;\">\n",
              "      <th></th>\n",
              "      <th>var1</th>\n",
              "      <th>var2</th>\n",
              "      <th>var3</th>\n",
              "    </tr>\n",
              "  </thead>\n",
              "  <tbody>\n",
              "    <tr>\n",
              "      <th>0</th>\n",
              "      <td>27</td>\n",
              "      <td>7</td>\n",
              "      <td>13</td>\n",
              "    </tr>\n",
              "    <tr>\n",
              "      <th>1</th>\n",
              "      <td>27</td>\n",
              "      <td>20</td>\n",
              "      <td>15</td>\n",
              "    </tr>\n",
              "    <tr>\n",
              "      <th>2</th>\n",
              "      <td>4</td>\n",
              "      <td>8</td>\n",
              "      <td>1</td>\n",
              "    </tr>\n",
              "    <tr>\n",
              "      <th>3</th>\n",
              "      <td>17</td>\n",
              "      <td>19</td>\n",
              "      <td>26</td>\n",
              "    </tr>\n",
              "  </tbody>\n",
              "</table>\n",
              "</div>"
            ],
            "text/plain": [
              "   var1  var2  var3\n",
              "0    27     7    13\n",
              "1    27    20    15\n",
              "2     4     8     1\n",
              "3    17    19    26"
            ]
          },
          "metadata": {},
          "execution_count": 39
        }
      ]
    },
    {
      "cell_type": "markdown",
      "metadata": {
        "id": "Up02DGDEcz75"
      },
      "source": [
        "- **0'dan 3'e kadar 3. gözlem dahil olarak indexleri aldık. Değişken seçerken de \"Seçmek istediğimiz değişkenin ismini vermemiz gerekir.Çünkü loc ile tanımlananlara göre işlem yapar.\"**\n",
        "\n",
        "- **Biz burada var1 ve var2 değişkenleri almak istediğimiz için virgülden sonra 'var1' : 'var2' yazdık.**\n",
        "\n",
        "- **Eğer biz virgülden sonra var1 ve var2'yi seçmek isterken indexleme mantığı ile onların sütun değerlerini girseydik yani \"var1\" : \"var2 \" yerine \" 0 \" : \" 1 \" yazsaydık hata alırdık.Çünkü LOC bunu kabul etmiyor.**"
      ]
    },
    {
      "cell_type": "code",
      "metadata": {
        "colab": {
          "base_uri": "https://localhost:8080/",
          "height": 172
        },
        "id": "pEJC5NUPcvsx",
        "outputId": "bc403add-ec53-4f38-82ff-d8d3726835cc"
      },
      "source": [
        "df.loc[0:3,'var1':'var2']"
      ],
      "execution_count": null,
      "outputs": [
        {
          "output_type": "execute_result",
          "data": {
            "text/html": [
              "<div>\n",
              "<style scoped>\n",
              "    .dataframe tbody tr th:only-of-type {\n",
              "        vertical-align: middle;\n",
              "    }\n",
              "\n",
              "    .dataframe tbody tr th {\n",
              "        vertical-align: top;\n",
              "    }\n",
              "\n",
              "    .dataframe thead th {\n",
              "        text-align: right;\n",
              "    }\n",
              "</style>\n",
              "<table border=\"1\" class=\"dataframe\">\n",
              "  <thead>\n",
              "    <tr style=\"text-align: right;\">\n",
              "      <th></th>\n",
              "      <th>var1</th>\n",
              "      <th>var2</th>\n",
              "    </tr>\n",
              "  </thead>\n",
              "  <tbody>\n",
              "    <tr>\n",
              "      <th>0</th>\n",
              "      <td>27</td>\n",
              "      <td>7</td>\n",
              "    </tr>\n",
              "    <tr>\n",
              "      <th>1</th>\n",
              "      <td>27</td>\n",
              "      <td>20</td>\n",
              "    </tr>\n",
              "    <tr>\n",
              "      <th>2</th>\n",
              "      <td>4</td>\n",
              "      <td>8</td>\n",
              "    </tr>\n",
              "    <tr>\n",
              "      <th>3</th>\n",
              "      <td>17</td>\n",
              "      <td>19</td>\n",
              "    </tr>\n",
              "  </tbody>\n",
              "</table>\n",
              "</div>"
            ],
            "text/plain": [
              "   var1  var2\n",
              "0    27     7\n",
              "1    27    20\n",
              "2     4     8\n",
              "3    17    19"
            ]
          },
          "metadata": {},
          "execution_count": 45
        }
      ]
    },
    {
      "cell_type": "markdown",
      "metadata": {
        "id": "wWc2Zhu4ftlx"
      },
      "source": [
        "- **İstersek belirli bir gözlem aralığında istediğimiz değişkenin değerlerini alabiliriz**"
      ]
    },
    {
      "cell_type": "code",
      "metadata": {
        "colab": {
          "base_uri": "https://localhost:8080/"
        },
        "id": "hTwTHEcNfqpx",
        "outputId": "c4e7c0dc-38b1-498a-9c22-834d5930dfdf"
      },
      "source": [
        "df.loc[0:3,'var3']"
      ],
      "execution_count": null,
      "outputs": [
        {
          "output_type": "execute_result",
          "data": {
            "text/plain": [
              "0    13\n",
              "1    15\n",
              "2     1\n",
              "3    26\n",
              "Name: var3, dtype: int64"
            ]
          },
          "metadata": {},
          "execution_count": 48
        }
      ]
    },
    {
      "cell_type": "markdown",
      "metadata": {
        "id": "3KdTBaTDa90X"
      },
      "source": [
        "#### iloc\n",
        "\n",
        "- indexleme mantığı ile seçim yapar"
      ]
    },
    {
      "cell_type": "markdown",
      "metadata": {
        "id": "PWOJWpxlce6t"
      },
      "source": [
        "- **Ayni indexi iloc ile almaya çalıştığımız da 3. indexteki değerler gelmez.Çünü iloc \"e kadar\" mantığıyla yani indexleme mantığıyla çalışır.**"
      ]
    },
    {
      "cell_type": "code",
      "metadata": {
        "colab": {
          "base_uri": "https://localhost:8080/",
          "height": 142
        },
        "id": "ROYZRViTbCub",
        "outputId": "e8b0a006-7878-420b-a5fc-b9334b292252"
      },
      "source": [
        "df.iloc[0:3]"
      ],
      "execution_count": null,
      "outputs": [
        {
          "output_type": "execute_result",
          "data": {
            "text/html": [
              "<div>\n",
              "<style scoped>\n",
              "    .dataframe tbody tr th:only-of-type {\n",
              "        vertical-align: middle;\n",
              "    }\n",
              "\n",
              "    .dataframe tbody tr th {\n",
              "        vertical-align: top;\n",
              "    }\n",
              "\n",
              "    .dataframe thead th {\n",
              "        text-align: right;\n",
              "    }\n",
              "</style>\n",
              "<table border=\"1\" class=\"dataframe\">\n",
              "  <thead>\n",
              "    <tr style=\"text-align: right;\">\n",
              "      <th></th>\n",
              "      <th>var1</th>\n",
              "      <th>var2</th>\n",
              "      <th>var3</th>\n",
              "    </tr>\n",
              "  </thead>\n",
              "  <tbody>\n",
              "    <tr>\n",
              "      <th>0</th>\n",
              "      <td>27</td>\n",
              "      <td>7</td>\n",
              "      <td>13</td>\n",
              "    </tr>\n",
              "    <tr>\n",
              "      <th>1</th>\n",
              "      <td>27</td>\n",
              "      <td>20</td>\n",
              "      <td>15</td>\n",
              "    </tr>\n",
              "    <tr>\n",
              "      <th>2</th>\n",
              "      <td>4</td>\n",
              "      <td>8</td>\n",
              "      <td>1</td>\n",
              "    </tr>\n",
              "  </tbody>\n",
              "</table>\n",
              "</div>"
            ],
            "text/plain": [
              "   var1  var2  var3\n",
              "0    27     7    13\n",
              "1    27    20    15\n",
              "2     4     8     1"
            ]
          },
          "metadata": {},
          "execution_count": 41
        }
      ]
    },
    {
      "cell_type": "markdown",
      "metadata": {
        "id": "rHawjEH6erPb"
      },
      "source": [
        "- **iloc kullanarak değişken seçerken de seçmek istediğimiz değişkenlerin (sütunların) sütun değerlerine göre indexleme mantığı ile seçim yaparız**\n",
        "\n",
        "- **var1 ve var2'yi almak istiyorsak virgülden sonra onların sütun indexlerini yazmamız gerekiyor. Onların index değerleri 0 ve 1'dir. O yüzden O'dan 2'ye kadar girmemiz gerekiyor. Yani \" 0 : 2 \" yazarız.**\n",
        "\n",
        "- **Eğer almak istediğimiz değişkenin sütun değerleri yerine değişken isimlerine göre işlem yapsaydık hata alırdık.Çünkü iloc bunu kabul etmiyor**"
      ]
    },
    {
      "cell_type": "code",
      "metadata": {
        "colab": {
          "base_uri": "https://localhost:8080/",
          "height": 142
        },
        "id": "E5WeFSFNej1K",
        "outputId": "0f1cb6c0-7973-4923-cf53-a2926ed66607"
      },
      "source": [
        "df.iloc[0:3,0:2]"
      ],
      "execution_count": null,
      "outputs": [
        {
          "output_type": "execute_result",
          "data": {
            "text/html": [
              "<div>\n",
              "<style scoped>\n",
              "    .dataframe tbody tr th:only-of-type {\n",
              "        vertical-align: middle;\n",
              "    }\n",
              "\n",
              "    .dataframe tbody tr th {\n",
              "        vertical-align: top;\n",
              "    }\n",
              "\n",
              "    .dataframe thead th {\n",
              "        text-align: right;\n",
              "    }\n",
              "</style>\n",
              "<table border=\"1\" class=\"dataframe\">\n",
              "  <thead>\n",
              "    <tr style=\"text-align: right;\">\n",
              "      <th></th>\n",
              "      <th>var1</th>\n",
              "      <th>var2</th>\n",
              "    </tr>\n",
              "  </thead>\n",
              "  <tbody>\n",
              "    <tr>\n",
              "      <th>0</th>\n",
              "      <td>27</td>\n",
              "      <td>7</td>\n",
              "    </tr>\n",
              "    <tr>\n",
              "      <th>1</th>\n",
              "      <td>27</td>\n",
              "      <td>20</td>\n",
              "    </tr>\n",
              "    <tr>\n",
              "      <th>2</th>\n",
              "      <td>4</td>\n",
              "      <td>8</td>\n",
              "    </tr>\n",
              "  </tbody>\n",
              "</table>\n",
              "</div>"
            ],
            "text/plain": [
              "   var1  var2\n",
              "0    27     7\n",
              "1    27    20\n",
              "2     4     8"
            ]
          },
          "metadata": {},
          "execution_count": 47
        }
      ]
    },
    {
      "cell_type": "markdown",
      "metadata": {
        "id": "uj5QKWZpf7TP"
      },
      "source": [
        "- **iloc kullanarak belirli bir gözlem aralığında istediğimiz değişkenin değerlerini almak için önce almak istediğimiz gözlem aralığını yazarız daha sonra almak istediiğimiz değişkenin ismini \" [  ] \" (köşeli parantez) içerisine yazmalıyız**"
      ]
    },
    {
      "cell_type": "code",
      "metadata": {
        "colab": {
          "base_uri": "https://localhost:8080/"
        },
        "id": "jE9nAQWagDLa",
        "outputId": "b3e31bee-052e-40fd-a61f-76dfdb80b762"
      },
      "source": [
        "df.iloc[0:3]['var3']"
      ],
      "execution_count": null,
      "outputs": [
        {
          "output_type": "execute_result",
          "data": {
            "text/plain": [
              "0    13\n",
              "1    15\n",
              "2     1\n",
              "Name: var3, dtype: int64"
            ]
          },
          "metadata": {},
          "execution_count": 49
        }
      ]
    },
    {
      "cell_type": "code",
      "metadata": {
        "colab": {
          "base_uri": "https://localhost:8080/"
        },
        "id": "3Aq0z7jFjTEI",
        "outputId": "aa5a3e26-d509-4efb-cdbb-6ab33bdd51b2"
      },
      "source": [
        "df['var1'][0:3]"
      ],
      "execution_count": null,
      "outputs": [
        {
          "output_type": "execute_result",
          "data": {
            "text/plain": [
              "0    27\n",
              "1    27\n",
              "2     4\n",
              "Name: var1, dtype: int64"
            ]
          },
          "metadata": {},
          "execution_count": 52
        }
      ]
    },
    {
      "cell_type": "markdown",
      "metadata": {
        "id": "FlzlfuQImp7g"
      },
      "source": [
        "### Koşullu Eleman İşlemleri"
      ]
    },
    {
      "cell_type": "code",
      "metadata": {
        "colab": {
          "base_uri": "https://localhost:8080/",
          "height": 357
        },
        "id": "MbtxZV5rmxOb",
        "outputId": "ed812846-6453-45d0-8d4b-e445d1ee9b7a"
      },
      "source": [
        "m = np.random.randint(1,30,size = (10,3))\n",
        "\n",
        "df = pd.DataFrame(m, columns = ['var1','var2','var3'])\n",
        "\n",
        "df"
      ],
      "execution_count": null,
      "outputs": [
        {
          "output_type": "execute_result",
          "data": {
            "text/html": [
              "<div>\n",
              "<style scoped>\n",
              "    .dataframe tbody tr th:only-of-type {\n",
              "        vertical-align: middle;\n",
              "    }\n",
              "\n",
              "    .dataframe tbody tr th {\n",
              "        vertical-align: top;\n",
              "    }\n",
              "\n",
              "    .dataframe thead th {\n",
              "        text-align: right;\n",
              "    }\n",
              "</style>\n",
              "<table border=\"1\" class=\"dataframe\">\n",
              "  <thead>\n",
              "    <tr style=\"text-align: right;\">\n",
              "      <th></th>\n",
              "      <th>var1</th>\n",
              "      <th>var2</th>\n",
              "      <th>var3</th>\n",
              "    </tr>\n",
              "  </thead>\n",
              "  <tbody>\n",
              "    <tr>\n",
              "      <th>0</th>\n",
              "      <td>10</td>\n",
              "      <td>25</td>\n",
              "      <td>8</td>\n",
              "    </tr>\n",
              "    <tr>\n",
              "      <th>1</th>\n",
              "      <td>18</td>\n",
              "      <td>7</td>\n",
              "      <td>18</td>\n",
              "    </tr>\n",
              "    <tr>\n",
              "      <th>2</th>\n",
              "      <td>16</td>\n",
              "      <td>17</td>\n",
              "      <td>2</td>\n",
              "    </tr>\n",
              "    <tr>\n",
              "      <th>3</th>\n",
              "      <td>24</td>\n",
              "      <td>8</td>\n",
              "      <td>22</td>\n",
              "    </tr>\n",
              "    <tr>\n",
              "      <th>4</th>\n",
              "      <td>16</td>\n",
              "      <td>6</td>\n",
              "      <td>29</td>\n",
              "    </tr>\n",
              "    <tr>\n",
              "      <th>5</th>\n",
              "      <td>23</td>\n",
              "      <td>20</td>\n",
              "      <td>22</td>\n",
              "    </tr>\n",
              "    <tr>\n",
              "      <th>6</th>\n",
              "      <td>16</td>\n",
              "      <td>5</td>\n",
              "      <td>1</td>\n",
              "    </tr>\n",
              "    <tr>\n",
              "      <th>7</th>\n",
              "      <td>8</td>\n",
              "      <td>9</td>\n",
              "      <td>29</td>\n",
              "    </tr>\n",
              "    <tr>\n",
              "      <th>8</th>\n",
              "      <td>16</td>\n",
              "      <td>20</td>\n",
              "      <td>13</td>\n",
              "    </tr>\n",
              "    <tr>\n",
              "      <th>9</th>\n",
              "      <td>29</td>\n",
              "      <td>26</td>\n",
              "      <td>16</td>\n",
              "    </tr>\n",
              "  </tbody>\n",
              "</table>\n",
              "</div>"
            ],
            "text/plain": [
              "   var1  var2  var3\n",
              "0    10    25     8\n",
              "1    18     7    18\n",
              "2    16    17     2\n",
              "3    24     8    22\n",
              "4    16     6    29\n",
              "5    23    20    22\n",
              "6    16     5     1\n",
              "7     8     9    29\n",
              "8    16    20    13\n",
              "9    29    26    16"
            ]
          },
          "metadata": {},
          "execution_count": 57
        }
      ]
    },
    {
      "cell_type": "markdown",
      "metadata": {
        "id": "ycs6zPXmqlS2"
      },
      "source": [
        "- **Datamızın var1 değişkenindeki değerlerden 15'ten büyük olanların sorgusunu yapalım**\n",
        "\n",
        "- Bildiğimiz üzere bize boolean değerler dönecek."
      ]
    },
    {
      "cell_type": "code",
      "metadata": {
        "colab": {
          "base_uri": "https://localhost:8080/"
        },
        "id": "ZcgIoJilnChi",
        "outputId": "a7069eb8-d390-4a63-8e6f-8f819a0912d1"
      },
      "source": [
        "df['var1'] > 15"
      ],
      "execution_count": null,
      "outputs": [
        {
          "output_type": "execute_result",
          "data": {
            "text/plain": [
              "0    False\n",
              "1     True\n",
              "2     True\n",
              "3     True\n",
              "4     True\n",
              "5     True\n",
              "6     True\n",
              "7    False\n",
              "8     True\n",
              "9     True\n",
              "Name: var1, dtype: bool"
            ]
          },
          "metadata": {},
          "execution_count": 67
        }
      ]
    },
    {
      "cell_type": "markdown",
      "metadata": {
        "id": "P-Jld0K-q-dj"
      },
      "source": [
        "- **var1 değişkenindeki değerlerden 15'ten büyük olanları alalım.**\n",
        "\n",
        "- **Yani sorgusu True olan elemanları alalım**\n",
        "\n",
        "- **Tüm data üzerinden var1 değişkeninde ki değerlerden 15'ten büyük olanları almak istersek sorgumuzu df yazıp köşeli parantez içerisinde yapmamız lazım**"
      ]
    },
    {
      "cell_type": "code",
      "metadata": {
        "colab": {
          "base_uri": "https://localhost:8080/",
          "height": 295
        },
        "id": "89fFdKisrO2o",
        "outputId": "63873889-a3af-4455-b6b8-8255c2714a01"
      },
      "source": [
        "df[df['var1'] > 15]"
      ],
      "execution_count": null,
      "outputs": [
        {
          "output_type": "execute_result",
          "data": {
            "text/html": [
              "<div>\n",
              "<style scoped>\n",
              "    .dataframe tbody tr th:only-of-type {\n",
              "        vertical-align: middle;\n",
              "    }\n",
              "\n",
              "    .dataframe tbody tr th {\n",
              "        vertical-align: top;\n",
              "    }\n",
              "\n",
              "    .dataframe thead th {\n",
              "        text-align: right;\n",
              "    }\n",
              "</style>\n",
              "<table border=\"1\" class=\"dataframe\">\n",
              "  <thead>\n",
              "    <tr style=\"text-align: right;\">\n",
              "      <th></th>\n",
              "      <th>var1</th>\n",
              "      <th>var2</th>\n",
              "      <th>var3</th>\n",
              "    </tr>\n",
              "  </thead>\n",
              "  <tbody>\n",
              "    <tr>\n",
              "      <th>1</th>\n",
              "      <td>18</td>\n",
              "      <td>7</td>\n",
              "      <td>18</td>\n",
              "    </tr>\n",
              "    <tr>\n",
              "      <th>2</th>\n",
              "      <td>16</td>\n",
              "      <td>17</td>\n",
              "      <td>2</td>\n",
              "    </tr>\n",
              "    <tr>\n",
              "      <th>3</th>\n",
              "      <td>24</td>\n",
              "      <td>8</td>\n",
              "      <td>22</td>\n",
              "    </tr>\n",
              "    <tr>\n",
              "      <th>4</th>\n",
              "      <td>16</td>\n",
              "      <td>6</td>\n",
              "      <td>29</td>\n",
              "    </tr>\n",
              "    <tr>\n",
              "      <th>5</th>\n",
              "      <td>23</td>\n",
              "      <td>20</td>\n",
              "      <td>22</td>\n",
              "    </tr>\n",
              "    <tr>\n",
              "      <th>6</th>\n",
              "      <td>16</td>\n",
              "      <td>5</td>\n",
              "      <td>1</td>\n",
              "    </tr>\n",
              "    <tr>\n",
              "      <th>8</th>\n",
              "      <td>16</td>\n",
              "      <td>20</td>\n",
              "      <td>13</td>\n",
              "    </tr>\n",
              "    <tr>\n",
              "      <th>9</th>\n",
              "      <td>29</td>\n",
              "      <td>26</td>\n",
              "      <td>16</td>\n",
              "    </tr>\n",
              "  </tbody>\n",
              "</table>\n",
              "</div>"
            ],
            "text/plain": [
              "   var1  var2  var3\n",
              "1    18     7    18\n",
              "2    16    17     2\n",
              "3    24     8    22\n",
              "4    16     6    29\n",
              "5    23    20    22\n",
              "6    16     5     1\n",
              "8    16    20    13\n",
              "9    29    26    16"
            ]
          },
          "metadata": {},
          "execution_count": 68
        }
      ]
    },
    {
      "cell_type": "markdown",
      "metadata": {
        "id": "QkcMI7evrsxA"
      },
      "source": [
        "- **Sadece var1 değişkeninde ki 15'ten büyük değerleri almak istersek, df [ \" almak istediğimiz değişken \" ] yazıp köşeli paranttez içerisinde sorgumuzu yaparız**"
      ]
    },
    {
      "cell_type": "code",
      "metadata": {
        "colab": {
          "base_uri": "https://localhost:8080/"
        },
        "id": "aT7bA5iOrzli",
        "outputId": "4ef49640-17b0-4b6f-f828-df4905d3cfa4"
      },
      "source": [
        "df['var1'][df['var1'] > 15]"
      ],
      "execution_count": null,
      "outputs": [
        {
          "output_type": "execute_result",
          "data": {
            "text/plain": [
              "1    18\n",
              "2    16\n",
              "3    24\n",
              "4    16\n",
              "5    23\n",
              "6    16\n",
              "8    16\n",
              "9    29\n",
              "Name: var1, dtype: int64"
            ]
          },
          "metadata": {},
          "execution_count": 69
        }
      ]
    },
    {
      "cell_type": "markdown",
      "metadata": {
        "id": "ce5UwJ0HsFzU"
      },
      "source": [
        "- Aynı işlemi şu şekilde de yapabiliriz\n",
        "\n",
        "- **Tüm data üzerinden sorgumuzu yazıp çıkan sonuçtan sadece \" var1 \" değişkeninde ki değerleri al demiş olduk.**"
      ]
    },
    {
      "cell_type": "code",
      "metadata": {
        "colab": {
          "base_uri": "https://localhost:8080/"
        },
        "id": "frgG4HfhsIeH",
        "outputId": "4c2332af-d073-4b00-aa8b-9c5a8a9803f4"
      },
      "source": [
        "df[df['var1'] > 15]['var1']"
      ],
      "execution_count": null,
      "outputs": [
        {
          "output_type": "execute_result",
          "data": {
            "text/plain": [
              "1    18\n",
              "2    16\n",
              "3    24\n",
              "4    16\n",
              "5    23\n",
              "6    16\n",
              "8    16\n",
              "9    29\n",
              "Name: var1, dtype: int64"
            ]
          },
          "metadata": {},
          "execution_count": 70
        }
      ]
    },
    {
      "cell_type": "markdown",
      "metadata": {
        "id": "7iQhr_cps6ip"
      },
      "source": [
        "- **Aynı değişken için farklı koşullar yazarakta sorguda bulunabiliriz.**\n",
        "\n",
        "- **var1 değişkeninde ki değerlerden 15'ten büyük ve 25'ten küçük olan koşulu sağlayan değerleri tüm df üzerinden ver dedik**"
      ]
    },
    {
      "cell_type": "code",
      "metadata": {
        "colab": {
          "base_uri": "https://localhost:8080/",
          "height": 265
        },
        "id": "okCgNYN8tB1Y",
        "outputId": "4847253a-cfa0-4665-99bf-9d85cd50a710"
      },
      "source": [
        "df[(df['var1'] > 15) & (df['var1'] < 25)]"
      ],
      "execution_count": null,
      "outputs": [
        {
          "output_type": "execute_result",
          "data": {
            "text/html": [
              "<div>\n",
              "<style scoped>\n",
              "    .dataframe tbody tr th:only-of-type {\n",
              "        vertical-align: middle;\n",
              "    }\n",
              "\n",
              "    .dataframe tbody tr th {\n",
              "        vertical-align: top;\n",
              "    }\n",
              "\n",
              "    .dataframe thead th {\n",
              "        text-align: right;\n",
              "    }\n",
              "</style>\n",
              "<table border=\"1\" class=\"dataframe\">\n",
              "  <thead>\n",
              "    <tr style=\"text-align: right;\">\n",
              "      <th></th>\n",
              "      <th>var1</th>\n",
              "      <th>var2</th>\n",
              "      <th>var3</th>\n",
              "    </tr>\n",
              "  </thead>\n",
              "  <tbody>\n",
              "    <tr>\n",
              "      <th>1</th>\n",
              "      <td>18</td>\n",
              "      <td>7</td>\n",
              "      <td>18</td>\n",
              "    </tr>\n",
              "    <tr>\n",
              "      <th>2</th>\n",
              "      <td>16</td>\n",
              "      <td>17</td>\n",
              "      <td>2</td>\n",
              "    </tr>\n",
              "    <tr>\n",
              "      <th>3</th>\n",
              "      <td>24</td>\n",
              "      <td>8</td>\n",
              "      <td>22</td>\n",
              "    </tr>\n",
              "    <tr>\n",
              "      <th>4</th>\n",
              "      <td>16</td>\n",
              "      <td>6</td>\n",
              "      <td>29</td>\n",
              "    </tr>\n",
              "    <tr>\n",
              "      <th>5</th>\n",
              "      <td>23</td>\n",
              "      <td>20</td>\n",
              "      <td>22</td>\n",
              "    </tr>\n",
              "    <tr>\n",
              "      <th>6</th>\n",
              "      <td>16</td>\n",
              "      <td>5</td>\n",
              "      <td>1</td>\n",
              "    </tr>\n",
              "    <tr>\n",
              "      <th>8</th>\n",
              "      <td>16</td>\n",
              "      <td>20</td>\n",
              "      <td>13</td>\n",
              "    </tr>\n",
              "  </tbody>\n",
              "</table>\n",
              "</div>"
            ],
            "text/plain": [
              "   var1  var2  var3\n",
              "1    18     7    18\n",
              "2    16    17     2\n",
              "3    24     8    22\n",
              "4    16     6    29\n",
              "5    23    20    22\n",
              "6    16     5     1\n",
              "8    16    20    13"
            ]
          },
          "metadata": {},
          "execution_count": 71
        }
      ]
    },
    {
      "cell_type": "markdown",
      "metadata": {
        "id": "2H-rwfmDtqoW"
      },
      "source": [
        "- **Yukarıda ki koşulu sağlayan değerlerden sadece var1 değişkeninde olanları almak istersek df['var1'] değişkenimizden sonra sorgumuzu köşeli parantez içerisinde yapıyoruz**"
      ]
    },
    {
      "cell_type": "code",
      "metadata": {
        "colab": {
          "base_uri": "https://localhost:8080/"
        },
        "id": "Vius7z-jt2Lo",
        "outputId": "c9acddf1-2c37-40a1-cc84-1a6bed620162"
      },
      "source": [
        "df['var1'][(df['var1'] > 15) & (df['var1'] < 25)]"
      ],
      "execution_count": null,
      "outputs": [
        {
          "output_type": "execute_result",
          "data": {
            "text/plain": [
              "1    18\n",
              "2    16\n",
              "3    24\n",
              "4    16\n",
              "5    23\n",
              "6    16\n",
              "8    16\n",
              "Name: var1, dtype: int64"
            ]
          },
          "metadata": {},
          "execution_count": 72
        }
      ]
    },
    {
      "cell_type": "markdown",
      "metadata": {
        "id": "a7-JgNRqvFnb"
      },
      "source": [
        "- **Sorgumuzu sağlayan elemanları birden fazla istediğimiz değişkenler üzerinde de görebiliriz**\n",
        "\n",
        "- **Tüm datamız üzerinden istediğimiz değişkenleri alacağımız için öncelikle df yazıp köşeli parantez açıp sorgumuzu yapıyoruz.Ardından hangi değişkenleri almak istiyorsak \"Çift Parantez\" içerisinde o değişken isimlerini yazıyoruz.**\n",
        "\n",
        "- **NOT = Eğer birden fazla değişken almak istiyorsak \" ÇİFT PARANTEZ \" içerisinde yazarız.**"
      ]
    },
    {
      "cell_type": "code",
      "metadata": {
        "colab": {
          "base_uri": "https://localhost:8080/",
          "height": 295
        },
        "id": "SD3YjJr5uyfc",
        "outputId": "0ce257b6-884d-4c57-80e8-ba4585ad789d"
      },
      "source": [
        "df[df['var1'] > 15][['var1','var2']]"
      ],
      "execution_count": null,
      "outputs": [
        {
          "output_type": "execute_result",
          "data": {
            "text/html": [
              "<div>\n",
              "<style scoped>\n",
              "    .dataframe tbody tr th:only-of-type {\n",
              "        vertical-align: middle;\n",
              "    }\n",
              "\n",
              "    .dataframe tbody tr th {\n",
              "        vertical-align: top;\n",
              "    }\n",
              "\n",
              "    .dataframe thead th {\n",
              "        text-align: right;\n",
              "    }\n",
              "</style>\n",
              "<table border=\"1\" class=\"dataframe\">\n",
              "  <thead>\n",
              "    <tr style=\"text-align: right;\">\n",
              "      <th></th>\n",
              "      <th>var1</th>\n",
              "      <th>var2</th>\n",
              "    </tr>\n",
              "  </thead>\n",
              "  <tbody>\n",
              "    <tr>\n",
              "      <th>1</th>\n",
              "      <td>18</td>\n",
              "      <td>7</td>\n",
              "    </tr>\n",
              "    <tr>\n",
              "      <th>2</th>\n",
              "      <td>16</td>\n",
              "      <td>17</td>\n",
              "    </tr>\n",
              "    <tr>\n",
              "      <th>3</th>\n",
              "      <td>24</td>\n",
              "      <td>8</td>\n",
              "    </tr>\n",
              "    <tr>\n",
              "      <th>4</th>\n",
              "      <td>16</td>\n",
              "      <td>6</td>\n",
              "    </tr>\n",
              "    <tr>\n",
              "      <th>5</th>\n",
              "      <td>23</td>\n",
              "      <td>20</td>\n",
              "    </tr>\n",
              "    <tr>\n",
              "      <th>6</th>\n",
              "      <td>16</td>\n",
              "      <td>5</td>\n",
              "    </tr>\n",
              "    <tr>\n",
              "      <th>8</th>\n",
              "      <td>16</td>\n",
              "      <td>20</td>\n",
              "    </tr>\n",
              "    <tr>\n",
              "      <th>9</th>\n",
              "      <td>29</td>\n",
              "      <td>26</td>\n",
              "    </tr>\n",
              "  </tbody>\n",
              "</table>\n",
              "</div>"
            ],
            "text/plain": [
              "   var1  var2\n",
              "1    18     7\n",
              "2    16    17\n",
              "3    24     8\n",
              "4    16     6\n",
              "5    23    20\n",
              "6    16     5\n",
              "8    16    20\n",
              "9    29    26"
            ]
          },
          "metadata": {},
          "execution_count": 74
        }
      ]
    },
    {
      "cell_type": "markdown",
      "metadata": {
        "id": "F0DDJSpqwMTz"
      },
      "source": [
        "- **Birden fazla değişken üzerinde sorgu yapma işlemini loc kullanarakta yapabiliriz.**"
      ]
    },
    {
      "cell_type": "markdown",
      "metadata": {
        "id": "Hd9yIsPhuN-n"
      },
      "source": [
        "- **loc kullanarakta sorgu yapabilir ve istediğimiz değişkenlerde bu sorguyu sağlayan değerlere ulaşabiliriz**\n",
        "\n",
        "- **df.loc'tan sonra köşeli parantez içerisinde sorgumuzu gerçekleştirip, yine köşeli parantez içerisinde almak istediğimiz değişkenlerin isimlerini yazarız.**\n"
      ]
    },
    {
      "cell_type": "code",
      "metadata": {
        "colab": {
          "base_uri": "https://localhost:8080/",
          "height": 295
        },
        "id": "008ExJBsuZWP",
        "outputId": "14d1580f-f4de-4cbd-c27f-68dac41ef240"
      },
      "source": [
        "df.loc[df['var1'] > 15, ['var1','var2']]"
      ],
      "execution_count": null,
      "outputs": [
        {
          "output_type": "execute_result",
          "data": {
            "text/html": [
              "<div>\n",
              "<style scoped>\n",
              "    .dataframe tbody tr th:only-of-type {\n",
              "        vertical-align: middle;\n",
              "    }\n",
              "\n",
              "    .dataframe tbody tr th {\n",
              "        vertical-align: top;\n",
              "    }\n",
              "\n",
              "    .dataframe thead th {\n",
              "        text-align: right;\n",
              "    }\n",
              "</style>\n",
              "<table border=\"1\" class=\"dataframe\">\n",
              "  <thead>\n",
              "    <tr style=\"text-align: right;\">\n",
              "      <th></th>\n",
              "      <th>var1</th>\n",
              "      <th>var2</th>\n",
              "    </tr>\n",
              "  </thead>\n",
              "  <tbody>\n",
              "    <tr>\n",
              "      <th>1</th>\n",
              "      <td>18</td>\n",
              "      <td>7</td>\n",
              "    </tr>\n",
              "    <tr>\n",
              "      <th>2</th>\n",
              "      <td>16</td>\n",
              "      <td>17</td>\n",
              "    </tr>\n",
              "    <tr>\n",
              "      <th>3</th>\n",
              "      <td>24</td>\n",
              "      <td>8</td>\n",
              "    </tr>\n",
              "    <tr>\n",
              "      <th>4</th>\n",
              "      <td>16</td>\n",
              "      <td>6</td>\n",
              "    </tr>\n",
              "    <tr>\n",
              "      <th>5</th>\n",
              "      <td>23</td>\n",
              "      <td>20</td>\n",
              "    </tr>\n",
              "    <tr>\n",
              "      <th>6</th>\n",
              "      <td>16</td>\n",
              "      <td>5</td>\n",
              "    </tr>\n",
              "    <tr>\n",
              "      <th>8</th>\n",
              "      <td>16</td>\n",
              "      <td>20</td>\n",
              "    </tr>\n",
              "    <tr>\n",
              "      <th>9</th>\n",
              "      <td>29</td>\n",
              "      <td>26</td>\n",
              "    </tr>\n",
              "  </tbody>\n",
              "</table>\n",
              "</div>"
            ],
            "text/plain": [
              "   var1  var2\n",
              "1    18     7\n",
              "2    16    17\n",
              "3    24     8\n",
              "4    16     6\n",
              "5    23    20\n",
              "6    16     5\n",
              "8    16    20\n",
              "9    29    26"
            ]
          },
          "metadata": {},
          "execution_count": 73
        }
      ]
    },
    {
      "cell_type": "markdown",
      "metadata": {
        "id": "r3COJcOkD7z7"
      },
      "source": [
        "##Birleştirme - Join"
      ]
    },
    {
      "cell_type": "code",
      "metadata": {
        "colab": {
          "base_uri": "https://localhost:8080/",
          "height": 203
        },
        "id": "5N554IgFEBwq",
        "outputId": "2ea2a65f-317f-4d4f-a82e-7ef9bf641985"
      },
      "source": [
        "m = np.random.randint(1,30, size = (5,3)) #5'e 3'lük boyutlu bir matris ouluşturduk.Değerleri de 1'den 30'a kadar random olacak.\n",
        "\n",
        "df = pd.DataFrame(m, columns = ['var1','var2','var3'])\n",
        "\n",
        "df"
      ],
      "execution_count": null,
      "outputs": [
        {
          "output_type": "execute_result",
          "data": {
            "text/html": [
              "<div>\n",
              "<style scoped>\n",
              "    .dataframe tbody tr th:only-of-type {\n",
              "        vertical-align: middle;\n",
              "    }\n",
              "\n",
              "    .dataframe tbody tr th {\n",
              "        vertical-align: top;\n",
              "    }\n",
              "\n",
              "    .dataframe thead th {\n",
              "        text-align: right;\n",
              "    }\n",
              "</style>\n",
              "<table border=\"1\" class=\"dataframe\">\n",
              "  <thead>\n",
              "    <tr style=\"text-align: right;\">\n",
              "      <th></th>\n",
              "      <th>var1</th>\n",
              "      <th>var2</th>\n",
              "      <th>var3</th>\n",
              "    </tr>\n",
              "  </thead>\n",
              "  <tbody>\n",
              "    <tr>\n",
              "      <th>0</th>\n",
              "      <td>7</td>\n",
              "      <td>15</td>\n",
              "      <td>25</td>\n",
              "    </tr>\n",
              "    <tr>\n",
              "      <th>1</th>\n",
              "      <td>28</td>\n",
              "      <td>23</td>\n",
              "      <td>25</td>\n",
              "    </tr>\n",
              "    <tr>\n",
              "      <th>2</th>\n",
              "      <td>25</td>\n",
              "      <td>10</td>\n",
              "      <td>12</td>\n",
              "    </tr>\n",
              "    <tr>\n",
              "      <th>3</th>\n",
              "      <td>20</td>\n",
              "      <td>16</td>\n",
              "      <td>15</td>\n",
              "    </tr>\n",
              "    <tr>\n",
              "      <th>4</th>\n",
              "      <td>20</td>\n",
              "      <td>25</td>\n",
              "      <td>16</td>\n",
              "    </tr>\n",
              "  </tbody>\n",
              "</table>\n",
              "</div>"
            ],
            "text/plain": [
              "   var1  var2  var3\n",
              "0     7    15    25\n",
              "1    28    23    25\n",
              "2    25    10    12\n",
              "3    20    16    15\n",
              "4    20    25    16"
            ]
          },
          "metadata": {},
          "execution_count": 4
        }
      ]
    },
    {
      "cell_type": "markdown",
      "metadata": {
        "id": "G2nAjmEbFA5S"
      },
      "source": [
        "- Yeni bir df elde edelim.İlk df'mizin değerlerine 30 ekleyerek yeni df2'yi elde edelim."
      ]
    },
    {
      "cell_type": "code",
      "metadata": {
        "colab": {
          "base_uri": "https://localhost:8080/",
          "height": 203
        },
        "id": "tN7qEJ0oFNYi",
        "outputId": "dbefed67-db6d-48d8-ac02-6e0e30efe2ce"
      },
      "source": [
        "df2 = df + 30\n",
        "\n",
        "df2"
      ],
      "execution_count": null,
      "outputs": [
        {
          "output_type": "execute_result",
          "data": {
            "text/html": [
              "<div>\n",
              "<style scoped>\n",
              "    .dataframe tbody tr th:only-of-type {\n",
              "        vertical-align: middle;\n",
              "    }\n",
              "\n",
              "    .dataframe tbody tr th {\n",
              "        vertical-align: top;\n",
              "    }\n",
              "\n",
              "    .dataframe thead th {\n",
              "        text-align: right;\n",
              "    }\n",
              "</style>\n",
              "<table border=\"1\" class=\"dataframe\">\n",
              "  <thead>\n",
              "    <tr style=\"text-align: right;\">\n",
              "      <th></th>\n",
              "      <th>var1</th>\n",
              "      <th>var2</th>\n",
              "      <th>var3</th>\n",
              "    </tr>\n",
              "  </thead>\n",
              "  <tbody>\n",
              "    <tr>\n",
              "      <th>0</th>\n",
              "      <td>37</td>\n",
              "      <td>45</td>\n",
              "      <td>55</td>\n",
              "    </tr>\n",
              "    <tr>\n",
              "      <th>1</th>\n",
              "      <td>58</td>\n",
              "      <td>53</td>\n",
              "      <td>55</td>\n",
              "    </tr>\n",
              "    <tr>\n",
              "      <th>2</th>\n",
              "      <td>55</td>\n",
              "      <td>40</td>\n",
              "      <td>42</td>\n",
              "    </tr>\n",
              "    <tr>\n",
              "      <th>3</th>\n",
              "      <td>50</td>\n",
              "      <td>46</td>\n",
              "      <td>45</td>\n",
              "    </tr>\n",
              "    <tr>\n",
              "      <th>4</th>\n",
              "      <td>50</td>\n",
              "      <td>55</td>\n",
              "      <td>46</td>\n",
              "    </tr>\n",
              "  </tbody>\n",
              "</table>\n",
              "</div>"
            ],
            "text/plain": [
              "   var1  var2  var3\n",
              "0    37    45    55\n",
              "1    58    53    55\n",
              "2    55    40    42\n",
              "3    50    46    45\n",
              "4    50    55    46"
            ]
          },
          "metadata": {},
          "execution_count": 6
        }
      ]
    },
    {
      "cell_type": "markdown",
      "metadata": {
        "id": "rjT5jt5CFevJ"
      },
      "source": [
        "### Concat() ile Birleştirme"
      ]
    },
    {
      "cell_type": "markdown",
      "metadata": {
        "id": "uFcIY58jFiWp"
      },
      "source": [
        "- Yukarıda elde ettiğimiz df ve df1 dataframelerimizi **concat()** ile birleştireceğiz.\n",
        "- Birleştirme yapmak istediğimiz dataları liste içerisinde gönderiyoruz. \"**[ df, df2 ]**\""
      ]
    },
    {
      "cell_type": "code",
      "metadata": {
        "colab": {
          "base_uri": "https://localhost:8080/",
          "height": 357
        },
        "id": "G-__c0GzFrWf",
        "outputId": "519f1152-d455-49bd-d04b-97104fdc1135"
      },
      "source": [
        "pd.concat([df,df2])"
      ],
      "execution_count": null,
      "outputs": [
        {
          "output_type": "execute_result",
          "data": {
            "text/html": [
              "<div>\n",
              "<style scoped>\n",
              "    .dataframe tbody tr th:only-of-type {\n",
              "        vertical-align: middle;\n",
              "    }\n",
              "\n",
              "    .dataframe tbody tr th {\n",
              "        vertical-align: top;\n",
              "    }\n",
              "\n",
              "    .dataframe thead th {\n",
              "        text-align: right;\n",
              "    }\n",
              "</style>\n",
              "<table border=\"1\" class=\"dataframe\">\n",
              "  <thead>\n",
              "    <tr style=\"text-align: right;\">\n",
              "      <th></th>\n",
              "      <th>var1</th>\n",
              "      <th>var2</th>\n",
              "      <th>var3</th>\n",
              "    </tr>\n",
              "  </thead>\n",
              "  <tbody>\n",
              "    <tr>\n",
              "      <th>0</th>\n",
              "      <td>7</td>\n",
              "      <td>15</td>\n",
              "      <td>25</td>\n",
              "    </tr>\n",
              "    <tr>\n",
              "      <th>1</th>\n",
              "      <td>28</td>\n",
              "      <td>23</td>\n",
              "      <td>25</td>\n",
              "    </tr>\n",
              "    <tr>\n",
              "      <th>2</th>\n",
              "      <td>25</td>\n",
              "      <td>10</td>\n",
              "      <td>12</td>\n",
              "    </tr>\n",
              "    <tr>\n",
              "      <th>3</th>\n",
              "      <td>20</td>\n",
              "      <td>16</td>\n",
              "      <td>15</td>\n",
              "    </tr>\n",
              "    <tr>\n",
              "      <th>4</th>\n",
              "      <td>20</td>\n",
              "      <td>25</td>\n",
              "      <td>16</td>\n",
              "    </tr>\n",
              "    <tr>\n",
              "      <th>0</th>\n",
              "      <td>37</td>\n",
              "      <td>45</td>\n",
              "      <td>55</td>\n",
              "    </tr>\n",
              "    <tr>\n",
              "      <th>1</th>\n",
              "      <td>58</td>\n",
              "      <td>53</td>\n",
              "      <td>55</td>\n",
              "    </tr>\n",
              "    <tr>\n",
              "      <th>2</th>\n",
              "      <td>55</td>\n",
              "      <td>40</td>\n",
              "      <td>42</td>\n",
              "    </tr>\n",
              "    <tr>\n",
              "      <th>3</th>\n",
              "      <td>50</td>\n",
              "      <td>46</td>\n",
              "      <td>45</td>\n",
              "    </tr>\n",
              "    <tr>\n",
              "      <th>4</th>\n",
              "      <td>50</td>\n",
              "      <td>55</td>\n",
              "      <td>46</td>\n",
              "    </tr>\n",
              "  </tbody>\n",
              "</table>\n",
              "</div>"
            ],
            "text/plain": [
              "   var1  var2  var3\n",
              "0     7    15    25\n",
              "1    28    23    25\n",
              "2    25    10    12\n",
              "3    20    16    15\n",
              "4    20    25    16\n",
              "0    37    45    55\n",
              "1    58    53    55\n",
              "2    55    40    42\n",
              "3    50    46    45\n",
              "4    50    55    46"
            ]
          },
          "metadata": {},
          "execution_count": 7
        }
      ]
    },
    {
      "cell_type": "markdown",
      "metadata": {
        "id": "4Ngsb4DGL3LL"
      },
      "source": [
        "- df ve df2 datalarımızı concat ile birleştirdik.\n",
        "- Birleştirme sonucunda elde ettiğimiz yeni datamızın indexlerine baktığımızda bir index problemimiz var.\n",
        "   - 0'dan 4'e kadar gidiyor ve yine 0'dan 4'e kadar gidiyor.\n",
        "\n",
        "- **Bu problemi gidermek için \" ignore_index \" parametresine \" TRUE \" dememiz yeterli olacaktır.**"
      ]
    },
    {
      "cell_type": "code",
      "metadata": {
        "colab": {
          "base_uri": "https://localhost:8080/",
          "height": 357
        },
        "id": "9hI8284IMtkF",
        "outputId": "138fbba2-8d6c-41e1-be03-573efacc57ad"
      },
      "source": [
        "pd.concat([df,df2], ignore_index = True)"
      ],
      "execution_count": null,
      "outputs": [
        {
          "output_type": "execute_result",
          "data": {
            "text/html": [
              "<div>\n",
              "<style scoped>\n",
              "    .dataframe tbody tr th:only-of-type {\n",
              "        vertical-align: middle;\n",
              "    }\n",
              "\n",
              "    .dataframe tbody tr th {\n",
              "        vertical-align: top;\n",
              "    }\n",
              "\n",
              "    .dataframe thead th {\n",
              "        text-align: right;\n",
              "    }\n",
              "</style>\n",
              "<table border=\"1\" class=\"dataframe\">\n",
              "  <thead>\n",
              "    <tr style=\"text-align: right;\">\n",
              "      <th></th>\n",
              "      <th>var1</th>\n",
              "      <th>var2</th>\n",
              "      <th>var3</th>\n",
              "    </tr>\n",
              "  </thead>\n",
              "  <tbody>\n",
              "    <tr>\n",
              "      <th>0</th>\n",
              "      <td>7</td>\n",
              "      <td>15</td>\n",
              "      <td>25</td>\n",
              "    </tr>\n",
              "    <tr>\n",
              "      <th>1</th>\n",
              "      <td>28</td>\n",
              "      <td>23</td>\n",
              "      <td>25</td>\n",
              "    </tr>\n",
              "    <tr>\n",
              "      <th>2</th>\n",
              "      <td>25</td>\n",
              "      <td>10</td>\n",
              "      <td>12</td>\n",
              "    </tr>\n",
              "    <tr>\n",
              "      <th>3</th>\n",
              "      <td>20</td>\n",
              "      <td>16</td>\n",
              "      <td>15</td>\n",
              "    </tr>\n",
              "    <tr>\n",
              "      <th>4</th>\n",
              "      <td>20</td>\n",
              "      <td>25</td>\n",
              "      <td>16</td>\n",
              "    </tr>\n",
              "    <tr>\n",
              "      <th>5</th>\n",
              "      <td>37</td>\n",
              "      <td>45</td>\n",
              "      <td>55</td>\n",
              "    </tr>\n",
              "    <tr>\n",
              "      <th>6</th>\n",
              "      <td>58</td>\n",
              "      <td>53</td>\n",
              "      <td>55</td>\n",
              "    </tr>\n",
              "    <tr>\n",
              "      <th>7</th>\n",
              "      <td>55</td>\n",
              "      <td>40</td>\n",
              "      <td>42</td>\n",
              "    </tr>\n",
              "    <tr>\n",
              "      <th>8</th>\n",
              "      <td>50</td>\n",
              "      <td>46</td>\n",
              "      <td>45</td>\n",
              "    </tr>\n",
              "    <tr>\n",
              "      <th>9</th>\n",
              "      <td>50</td>\n",
              "      <td>55</td>\n",
              "      <td>46</td>\n",
              "    </tr>\n",
              "  </tbody>\n",
              "</table>\n",
              "</div>"
            ],
            "text/plain": [
              "   var1  var2  var3\n",
              "0     7    15    25\n",
              "1    28    23    25\n",
              "2    25    10    12\n",
              "3    20    16    15\n",
              "4    20    25    16\n",
              "5    37    45    55\n",
              "6    58    53    55\n",
              "7    55    40    42\n",
              "8    50    46    45\n",
              "9    50    55    46"
            ]
          },
          "metadata": {},
          "execution_count": 9
        }
      ]
    },
    {
      "cell_type": "markdown",
      "metadata": {
        "id": "EP4x0439OSVU"
      },
      "source": [
        "- Datamızın değişken isimlerine nasıl ulaşağımızı biliyoruz"
      ]
    },
    {
      "cell_type": "code",
      "metadata": {
        "colab": {
          "base_uri": "https://localhost:8080/"
        },
        "id": "3cr5aRw-OZlk",
        "outputId": "6a738939-ea1f-4997-8941-ec0e183b870c"
      },
      "source": [
        "df2.columns"
      ],
      "execution_count": null,
      "outputs": [
        {
          "output_type": "execute_result",
          "data": {
            "text/plain": [
              "Index(['var1', 'var2', 'var3'], dtype='object')"
            ]
          },
          "metadata": {},
          "execution_count": 11
        }
      ]
    },
    {
      "cell_type": "markdown",
      "metadata": {
        "id": "q3YJdnDYOdw0"
      },
      "source": [
        "- **İstediğimiz değişkenin ismini aşağıda ki gibi değiştirebiliriz**\n",
        "\n",
        "- df2 datamızın \" var3 \" olan değişkenin ismini \" deg3 \" olarak değiştirdik.\n",
        "- **df2.columns() ile değişken isimlerini almıştık.Bu bize 3 tane değer döndürdü.Çünkü 3 tane değişken ismimiz var. Bu sebeple yeni değişken ismi ataması yaparken \" LİSTE İÇERİSİNDE \" yeni değişken isimlerini yazarak, \"DEĞİŞKEN SAYIMIZ KADAR \" değer göndeririz.** "
      ]
    },
    {
      "cell_type": "code",
      "metadata": {
        "colab": {
          "base_uri": "https://localhost:8080/",
          "height": 203
        },
        "id": "YH822W4QOh09",
        "outputId": "6aff9021-003f-4290-fe48-c279156e79a6"
      },
      "source": [
        "df2.columns = ['var1','var2','deg3']\n",
        "\n",
        "df2"
      ],
      "execution_count": null,
      "outputs": [
        {
          "output_type": "execute_result",
          "data": {
            "text/html": [
              "<div>\n",
              "<style scoped>\n",
              "    .dataframe tbody tr th:only-of-type {\n",
              "        vertical-align: middle;\n",
              "    }\n",
              "\n",
              "    .dataframe tbody tr th {\n",
              "        vertical-align: top;\n",
              "    }\n",
              "\n",
              "    .dataframe thead th {\n",
              "        text-align: right;\n",
              "    }\n",
              "</style>\n",
              "<table border=\"1\" class=\"dataframe\">\n",
              "  <thead>\n",
              "    <tr style=\"text-align: right;\">\n",
              "      <th></th>\n",
              "      <th>var1</th>\n",
              "      <th>var2</th>\n",
              "      <th>deg3</th>\n",
              "    </tr>\n",
              "  </thead>\n",
              "  <tbody>\n",
              "    <tr>\n",
              "      <th>0</th>\n",
              "      <td>37</td>\n",
              "      <td>45</td>\n",
              "      <td>55</td>\n",
              "    </tr>\n",
              "    <tr>\n",
              "      <th>1</th>\n",
              "      <td>58</td>\n",
              "      <td>53</td>\n",
              "      <td>55</td>\n",
              "    </tr>\n",
              "    <tr>\n",
              "      <th>2</th>\n",
              "      <td>55</td>\n",
              "      <td>40</td>\n",
              "      <td>42</td>\n",
              "    </tr>\n",
              "    <tr>\n",
              "      <th>3</th>\n",
              "      <td>50</td>\n",
              "      <td>46</td>\n",
              "      <td>45</td>\n",
              "    </tr>\n",
              "    <tr>\n",
              "      <th>4</th>\n",
              "      <td>50</td>\n",
              "      <td>55</td>\n",
              "      <td>46</td>\n",
              "    </tr>\n",
              "  </tbody>\n",
              "</table>\n",
              "</div>"
            ],
            "text/plain": [
              "   var1  var2  deg3\n",
              "0    37    45    55\n",
              "1    58    53    55\n",
              "2    55    40    42\n",
              "3    50    46    45\n",
              "4    50    55    46"
            ]
          },
          "metadata": {},
          "execution_count": 12
        }
      ]
    },
    {
      "cell_type": "markdown",
      "metadata": {
        "id": "X820qNVvPaz6"
      },
      "source": [
        "- Şimdi tekrar birleştirme işlemi yapalım\n",
        "\n",
        "- \"deg3\" birleştirme yaptığımız 2 datamızda da olmadığından dolayı bunu problemli bir işlemmiş gibi algılayıp bir hata üretti.\n",
        "- deg3 değişkenin df değişkenin de karşılığı yoktur. Olmadığından dolayı NaN değer ile doldurulmuş. O yüzden problemli bir birleştirme işlemi olmuştur.\n",
        "- **Teknik olarak bir değişkenin birleştirme yaptığımız diğer datada bir karşılığı yoksa bunları birleştirmek doğru olmayacaktır.Çünkü \"Aynı Bİlgiyi Taşımıyorlar\".**\n",
        "\n",
        "**NOT** = **\"AYNI BİLGİYİ TAŞIMAYAN DEĞİŞKENLERİN OLDUĞU DATALARI BİRLEŞTİRMEK DOĞRU DEĞİLDİR !\"**"
      ]
    },
    {
      "cell_type": "code",
      "metadata": {
        "colab": {
          "base_uri": "https://localhost:8080/",
          "height": 357
        },
        "id": "ilzkijiJPY8O",
        "outputId": "e7562ff8-dc9a-4fbc-af41-61f04e9a5ec2"
      },
      "source": [
        "pd.concat([df,df2])"
      ],
      "execution_count": null,
      "outputs": [
        {
          "output_type": "execute_result",
          "data": {
            "text/html": [
              "<div>\n",
              "<style scoped>\n",
              "    .dataframe tbody tr th:only-of-type {\n",
              "        vertical-align: middle;\n",
              "    }\n",
              "\n",
              "    .dataframe tbody tr th {\n",
              "        vertical-align: top;\n",
              "    }\n",
              "\n",
              "    .dataframe thead th {\n",
              "        text-align: right;\n",
              "    }\n",
              "</style>\n",
              "<table border=\"1\" class=\"dataframe\">\n",
              "  <thead>\n",
              "    <tr style=\"text-align: right;\">\n",
              "      <th></th>\n",
              "      <th>var1</th>\n",
              "      <th>var2</th>\n",
              "      <th>var3</th>\n",
              "      <th>deg3</th>\n",
              "    </tr>\n",
              "  </thead>\n",
              "  <tbody>\n",
              "    <tr>\n",
              "      <th>0</th>\n",
              "      <td>7</td>\n",
              "      <td>15</td>\n",
              "      <td>25.0</td>\n",
              "      <td>NaN</td>\n",
              "    </tr>\n",
              "    <tr>\n",
              "      <th>1</th>\n",
              "      <td>28</td>\n",
              "      <td>23</td>\n",
              "      <td>25.0</td>\n",
              "      <td>NaN</td>\n",
              "    </tr>\n",
              "    <tr>\n",
              "      <th>2</th>\n",
              "      <td>25</td>\n",
              "      <td>10</td>\n",
              "      <td>12.0</td>\n",
              "      <td>NaN</td>\n",
              "    </tr>\n",
              "    <tr>\n",
              "      <th>3</th>\n",
              "      <td>20</td>\n",
              "      <td>16</td>\n",
              "      <td>15.0</td>\n",
              "      <td>NaN</td>\n",
              "    </tr>\n",
              "    <tr>\n",
              "      <th>4</th>\n",
              "      <td>20</td>\n",
              "      <td>25</td>\n",
              "      <td>16.0</td>\n",
              "      <td>NaN</td>\n",
              "    </tr>\n",
              "    <tr>\n",
              "      <th>0</th>\n",
              "      <td>37</td>\n",
              "      <td>45</td>\n",
              "      <td>NaN</td>\n",
              "      <td>55.0</td>\n",
              "    </tr>\n",
              "    <tr>\n",
              "      <th>1</th>\n",
              "      <td>58</td>\n",
              "      <td>53</td>\n",
              "      <td>NaN</td>\n",
              "      <td>55.0</td>\n",
              "    </tr>\n",
              "    <tr>\n",
              "      <th>2</th>\n",
              "      <td>55</td>\n",
              "      <td>40</td>\n",
              "      <td>NaN</td>\n",
              "      <td>42.0</td>\n",
              "    </tr>\n",
              "    <tr>\n",
              "      <th>3</th>\n",
              "      <td>50</td>\n",
              "      <td>46</td>\n",
              "      <td>NaN</td>\n",
              "      <td>45.0</td>\n",
              "    </tr>\n",
              "    <tr>\n",
              "      <th>4</th>\n",
              "      <td>50</td>\n",
              "      <td>55</td>\n",
              "      <td>NaN</td>\n",
              "      <td>46.0</td>\n",
              "    </tr>\n",
              "  </tbody>\n",
              "</table>\n",
              "</div>"
            ],
            "text/plain": [
              "   var1  var2  var3  deg3\n",
              "0     7    15  25.0   NaN\n",
              "1    28    23  25.0   NaN\n",
              "2    25    10  12.0   NaN\n",
              "3    20    16  15.0   NaN\n",
              "4    20    25  16.0   NaN\n",
              "0    37    45   NaN  55.0\n",
              "1    58    53   NaN  55.0\n",
              "2    55    40   NaN  42.0\n",
              "3    50    46   NaN  45.0\n",
              "4    50    55   NaN  46.0"
            ]
          },
          "metadata": {},
          "execution_count": 15
        }
      ]
    },
    {
      "cell_type": "markdown",
      "metadata": {
        "id": "IFlCqNNuQyJd"
      },
      "source": [
        "- Bu problemi çözmek için **join** parametresine **inner** değerini veriyoruz.\n",
        "\n",
        "- Bu şekilde birleştirme işlemi yaparken \"iki datanın kesişimlerine göre\" birleştirme işlemi yapar.\n",
        "- **Birleştirme sonrası diğer datada karşılığı olmayan ve birleştirme sonrası NaN değerlere sahip olacak olan değişkenleri almaz!**\n"
      ]
    },
    {
      "cell_type": "code",
      "metadata": {
        "colab": {
          "base_uri": "https://localhost:8080/",
          "height": 357
        },
        "id": "LMceS_8NQ0M6",
        "outputId": "6585b9fb-f23a-4fd7-ead0-c4dc7a2ee0db"
      },
      "source": [
        "pd.concat([df,df2], join = 'inner')"
      ],
      "execution_count": null,
      "outputs": [
        {
          "output_type": "execute_result",
          "data": {
            "text/html": [
              "<div>\n",
              "<style scoped>\n",
              "    .dataframe tbody tr th:only-of-type {\n",
              "        vertical-align: middle;\n",
              "    }\n",
              "\n",
              "    .dataframe tbody tr th {\n",
              "        vertical-align: top;\n",
              "    }\n",
              "\n",
              "    .dataframe thead th {\n",
              "        text-align: right;\n",
              "    }\n",
              "</style>\n",
              "<table border=\"1\" class=\"dataframe\">\n",
              "  <thead>\n",
              "    <tr style=\"text-align: right;\">\n",
              "      <th></th>\n",
              "      <th>var1</th>\n",
              "      <th>var2</th>\n",
              "    </tr>\n",
              "  </thead>\n",
              "  <tbody>\n",
              "    <tr>\n",
              "      <th>0</th>\n",
              "      <td>7</td>\n",
              "      <td>15</td>\n",
              "    </tr>\n",
              "    <tr>\n",
              "      <th>1</th>\n",
              "      <td>28</td>\n",
              "      <td>23</td>\n",
              "    </tr>\n",
              "    <tr>\n",
              "      <th>2</th>\n",
              "      <td>25</td>\n",
              "      <td>10</td>\n",
              "    </tr>\n",
              "    <tr>\n",
              "      <th>3</th>\n",
              "      <td>20</td>\n",
              "      <td>16</td>\n",
              "    </tr>\n",
              "    <tr>\n",
              "      <th>4</th>\n",
              "      <td>20</td>\n",
              "      <td>25</td>\n",
              "    </tr>\n",
              "    <tr>\n",
              "      <th>0</th>\n",
              "      <td>37</td>\n",
              "      <td>45</td>\n",
              "    </tr>\n",
              "    <tr>\n",
              "      <th>1</th>\n",
              "      <td>58</td>\n",
              "      <td>53</td>\n",
              "    </tr>\n",
              "    <tr>\n",
              "      <th>2</th>\n",
              "      <td>55</td>\n",
              "      <td>40</td>\n",
              "    </tr>\n",
              "    <tr>\n",
              "      <th>3</th>\n",
              "      <td>50</td>\n",
              "      <td>46</td>\n",
              "    </tr>\n",
              "    <tr>\n",
              "      <th>4</th>\n",
              "      <td>50</td>\n",
              "      <td>55</td>\n",
              "    </tr>\n",
              "  </tbody>\n",
              "</table>\n",
              "</div>"
            ],
            "text/plain": [
              "   var1  var2\n",
              "0     7    15\n",
              "1    28    23\n",
              "2    25    10\n",
              "3    20    16\n",
              "4    20    25\n",
              "0    37    45\n",
              "1    58    53\n",
              "2    55    40\n",
              "3    50    46\n",
              "4    50    55"
            ]
          },
          "metadata": {},
          "execution_count": 17
        }
      ]
    },
    {
      "cell_type": "markdown",
      "metadata": {
        "id": "lTrFpD08R1Uq"
      },
      "source": [
        "- Birleştirme sonrası diğer data karşlığı olmayan değişkenlerden birisini dahil etmek istiyorsak şu şekilde yaparız.\n",
        "\n",
        "- **df ve df2 datalarımızın birleştirmelerini yaparız.Ardından \" reindex( ) \" ile içersine diğer datada karşılığı olmayan dahil etmek istediğimiz değişkenin olduğu datanın değişken isimlerini alıyoruz ( df.columns )**\n",
        "- **Biz df2 datasında karşılığı olmayan var3 değişkenini almak istediğimiz için reindex( ) içerisine df.columns yazdık. Çünkü var3 df datası içerisinde**"
      ]
    },
    {
      "cell_type": "code",
      "metadata": {
        "colab": {
          "base_uri": "https://localhost:8080/",
          "height": 357
        },
        "id": "cGVrhdLpSAnX",
        "outputId": "edc2ef52-9851-4873-da33-07a900508aca"
      },
      "source": [
        "pd.concat([df,df2]).reindex(df.columns, axis = 1)"
      ],
      "execution_count": null,
      "outputs": [
        {
          "output_type": "execute_result",
          "data": {
            "text/html": [
              "<div>\n",
              "<style scoped>\n",
              "    .dataframe tbody tr th:only-of-type {\n",
              "        vertical-align: middle;\n",
              "    }\n",
              "\n",
              "    .dataframe tbody tr th {\n",
              "        vertical-align: top;\n",
              "    }\n",
              "\n",
              "    .dataframe thead th {\n",
              "        text-align: right;\n",
              "    }\n",
              "</style>\n",
              "<table border=\"1\" class=\"dataframe\">\n",
              "  <thead>\n",
              "    <tr style=\"text-align: right;\">\n",
              "      <th></th>\n",
              "      <th>var1</th>\n",
              "      <th>var2</th>\n",
              "      <th>var3</th>\n",
              "    </tr>\n",
              "  </thead>\n",
              "  <tbody>\n",
              "    <tr>\n",
              "      <th>0</th>\n",
              "      <td>7</td>\n",
              "      <td>15</td>\n",
              "      <td>25.0</td>\n",
              "    </tr>\n",
              "    <tr>\n",
              "      <th>1</th>\n",
              "      <td>28</td>\n",
              "      <td>23</td>\n",
              "      <td>25.0</td>\n",
              "    </tr>\n",
              "    <tr>\n",
              "      <th>2</th>\n",
              "      <td>25</td>\n",
              "      <td>10</td>\n",
              "      <td>12.0</td>\n",
              "    </tr>\n",
              "    <tr>\n",
              "      <th>3</th>\n",
              "      <td>20</td>\n",
              "      <td>16</td>\n",
              "      <td>15.0</td>\n",
              "    </tr>\n",
              "    <tr>\n",
              "      <th>4</th>\n",
              "      <td>20</td>\n",
              "      <td>25</td>\n",
              "      <td>16.0</td>\n",
              "    </tr>\n",
              "    <tr>\n",
              "      <th>0</th>\n",
              "      <td>37</td>\n",
              "      <td>45</td>\n",
              "      <td>NaN</td>\n",
              "    </tr>\n",
              "    <tr>\n",
              "      <th>1</th>\n",
              "      <td>58</td>\n",
              "      <td>53</td>\n",
              "      <td>NaN</td>\n",
              "    </tr>\n",
              "    <tr>\n",
              "      <th>2</th>\n",
              "      <td>55</td>\n",
              "      <td>40</td>\n",
              "      <td>NaN</td>\n",
              "    </tr>\n",
              "    <tr>\n",
              "      <th>3</th>\n",
              "      <td>50</td>\n",
              "      <td>46</td>\n",
              "      <td>NaN</td>\n",
              "    </tr>\n",
              "    <tr>\n",
              "      <th>4</th>\n",
              "      <td>50</td>\n",
              "      <td>55</td>\n",
              "      <td>NaN</td>\n",
              "    </tr>\n",
              "  </tbody>\n",
              "</table>\n",
              "</div>"
            ],
            "text/plain": [
              "   var1  var2  var3\n",
              "0     7    15  25.0\n",
              "1    28    23  25.0\n",
              "2    25    10  12.0\n",
              "3    20    16  15.0\n",
              "4    20    25  16.0\n",
              "0    37    45   NaN\n",
              "1    58    53   NaN\n",
              "2    55    40   NaN\n",
              "3    50    46   NaN\n",
              "4    50    55   NaN"
            ]
          },
          "metadata": {},
          "execution_count": 36
        }
      ]
    },
    {
      "cell_type": "markdown",
      "metadata": {
        "id": "VQY7auIRXk3P"
      },
      "source": [
        "### İleri Birleştirme Yöntemleri - Merge()"
      ]
    },
    {
      "cell_type": "markdown",
      "metadata": {
        "id": "Inj2SWhrXur-"
      },
      "source": [
        "#### Birebir Birleştirme\n",
        "\n",
        "- **Tüm elemanların birleştirme yapacağımız aynen yer almasıdır.**"
      ]
    },
    {
      "cell_type": "code",
      "metadata": {
        "colab": {
          "base_uri": "https://localhost:8080/",
          "height": 172
        },
        "id": "m5tRO3FmXsbe",
        "outputId": "c9ded40e-348a-482d-be97-1645931a84bb"
      },
      "source": [
        "df1 = pd.DataFrame({'çalışanlar':['Ali','Veli','Ayşe','Fatma'],\n",
        "                    'grup':['Muhasebe','Muhendislik','Muhendislik','IK']})\n",
        "\n",
        "df1"
      ],
      "execution_count": null,
      "outputs": [
        {
          "output_type": "execute_result",
          "data": {
            "text/html": [
              "<div>\n",
              "<style scoped>\n",
              "    .dataframe tbody tr th:only-of-type {\n",
              "        vertical-align: middle;\n",
              "    }\n",
              "\n",
              "    .dataframe tbody tr th {\n",
              "        vertical-align: top;\n",
              "    }\n",
              "\n",
              "    .dataframe thead th {\n",
              "        text-align: right;\n",
              "    }\n",
              "</style>\n",
              "<table border=\"1\" class=\"dataframe\">\n",
              "  <thead>\n",
              "    <tr style=\"text-align: right;\">\n",
              "      <th></th>\n",
              "      <th>çalışanlar</th>\n",
              "      <th>grup</th>\n",
              "    </tr>\n",
              "  </thead>\n",
              "  <tbody>\n",
              "    <tr>\n",
              "      <th>0</th>\n",
              "      <td>Ali</td>\n",
              "      <td>Muhasebe</td>\n",
              "    </tr>\n",
              "    <tr>\n",
              "      <th>1</th>\n",
              "      <td>Veli</td>\n",
              "      <td>Muhendislik</td>\n",
              "    </tr>\n",
              "    <tr>\n",
              "      <th>2</th>\n",
              "      <td>Ayşe</td>\n",
              "      <td>Muhendislik</td>\n",
              "    </tr>\n",
              "    <tr>\n",
              "      <th>3</th>\n",
              "      <td>Fatma</td>\n",
              "      <td>IK</td>\n",
              "    </tr>\n",
              "  </tbody>\n",
              "</table>\n",
              "</div>"
            ],
            "text/plain": [
              "  çalışanlar         grup\n",
              "0        Ali     Muhasebe\n",
              "1       Veli  Muhendislik\n",
              "2       Ayşe  Muhendislik\n",
              "3      Fatma           IK"
            ]
          },
          "metadata": {},
          "execution_count": 4
        }
      ]
    },
    {
      "cell_type": "code",
      "metadata": {
        "colab": {
          "base_uri": "https://localhost:8080/",
          "height": 172
        },
        "id": "Z-6rJEH4YCQy",
        "outputId": "64b77c1d-c085-4d5d-d2d1-8a279b8ef0d2"
      },
      "source": [
        "df2 = pd.DataFrame({'çalışanlar':['Ayşe','Ali','Veli','Fatma'],\n",
        "                    'ilk_giriş':[2010,2009,2014,2019]})\n",
        "\n",
        "df2"
      ],
      "execution_count": null,
      "outputs": [
        {
          "output_type": "execute_result",
          "data": {
            "text/html": [
              "<div>\n",
              "<style scoped>\n",
              "    .dataframe tbody tr th:only-of-type {\n",
              "        vertical-align: middle;\n",
              "    }\n",
              "\n",
              "    .dataframe tbody tr th {\n",
              "        vertical-align: top;\n",
              "    }\n",
              "\n",
              "    .dataframe thead th {\n",
              "        text-align: right;\n",
              "    }\n",
              "</style>\n",
              "<table border=\"1\" class=\"dataframe\">\n",
              "  <thead>\n",
              "    <tr style=\"text-align: right;\">\n",
              "      <th></th>\n",
              "      <th>çalışanlar</th>\n",
              "      <th>ilk_giriş</th>\n",
              "    </tr>\n",
              "  </thead>\n",
              "  <tbody>\n",
              "    <tr>\n",
              "      <th>0</th>\n",
              "      <td>Ayşe</td>\n",
              "      <td>2010</td>\n",
              "    </tr>\n",
              "    <tr>\n",
              "      <th>1</th>\n",
              "      <td>Ali</td>\n",
              "      <td>2009</td>\n",
              "    </tr>\n",
              "    <tr>\n",
              "      <th>2</th>\n",
              "      <td>Veli</td>\n",
              "      <td>2014</td>\n",
              "    </tr>\n",
              "    <tr>\n",
              "      <th>3</th>\n",
              "      <td>Fatma</td>\n",
              "      <td>2019</td>\n",
              "    </tr>\n",
              "  </tbody>\n",
              "</table>\n",
              "</div>"
            ],
            "text/plain": [
              "  çalışanlar  ilk_giriş\n",
              "0       Ayşe       2010\n",
              "1        Ali       2009\n",
              "2       Veli       2014\n",
              "3      Fatma       2019"
            ]
          },
          "metadata": {},
          "execution_count": 5
        }
      ]
    },
    {
      "cell_type": "markdown",
      "metadata": {
        "id": "Xnqq-Mz-aOxV"
      },
      "source": [
        "- 2 tane veri setimiz var. 2 veri setinin de ortak değişkeni var: **Çalışanlar değişkeni**.\n",
        "- Çalışkanlar değişkeninin elemanları df1 ve df2 veri setinde de aynıdır.Bu birebir birleştirme kategorisine girer.\n",
        "- **merge() fonksiyonu ile birleştiririz**"
      ]
    },
    {
      "cell_type": "code",
      "metadata": {
        "colab": {
          "base_uri": "https://localhost:8080/",
          "height": 172
        },
        "id": "qaagT3iNZjZN",
        "outputId": "1531240d-e9e2-4ce3-fdad-c0b9a526b2cf"
      },
      "source": [
        "pd.merge(df1,df2)"
      ],
      "execution_count": null,
      "outputs": [
        {
          "output_type": "execute_result",
          "data": {
            "text/html": [
              "<div>\n",
              "<style scoped>\n",
              "    .dataframe tbody tr th:only-of-type {\n",
              "        vertical-align: middle;\n",
              "    }\n",
              "\n",
              "    .dataframe tbody tr th {\n",
              "        vertical-align: top;\n",
              "    }\n",
              "\n",
              "    .dataframe thead th {\n",
              "        text-align: right;\n",
              "    }\n",
              "</style>\n",
              "<table border=\"1\" class=\"dataframe\">\n",
              "  <thead>\n",
              "    <tr style=\"text-align: right;\">\n",
              "      <th></th>\n",
              "      <th>çalışanlar</th>\n",
              "      <th>grup</th>\n",
              "      <th>ilk_giriş</th>\n",
              "    </tr>\n",
              "  </thead>\n",
              "  <tbody>\n",
              "    <tr>\n",
              "      <th>0</th>\n",
              "      <td>Ali</td>\n",
              "      <td>Muhasebe</td>\n",
              "      <td>2009</td>\n",
              "    </tr>\n",
              "    <tr>\n",
              "      <th>1</th>\n",
              "      <td>Veli</td>\n",
              "      <td>Muhendislik</td>\n",
              "      <td>2014</td>\n",
              "    </tr>\n",
              "    <tr>\n",
              "      <th>2</th>\n",
              "      <td>Ayşe</td>\n",
              "      <td>Muhendislik</td>\n",
              "      <td>2010</td>\n",
              "    </tr>\n",
              "    <tr>\n",
              "      <th>3</th>\n",
              "      <td>Fatma</td>\n",
              "      <td>IK</td>\n",
              "      <td>2019</td>\n",
              "    </tr>\n",
              "  </tbody>\n",
              "</table>\n",
              "</div>"
            ],
            "text/plain": [
              "  çalışanlar         grup  ilk_giriş\n",
              "0        Ali     Muhasebe       2009\n",
              "1       Veli  Muhendislik       2014\n",
              "2       Ayşe  Muhendislik       2010\n",
              "3      Fatma           IK       2019"
            ]
          },
          "metadata": {},
          "execution_count": 6
        }
      ]
    },
    {
      "cell_type": "markdown",
      "metadata": {
        "id": "BfcnRj7Ca0C-"
      },
      "source": [
        "- **merge( ) fonksiyonu \"Birleştirmelerin hangi değişkenlere göre yapılacağını kendisi anlıyor\"**\n",
        "\n",
        "- Biz bunu kendimiz de verebiliriz.çalışanlar değişkenine göre birleştir diyebiliriz"
      ]
    },
    {
      "cell_type": "code",
      "metadata": {
        "colab": {
          "base_uri": "https://localhost:8080/",
          "height": 172
        },
        "id": "63pH9-L0bLpy",
        "outputId": "578e2536-fc06-4f7d-8b7b-16c9ccfd2cce"
      },
      "source": [
        "pd.merge(df1,df2, on = 'çalışanlar')"
      ],
      "execution_count": null,
      "outputs": [
        {
          "output_type": "execute_result",
          "data": {
            "text/html": [
              "<div>\n",
              "<style scoped>\n",
              "    .dataframe tbody tr th:only-of-type {\n",
              "        vertical-align: middle;\n",
              "    }\n",
              "\n",
              "    .dataframe tbody tr th {\n",
              "        vertical-align: top;\n",
              "    }\n",
              "\n",
              "    .dataframe thead th {\n",
              "        text-align: right;\n",
              "    }\n",
              "</style>\n",
              "<table border=\"1\" class=\"dataframe\">\n",
              "  <thead>\n",
              "    <tr style=\"text-align: right;\">\n",
              "      <th></th>\n",
              "      <th>çalışanlar</th>\n",
              "      <th>grup</th>\n",
              "      <th>ilk_giriş</th>\n",
              "    </tr>\n",
              "  </thead>\n",
              "  <tbody>\n",
              "    <tr>\n",
              "      <th>0</th>\n",
              "      <td>Ali</td>\n",
              "      <td>Muhasebe</td>\n",
              "      <td>2009</td>\n",
              "    </tr>\n",
              "    <tr>\n",
              "      <th>1</th>\n",
              "      <td>Veli</td>\n",
              "      <td>Muhendislik</td>\n",
              "      <td>2014</td>\n",
              "    </tr>\n",
              "    <tr>\n",
              "      <th>2</th>\n",
              "      <td>Ayşe</td>\n",
              "      <td>Muhendislik</td>\n",
              "      <td>2010</td>\n",
              "    </tr>\n",
              "    <tr>\n",
              "      <th>3</th>\n",
              "      <td>Fatma</td>\n",
              "      <td>IK</td>\n",
              "      <td>2019</td>\n",
              "    </tr>\n",
              "  </tbody>\n",
              "</table>\n",
              "</div>"
            ],
            "text/plain": [
              "  çalışanlar         grup  ilk_giriş\n",
              "0        Ali     Muhasebe       2009\n",
              "1       Veli  Muhendislik       2014\n",
              "2       Ayşe  Muhendislik       2010\n",
              "3      Fatma           IK       2019"
            ]
          },
          "metadata": {},
          "execution_count": 7
        }
      ]
    },
    {
      "cell_type": "markdown",
      "metadata": {
        "id": "wtlkCW0qbYrB"
      },
      "source": [
        "#### Çoktan Teke"
      ]
    },
    {
      "cell_type": "code",
      "metadata": {
        "colab": {
          "base_uri": "https://localhost:8080/",
          "height": 172
        },
        "id": "bEPHjqdebbFQ",
        "outputId": "be441787-3849-450e-d815-c6169c9f8b17"
      },
      "source": [
        "df3 = pd.merge(df1,df2)\n",
        "\n",
        "df3"
      ],
      "execution_count": null,
      "outputs": [
        {
          "output_type": "execute_result",
          "data": {
            "text/html": [
              "<div>\n",
              "<style scoped>\n",
              "    .dataframe tbody tr th:only-of-type {\n",
              "        vertical-align: middle;\n",
              "    }\n",
              "\n",
              "    .dataframe tbody tr th {\n",
              "        vertical-align: top;\n",
              "    }\n",
              "\n",
              "    .dataframe thead th {\n",
              "        text-align: right;\n",
              "    }\n",
              "</style>\n",
              "<table border=\"1\" class=\"dataframe\">\n",
              "  <thead>\n",
              "    <tr style=\"text-align: right;\">\n",
              "      <th></th>\n",
              "      <th>çalışanlar</th>\n",
              "      <th>grup</th>\n",
              "      <th>ilk_giriş</th>\n",
              "    </tr>\n",
              "  </thead>\n",
              "  <tbody>\n",
              "    <tr>\n",
              "      <th>0</th>\n",
              "      <td>Ali</td>\n",
              "      <td>Muhasebe</td>\n",
              "      <td>2009</td>\n",
              "    </tr>\n",
              "    <tr>\n",
              "      <th>1</th>\n",
              "      <td>Veli</td>\n",
              "      <td>Muhendislik</td>\n",
              "      <td>2014</td>\n",
              "    </tr>\n",
              "    <tr>\n",
              "      <th>2</th>\n",
              "      <td>Ayşe</td>\n",
              "      <td>Muhendislik</td>\n",
              "      <td>2010</td>\n",
              "    </tr>\n",
              "    <tr>\n",
              "      <th>3</th>\n",
              "      <td>Fatma</td>\n",
              "      <td>IK</td>\n",
              "      <td>2019</td>\n",
              "    </tr>\n",
              "  </tbody>\n",
              "</table>\n",
              "</div>"
            ],
            "text/plain": [
              "  çalışanlar         grup  ilk_giriş\n",
              "0        Ali     Muhasebe       2009\n",
              "1       Veli  Muhendislik       2014\n",
              "2       Ayşe  Muhendislik       2010\n",
              "3      Fatma           IK       2019"
            ]
          },
          "metadata": {},
          "execution_count": 8
        }
      ]
    },
    {
      "cell_type": "code",
      "metadata": {
        "colab": {
          "base_uri": "https://localhost:8080/",
          "height": 142
        },
        "id": "LNYYw_ORblUO",
        "outputId": "daf2b63a-3582-481e-ca46-4879b1576517"
      },
      "source": [
        "df4 = pd.DataFrame({'grup':['Muhasebe','Muhendislik','IK'],\n",
        "                    'mudur':['Caner','Mustafa','Berkcan']})\n",
        "\n",
        "df4"
      ],
      "execution_count": null,
      "outputs": [
        {
          "output_type": "execute_result",
          "data": {
            "text/html": [
              "<div>\n",
              "<style scoped>\n",
              "    .dataframe tbody tr th:only-of-type {\n",
              "        vertical-align: middle;\n",
              "    }\n",
              "\n",
              "    .dataframe tbody tr th {\n",
              "        vertical-align: top;\n",
              "    }\n",
              "\n",
              "    .dataframe thead th {\n",
              "        text-align: right;\n",
              "    }\n",
              "</style>\n",
              "<table border=\"1\" class=\"dataframe\">\n",
              "  <thead>\n",
              "    <tr style=\"text-align: right;\">\n",
              "      <th></th>\n",
              "      <th>grup</th>\n",
              "      <th>mudur</th>\n",
              "    </tr>\n",
              "  </thead>\n",
              "  <tbody>\n",
              "    <tr>\n",
              "      <th>0</th>\n",
              "      <td>Muhasebe</td>\n",
              "      <td>Caner</td>\n",
              "    </tr>\n",
              "    <tr>\n",
              "      <th>1</th>\n",
              "      <td>Muhendislik</td>\n",
              "      <td>Mustafa</td>\n",
              "    </tr>\n",
              "    <tr>\n",
              "      <th>2</th>\n",
              "      <td>IK</td>\n",
              "      <td>Berkcan</td>\n",
              "    </tr>\n",
              "  </tbody>\n",
              "</table>\n",
              "</div>"
            ],
            "text/plain": [
              "          grup    mudur\n",
              "0     Muhasebe    Caner\n",
              "1  Muhendislik  Mustafa\n",
              "2           IK  Berkcan"
            ]
          },
          "metadata": {},
          "execution_count": 9
        }
      ]
    },
    {
      "cell_type": "markdown",
      "metadata": {
        "id": "ni656Zvwcjuw"
      },
      "source": [
        "- df3 veri setinde 3 değişken, df4 veri setinde ise 2 değişken vardır. Ortak değişkenleri **grup değişkenidir.**\n",
        "\n",
        "- **df3 veri setinde ki \"grup\" değişkenimiz 4 değerde oluşuyor. df4 veri setinde ki \"grup\" değişkenimiz ise 3 değerden oluşuyor.**\n",
        "\n",
        "   - **df3'te Çoklu Yapı, df4 ise Tekil bir yapı vardır.**\n",
        "\n",
        "- Birleştirme işlemi yaparken çoklu yapıya göre birleştirme işlemi yapmış oldu.\n",
        "- Yeni oluşturduğumuz Veri Setinde grup değişkenine baktığımızda 4 tane değer var.Çünkü **df3 çoklu yapıya sahipti** ve **df3'ün** **grup değişkenin** de  4 tane değer vardı.Şimdi yeni elde ettiğimiz veri setinde **mudur değişkenine** bir bakalım.\n",
        "\n",
        "- df4 veri setinde tek Mustafa varken şimdi 2 tane Mustafa var. Biz birleştirme işlemini **grup** değişkenine göre ve **Çoklu Yapıya** göre birleştirme işlemi yaptığımız için ve Mustafa Mühendis grubunda olduğu için mudur değişkenin de bir tane da Mustafa oldu.\n",
        "\n",
        "\n"
      ]
    },
    {
      "cell_type": "code",
      "metadata": {
        "colab": {
          "base_uri": "https://localhost:8080/",
          "height": 172
        },
        "id": "j9K6_ZIwcGiB",
        "outputId": "90abd460-c6c2-405c-9d7c-55b3e0259889"
      },
      "source": [
        "pd.merge(df3,df4)"
      ],
      "execution_count": null,
      "outputs": [
        {
          "output_type": "execute_result",
          "data": {
            "text/html": [
              "<div>\n",
              "<style scoped>\n",
              "    .dataframe tbody tr th:only-of-type {\n",
              "        vertical-align: middle;\n",
              "    }\n",
              "\n",
              "    .dataframe tbody tr th {\n",
              "        vertical-align: top;\n",
              "    }\n",
              "\n",
              "    .dataframe thead th {\n",
              "        text-align: right;\n",
              "    }\n",
              "</style>\n",
              "<table border=\"1\" class=\"dataframe\">\n",
              "  <thead>\n",
              "    <tr style=\"text-align: right;\">\n",
              "      <th></th>\n",
              "      <th>çalışanlar</th>\n",
              "      <th>grup</th>\n",
              "      <th>ilk_giriş</th>\n",
              "      <th>mudur</th>\n",
              "    </tr>\n",
              "  </thead>\n",
              "  <tbody>\n",
              "    <tr>\n",
              "      <th>0</th>\n",
              "      <td>Ali</td>\n",
              "      <td>Muhasebe</td>\n",
              "      <td>2009</td>\n",
              "      <td>Caner</td>\n",
              "    </tr>\n",
              "    <tr>\n",
              "      <th>1</th>\n",
              "      <td>Veli</td>\n",
              "      <td>Muhendislik</td>\n",
              "      <td>2014</td>\n",
              "      <td>Mustafa</td>\n",
              "    </tr>\n",
              "    <tr>\n",
              "      <th>2</th>\n",
              "      <td>Ayşe</td>\n",
              "      <td>Muhendislik</td>\n",
              "      <td>2010</td>\n",
              "      <td>Mustafa</td>\n",
              "    </tr>\n",
              "    <tr>\n",
              "      <th>3</th>\n",
              "      <td>Fatma</td>\n",
              "      <td>IK</td>\n",
              "      <td>2019</td>\n",
              "      <td>Berkcan</td>\n",
              "    </tr>\n",
              "  </tbody>\n",
              "</table>\n",
              "</div>"
            ],
            "text/plain": [
              "  çalışanlar         grup  ilk_giriş    mudur\n",
              "0        Ali     Muhasebe       2009    Caner\n",
              "1       Veli  Muhendislik       2014  Mustafa\n",
              "2       Ayşe  Muhendislik       2010  Mustafa\n",
              "3      Fatma           IK       2019  Berkcan"
            ]
          },
          "metadata": {},
          "execution_count": 10
        }
      ]
    },
    {
      "cell_type": "markdown",
      "metadata": {
        "id": "7lzp6ETuaWqD"
      },
      "source": [
        "# Çoktan Çoka"
      ]
    },
    {
      "cell_type": "code",
      "metadata": {
        "colab": {
          "base_uri": "https://localhost:8080/",
          "height": 234
        },
        "id": "ciM_N3vfaYPy",
        "outputId": "b5fe66a5-ca3e-446e-ac62-4bf1564180f1"
      },
      "source": [
        "df5 = pd.DataFrame({'grup':['Muhasebe','Muhasebe','Muhendislik','Muhendislik','IK','IK'],\n",
        "                    'yetenekler':['matematik','excel','kodlama','linux','excel','yonetim']})\n",
        "\n",
        "df5"
      ],
      "execution_count": null,
      "outputs": [
        {
          "output_type": "execute_result",
          "data": {
            "text/html": [
              "<div>\n",
              "<style scoped>\n",
              "    .dataframe tbody tr th:only-of-type {\n",
              "        vertical-align: middle;\n",
              "    }\n",
              "\n",
              "    .dataframe tbody tr th {\n",
              "        vertical-align: top;\n",
              "    }\n",
              "\n",
              "    .dataframe thead th {\n",
              "        text-align: right;\n",
              "    }\n",
              "</style>\n",
              "<table border=\"1\" class=\"dataframe\">\n",
              "  <thead>\n",
              "    <tr style=\"text-align: right;\">\n",
              "      <th></th>\n",
              "      <th>grup</th>\n",
              "      <th>yetenekler</th>\n",
              "    </tr>\n",
              "  </thead>\n",
              "  <tbody>\n",
              "    <tr>\n",
              "      <th>0</th>\n",
              "      <td>Muhasebe</td>\n",
              "      <td>matematik</td>\n",
              "    </tr>\n",
              "    <tr>\n",
              "      <th>1</th>\n",
              "      <td>Muhasebe</td>\n",
              "      <td>excel</td>\n",
              "    </tr>\n",
              "    <tr>\n",
              "      <th>2</th>\n",
              "      <td>Muhendislik</td>\n",
              "      <td>kodlama</td>\n",
              "    </tr>\n",
              "    <tr>\n",
              "      <th>3</th>\n",
              "      <td>Muhendislik</td>\n",
              "      <td>linux</td>\n",
              "    </tr>\n",
              "    <tr>\n",
              "      <th>4</th>\n",
              "      <td>IK</td>\n",
              "      <td>excel</td>\n",
              "    </tr>\n",
              "    <tr>\n",
              "      <th>5</th>\n",
              "      <td>IK</td>\n",
              "      <td>yonetim</td>\n",
              "    </tr>\n",
              "  </tbody>\n",
              "</table>\n",
              "</div>"
            ],
            "text/plain": [
              "          grup yetenekler\n",
              "0     Muhasebe  matematik\n",
              "1     Muhasebe      excel\n",
              "2  Muhendislik    kodlama\n",
              "3  Muhendislik      linux\n",
              "4           IK      excel\n",
              "5           IK    yonetim"
            ]
          },
          "metadata": {},
          "execution_count": 3
        }
      ]
    },
    {
      "cell_type": "code",
      "metadata": {
        "colab": {
          "base_uri": "https://localhost:8080/",
          "height": 172
        },
        "id": "JBIz2S_XbMrG",
        "outputId": "6a08c630-bc70-4838-a49d-ba163ca50900"
      },
      "source": [
        "df1"
      ],
      "execution_count": null,
      "outputs": [
        {
          "output_type": "execute_result",
          "data": {
            "text/html": [
              "<div>\n",
              "<style scoped>\n",
              "    .dataframe tbody tr th:only-of-type {\n",
              "        vertical-align: middle;\n",
              "    }\n",
              "\n",
              "    .dataframe tbody tr th {\n",
              "        vertical-align: top;\n",
              "    }\n",
              "\n",
              "    .dataframe thead th {\n",
              "        text-align: right;\n",
              "    }\n",
              "</style>\n",
              "<table border=\"1\" class=\"dataframe\">\n",
              "  <thead>\n",
              "    <tr style=\"text-align: right;\">\n",
              "      <th></th>\n",
              "      <th>çalışanlar</th>\n",
              "      <th>grup</th>\n",
              "    </tr>\n",
              "  </thead>\n",
              "  <tbody>\n",
              "    <tr>\n",
              "      <th>0</th>\n",
              "      <td>Ali</td>\n",
              "      <td>Muhasebe</td>\n",
              "    </tr>\n",
              "    <tr>\n",
              "      <th>1</th>\n",
              "      <td>Veli</td>\n",
              "      <td>Muhendislik</td>\n",
              "    </tr>\n",
              "    <tr>\n",
              "      <th>2</th>\n",
              "      <td>Ayşe</td>\n",
              "      <td>Muhendislik</td>\n",
              "    </tr>\n",
              "    <tr>\n",
              "      <th>3</th>\n",
              "      <td>Fatma</td>\n",
              "      <td>IK</td>\n",
              "    </tr>\n",
              "  </tbody>\n",
              "</table>\n",
              "</div>"
            ],
            "text/plain": [
              "  çalışanlar         grup\n",
              "0        Ali     Muhasebe\n",
              "1       Veli  Muhendislik\n",
              "2       Ayşe  Muhendislik\n",
              "3      Fatma           IK"
            ]
          },
          "metadata": {},
          "execution_count": 11
        }
      ]
    },
    {
      "cell_type": "code",
      "metadata": {
        "colab": {
          "base_uri": "https://localhost:8080/",
          "height": 295
        },
        "id": "rl_h0cKYbQPG",
        "outputId": "8acf380c-57e0-420d-cfeb-5eb3a85ef05b"
      },
      "source": [
        "pd.merge(df1,df5)"
      ],
      "execution_count": null,
      "outputs": [
        {
          "output_type": "execute_result",
          "data": {
            "text/html": [
              "<div>\n",
              "<style scoped>\n",
              "    .dataframe tbody tr th:only-of-type {\n",
              "        vertical-align: middle;\n",
              "    }\n",
              "\n",
              "    .dataframe tbody tr th {\n",
              "        vertical-align: top;\n",
              "    }\n",
              "\n",
              "    .dataframe thead th {\n",
              "        text-align: right;\n",
              "    }\n",
              "</style>\n",
              "<table border=\"1\" class=\"dataframe\">\n",
              "  <thead>\n",
              "    <tr style=\"text-align: right;\">\n",
              "      <th></th>\n",
              "      <th>çalışanlar</th>\n",
              "      <th>grup</th>\n",
              "      <th>yetenekler</th>\n",
              "    </tr>\n",
              "  </thead>\n",
              "  <tbody>\n",
              "    <tr>\n",
              "      <th>0</th>\n",
              "      <td>Ali</td>\n",
              "      <td>Muhasebe</td>\n",
              "      <td>matematik</td>\n",
              "    </tr>\n",
              "    <tr>\n",
              "      <th>1</th>\n",
              "      <td>Ali</td>\n",
              "      <td>Muhasebe</td>\n",
              "      <td>excel</td>\n",
              "    </tr>\n",
              "    <tr>\n",
              "      <th>2</th>\n",
              "      <td>Veli</td>\n",
              "      <td>Muhendislik</td>\n",
              "      <td>kodlama</td>\n",
              "    </tr>\n",
              "    <tr>\n",
              "      <th>3</th>\n",
              "      <td>Veli</td>\n",
              "      <td>Muhendislik</td>\n",
              "      <td>linux</td>\n",
              "    </tr>\n",
              "    <tr>\n",
              "      <th>4</th>\n",
              "      <td>Ayşe</td>\n",
              "      <td>Muhendislik</td>\n",
              "      <td>kodlama</td>\n",
              "    </tr>\n",
              "    <tr>\n",
              "      <th>5</th>\n",
              "      <td>Ayşe</td>\n",
              "      <td>Muhendislik</td>\n",
              "      <td>linux</td>\n",
              "    </tr>\n",
              "    <tr>\n",
              "      <th>6</th>\n",
              "      <td>Fatma</td>\n",
              "      <td>IK</td>\n",
              "      <td>excel</td>\n",
              "    </tr>\n",
              "    <tr>\n",
              "      <th>7</th>\n",
              "      <td>Fatma</td>\n",
              "      <td>IK</td>\n",
              "      <td>yonetim</td>\n",
              "    </tr>\n",
              "  </tbody>\n",
              "</table>\n",
              "</div>"
            ],
            "text/plain": [
              "  çalışanlar         grup yetenekler\n",
              "0        Ali     Muhasebe  matematik\n",
              "1        Ali     Muhasebe      excel\n",
              "2       Veli  Muhendislik    kodlama\n",
              "3       Veli  Muhendislik      linux\n",
              "4       Ayşe  Muhendislik    kodlama\n",
              "5       Ayşe  Muhendislik      linux\n",
              "6      Fatma           IK      excel\n",
              "7      Fatma           IK    yonetim"
            ]
          },
          "metadata": {},
          "execution_count": 12
        }
      ]
    },
    {
      "cell_type": "markdown",
      "metadata": {
        "id": "Q9vL6LLMbZ1V"
      },
      "source": [
        "- Yukarıda gördüğümüz üzere Çalışanlar grubu çokladı. Yani arttı.\n",
        "- **df1 veri setinde** **Ali'nin grubu muhasebeydi**. **df5 veri setinde muhasabenin 2 tane yeteneği vardı**. **\"Excel ve Matematik\"**.Bu yüzden **Ali muhasebe grubunda olduğu için 2 tane yeteneği olmuş oldu** ve **bir Ali fazladan yazılmış oldu**. **Çalışanlar değişkeninde**"
      ]
    },
    {
      "cell_type": "markdown",
      "metadata": {
        "id": "PI_6FwpQcW9V"
      },
      "source": [
        "## Toplulaştırma ve Gruplaştırma "
      ]
    },
    {
      "cell_type": "markdown",
      "metadata": {
        "id": "s7R9ODzYcbLR"
      },
      "source": [
        "### groupby() : Gruplaştırma\n",
        "\n",
        "- **Gruplama İşlemleri** = **Veri Setinde yer alan kategorik değişkenlerin gruplarının yakalanmaası ve bu grup özelinde bazı işlemler yapılması demektir.**"
      ]
    },
    {
      "cell_type": "code",
      "metadata": {
        "colab": {
          "base_uri": "https://localhost:8080/",
          "height": 234
        },
        "id": "faMV6O5hcqXU",
        "outputId": "dd61f897-eb5e-4294-9800-68c729999101"
      },
      "source": [
        "df = pd.DataFrame({'gruplar':['A','B','C','A','B','C'],\n",
        "                   'veri':[10,11,52,23,43,55]} , columns = ['gruplar','veri'])\n",
        "\n",
        "df"
      ],
      "execution_count": null,
      "outputs": [
        {
          "output_type": "execute_result",
          "data": {
            "text/html": [
              "<div>\n",
              "<style scoped>\n",
              "    .dataframe tbody tr th:only-of-type {\n",
              "        vertical-align: middle;\n",
              "    }\n",
              "\n",
              "    .dataframe tbody tr th {\n",
              "        vertical-align: top;\n",
              "    }\n",
              "\n",
              "    .dataframe thead th {\n",
              "        text-align: right;\n",
              "    }\n",
              "</style>\n",
              "<table border=\"1\" class=\"dataframe\">\n",
              "  <thead>\n",
              "    <tr style=\"text-align: right;\">\n",
              "      <th></th>\n",
              "      <th>gruplar</th>\n",
              "      <th>veri</th>\n",
              "    </tr>\n",
              "  </thead>\n",
              "  <tbody>\n",
              "    <tr>\n",
              "      <th>0</th>\n",
              "      <td>A</td>\n",
              "      <td>10</td>\n",
              "    </tr>\n",
              "    <tr>\n",
              "      <th>1</th>\n",
              "      <td>B</td>\n",
              "      <td>11</td>\n",
              "    </tr>\n",
              "    <tr>\n",
              "      <th>2</th>\n",
              "      <td>C</td>\n",
              "      <td>52</td>\n",
              "    </tr>\n",
              "    <tr>\n",
              "      <th>3</th>\n",
              "      <td>A</td>\n",
              "      <td>23</td>\n",
              "    </tr>\n",
              "    <tr>\n",
              "      <th>4</th>\n",
              "      <td>B</td>\n",
              "      <td>43</td>\n",
              "    </tr>\n",
              "    <tr>\n",
              "      <th>5</th>\n",
              "      <td>C</td>\n",
              "      <td>55</td>\n",
              "    </tr>\n",
              "  </tbody>\n",
              "</table>\n",
              "</div>"
            ],
            "text/plain": [
              "  gruplar  veri\n",
              "0       A    10\n",
              "1       B    11\n",
              "2       C    52\n",
              "3       A    23\n",
              "4       B    43\n",
              "5       C    55"
            ]
          },
          "metadata": {},
          "execution_count": 13
        }
      ]
    },
    {
      "cell_type": "markdown",
      "metadata": {
        "id": "wFGCP4ZNeGnX"
      },
      "source": [
        "- Python arka tarafta bir nesne oluşturdu.df veri setine gitti groupby fonksiyonu ile  gruplar değişkenini yakaladı ve gruplar değişkeninin içerisinde yer alan kategori sınıflarını tuttu.\n",
        "\n",
        "- Groupby fonksiyonu tek başına çalışamaz. Toplulaştırma fonskiyonu ile beraber çalışır."
      ]
    },
    {
      "cell_type": "code",
      "metadata": {
        "colab": {
          "base_uri": "https://localhost:8080/"
        },
        "id": "7TsmpZlCeCv5",
        "outputId": "bcf942db-d266-4440-807a-5cd4e58a5312"
      },
      "source": [
        "df.groupby(\"gruplar\")"
      ],
      "execution_count": null,
      "outputs": [
        {
          "output_type": "execute_result",
          "data": {
            "text/plain": [
              "<pandas.core.groupby.generic.DataFrameGroupBy object at 0x7fadcc4ae050>"
            ]
          },
          "metadata": {},
          "execution_count": 14
        }
      ]
    },
    {
      "cell_type": "markdown",
      "metadata": {
        "id": "ql0tHYo5e0nZ"
      },
      "source": [
        "- Gruplar değişkeninde ki kategori sınıflarının yani A, B ve C'nin ortalamalarını aldık.\n",
        "\n",
        "- Burada yaptığımız **mean()** işlemi bir **Toplulaştırma işlemidir.**"
      ]
    },
    {
      "cell_type": "code",
      "metadata": {
        "colab": {
          "base_uri": "https://localhost:8080/",
          "height": 172
        },
        "id": "rijpZp0peuez",
        "outputId": "41b40878-df5b-4987-9f12-8bc93d028527"
      },
      "source": [
        "df.groupby(\"gruplar\").mean()"
      ],
      "execution_count": null,
      "outputs": [
        {
          "output_type": "execute_result",
          "data": {
            "text/html": [
              "<div>\n",
              "<style scoped>\n",
              "    .dataframe tbody tr th:only-of-type {\n",
              "        vertical-align: middle;\n",
              "    }\n",
              "\n",
              "    .dataframe tbody tr th {\n",
              "        vertical-align: top;\n",
              "    }\n",
              "\n",
              "    .dataframe thead th {\n",
              "        text-align: right;\n",
              "    }\n",
              "</style>\n",
              "<table border=\"1\" class=\"dataframe\">\n",
              "  <thead>\n",
              "    <tr style=\"text-align: right;\">\n",
              "      <th></th>\n",
              "      <th>veri</th>\n",
              "    </tr>\n",
              "    <tr>\n",
              "      <th>gruplar</th>\n",
              "      <th></th>\n",
              "    </tr>\n",
              "  </thead>\n",
              "  <tbody>\n",
              "    <tr>\n",
              "      <th>A</th>\n",
              "      <td>16.5</td>\n",
              "    </tr>\n",
              "    <tr>\n",
              "      <th>B</th>\n",
              "      <td>27.0</td>\n",
              "    </tr>\n",
              "    <tr>\n",
              "      <th>C</th>\n",
              "      <td>53.5</td>\n",
              "    </tr>\n",
              "  </tbody>\n",
              "</table>\n",
              "</div>"
            ],
            "text/plain": [
              "         veri\n",
              "gruplar      \n",
              "A        16.5\n",
              "B        27.0\n",
              "C        53.5"
            ]
          },
          "metadata": {},
          "execution_count": 15
        }
      ]
    },
    {
      "cell_type": "markdown",
      "metadata": {
        "id": "4KpWTBpMfUy0"
      },
      "source": [
        "### Toplulaştırma işlemleri"
      ]
    },
    {
      "cell_type": "markdown",
      "metadata": {
        "id": "SECN-SZrgDjW"
      },
      "source": [
        "#### Agg() Fonksiyonu"
      ]
    },
    {
      "cell_type": "code",
      "metadata": {
        "colab": {
          "base_uri": "https://localhost:8080/",
          "height": 234
        },
        "id": "nv-ZCZARfdfK",
        "outputId": "339ce8a5-03d1-4f91-935d-9b0a1f56b028"
      },
      "source": [
        "df = pd.DataFrame({'gruplar':['A','B','C','A','B','C'],\n",
        "                   'değişken1':[10,23,33,22,11,99],\n",
        "                   'değişken2':[100,253,333,262,111,969]} , columns = ['gruplar','değişken1','değişken2'])\n",
        "\n",
        "df"
      ],
      "execution_count": null,
      "outputs": [
        {
          "output_type": "execute_result",
          "data": {
            "text/html": [
              "<div>\n",
              "<style scoped>\n",
              "    .dataframe tbody tr th:only-of-type {\n",
              "        vertical-align: middle;\n",
              "    }\n",
              "\n",
              "    .dataframe tbody tr th {\n",
              "        vertical-align: top;\n",
              "    }\n",
              "\n",
              "    .dataframe thead th {\n",
              "        text-align: right;\n",
              "    }\n",
              "</style>\n",
              "<table border=\"1\" class=\"dataframe\">\n",
              "  <thead>\n",
              "    <tr style=\"text-align: right;\">\n",
              "      <th></th>\n",
              "      <th>gruplar</th>\n",
              "      <th>değişken1</th>\n",
              "      <th>değişken2</th>\n",
              "    </tr>\n",
              "  </thead>\n",
              "  <tbody>\n",
              "    <tr>\n",
              "      <th>0</th>\n",
              "      <td>A</td>\n",
              "      <td>10</td>\n",
              "      <td>100</td>\n",
              "    </tr>\n",
              "    <tr>\n",
              "      <th>1</th>\n",
              "      <td>B</td>\n",
              "      <td>23</td>\n",
              "      <td>253</td>\n",
              "    </tr>\n",
              "    <tr>\n",
              "      <th>2</th>\n",
              "      <td>C</td>\n",
              "      <td>33</td>\n",
              "      <td>333</td>\n",
              "    </tr>\n",
              "    <tr>\n",
              "      <th>3</th>\n",
              "      <td>A</td>\n",
              "      <td>22</td>\n",
              "      <td>262</td>\n",
              "    </tr>\n",
              "    <tr>\n",
              "      <th>4</th>\n",
              "      <td>B</td>\n",
              "      <td>11</td>\n",
              "      <td>111</td>\n",
              "    </tr>\n",
              "    <tr>\n",
              "      <th>5</th>\n",
              "      <td>C</td>\n",
              "      <td>99</td>\n",
              "      <td>969</td>\n",
              "    </tr>\n",
              "  </tbody>\n",
              "</table>\n",
              "</div>"
            ],
            "text/plain": [
              "  gruplar  değişken1  değişken2\n",
              "0       A         10        100\n",
              "1       B         23        253\n",
              "2       C         33        333\n",
              "3       A         22        262\n",
              "4       B         11        111\n",
              "5       C         99        969"
            ]
          },
          "metadata": {},
          "execution_count": 17
        }
      ]
    },
    {
      "cell_type": "markdown",
      "metadata": {
        "id": "XTr4udUjgxnz"
      },
      "source": [
        "- **groupby() fonskiyonu ile veri setimizi gruplar değişkenimize göre ayırdık.Yani gruplar değişkenimize göre gruplara ayırdık. Gruplar değişkeninde ki kategorik değişkenlerin diğer \"değişken1\" ve \"değişken2\" değişkenlerinde ki istatistik değerlerini almak istiyoruz.Eğer almak istediğimiz istatistik değerlerini kendimiz belirlemek istiyorsak \"agg()\" fonskiyonu kullanırız.agg() fonskiyonu içerisine \"liste halinde\" almak istediğimiz istatistik işlemlerini veriyoruz**\n",
        "\n",
        "- Biz **Kategorik değişken olan gruplar değişkenimizin**, **değişken1 ve değişken2 değişkenlerinde** ki değerlerinin ; **minimum değerlerini**, **median değerlerini** ve **maximum değerlerini** almak istediğimiz için **agg() fonskiyonu** içerisine **[\"min\", np.median, max]** yazdık"
      ]
    },
    {
      "cell_type": "code",
      "metadata": {
        "colab": {
          "base_uri": "https://localhost:8080/",
          "height": 203
        },
        "id": "I49lnPqsgK5Q",
        "outputId": "c7fbb82f-0987-4e0c-f7da-6cac4dd51ba3"
      },
      "source": [
        "df.groupby('gruplar').agg(['min',np.median,max])"
      ],
      "execution_count": null,
      "outputs": [
        {
          "output_type": "execute_result",
          "data": {
            "text/html": [
              "<div>\n",
              "<style scoped>\n",
              "    .dataframe tbody tr th:only-of-type {\n",
              "        vertical-align: middle;\n",
              "    }\n",
              "\n",
              "    .dataframe tbody tr th {\n",
              "        vertical-align: top;\n",
              "    }\n",
              "\n",
              "    .dataframe thead tr th {\n",
              "        text-align: left;\n",
              "    }\n",
              "\n",
              "    .dataframe thead tr:last-of-type th {\n",
              "        text-align: right;\n",
              "    }\n",
              "</style>\n",
              "<table border=\"1\" class=\"dataframe\">\n",
              "  <thead>\n",
              "    <tr>\n",
              "      <th></th>\n",
              "      <th colspan=\"3\" halign=\"left\">değişken1</th>\n",
              "      <th colspan=\"3\" halign=\"left\">değişken2</th>\n",
              "    </tr>\n",
              "    <tr>\n",
              "      <th></th>\n",
              "      <th>min</th>\n",
              "      <th>median</th>\n",
              "      <th>max</th>\n",
              "      <th>min</th>\n",
              "      <th>median</th>\n",
              "      <th>max</th>\n",
              "    </tr>\n",
              "    <tr>\n",
              "      <th>gruplar</th>\n",
              "      <th></th>\n",
              "      <th></th>\n",
              "      <th></th>\n",
              "      <th></th>\n",
              "      <th></th>\n",
              "      <th></th>\n",
              "    </tr>\n",
              "  </thead>\n",
              "  <tbody>\n",
              "    <tr>\n",
              "      <th>A</th>\n",
              "      <td>10</td>\n",
              "      <td>16</td>\n",
              "      <td>22</td>\n",
              "      <td>100</td>\n",
              "      <td>181</td>\n",
              "      <td>262</td>\n",
              "    </tr>\n",
              "    <tr>\n",
              "      <th>B</th>\n",
              "      <td>11</td>\n",
              "      <td>17</td>\n",
              "      <td>23</td>\n",
              "      <td>111</td>\n",
              "      <td>182</td>\n",
              "      <td>253</td>\n",
              "    </tr>\n",
              "    <tr>\n",
              "      <th>C</th>\n",
              "      <td>33</td>\n",
              "      <td>66</td>\n",
              "      <td>99</td>\n",
              "      <td>333</td>\n",
              "      <td>651</td>\n",
              "      <td>969</td>\n",
              "    </tr>\n",
              "  </tbody>\n",
              "</table>\n",
              "</div>"
            ],
            "text/plain": [
              "        değişken1            değişken2            \n",
              "              min median max       min median  max\n",
              "gruplar                                           \n",
              "A              10     16  22       100    181  262\n",
              "B              11     17  23       111    182  253\n",
              "C              33     66  99       333    651  969"
            ]
          },
          "metadata": {},
          "execution_count": 23
        }
      ]
    },
    {
      "cell_type": "markdown",
      "metadata": {
        "id": "Yxwu7uODkvWx"
      },
      "source": [
        "- gruplar değişkenimizin değişken1 değişkeninde **minimum değerlerini**, değişken2 değişkeninde ise **maximum değerlerini** aldık.\n",
        "- **agg() fonksiyonu** içerisinde **sözlük kullarak** **değişken1 değişkneninde ki minimum değerlerini** almak istediğimiz için **{'değişken1':'min'}**  **değişken2 değişkeninde ki maximum değerlerini** almak istediğimiz için de **{'değişken2':'max'}** dedik."
      ]
    },
    {
      "cell_type": "code",
      "metadata": {
        "colab": {
          "base_uri": "https://localhost:8080/",
          "height": 172
        },
        "id": "Nf3Bry99khlB",
        "outputId": "26807b39-f970-49d3-c0b9-889d85e3b2d8"
      },
      "source": [
        "df.groupby('gruplar').agg({\"değişken1\":'min','değişken2':'max'})"
      ],
      "execution_count": null,
      "outputs": [
        {
          "output_type": "execute_result",
          "data": {
            "text/html": [
              "<div>\n",
              "<style scoped>\n",
              "    .dataframe tbody tr th:only-of-type {\n",
              "        vertical-align: middle;\n",
              "    }\n",
              "\n",
              "    .dataframe tbody tr th {\n",
              "        vertical-align: top;\n",
              "    }\n",
              "\n",
              "    .dataframe thead th {\n",
              "        text-align: right;\n",
              "    }\n",
              "</style>\n",
              "<table border=\"1\" class=\"dataframe\">\n",
              "  <thead>\n",
              "    <tr style=\"text-align: right;\">\n",
              "      <th></th>\n",
              "      <th>değişken1</th>\n",
              "      <th>değişken2</th>\n",
              "    </tr>\n",
              "    <tr>\n",
              "      <th>gruplar</th>\n",
              "      <th></th>\n",
              "      <th></th>\n",
              "    </tr>\n",
              "  </thead>\n",
              "  <tbody>\n",
              "    <tr>\n",
              "      <th>A</th>\n",
              "      <td>10</td>\n",
              "      <td>262</td>\n",
              "    </tr>\n",
              "    <tr>\n",
              "      <th>B</th>\n",
              "      <td>11</td>\n",
              "      <td>253</td>\n",
              "    </tr>\n",
              "    <tr>\n",
              "      <th>C</th>\n",
              "      <td>33</td>\n",
              "      <td>969</td>\n",
              "    </tr>\n",
              "  </tbody>\n",
              "</table>\n",
              "</div>"
            ],
            "text/plain": [
              "         değişken1  değişken2\n",
              "gruplar                      \n",
              "A               10        262\n",
              "B               11        253\n",
              "C               33        969"
            ]
          },
          "metadata": {},
          "execution_count": 24
        }
      ]
    },
    {
      "cell_type": "markdown",
      "metadata": {
        "id": "o8YMsjclloZS"
      },
      "source": [
        "####Filter() Fonksiyonu"
      ]
    },
    {
      "cell_type": "markdown",
      "metadata": {
        "id": "sQqxe2JaqLb5"
      },
      "source": [
        "- **filter() fonskiyonu içerisine bir fonskiyon alır**\n",
        "- DataFrame üzerinde yaptığımız koşul işlemleri veya istatiksel koşul işlemleri gibi işlemler yaparken Pandas'ın bize sunduğu fonksiyonlar ile bunları hallediyoruz.Eğer bizim yapmak istediğimiz işlem Pandas'ın bize sağladığı fonksiyonlar ile çözemiyorsak o zaman biz kendimiz fonksiyon yazmak zorunda kalabiliriz.\n",
        "- **Yazmış olduğumuz bu fonksiyonu filter() fonksiyonu ile kullanırız.**"
      ]
    },
    {
      "cell_type": "code",
      "metadata": {
        "colab": {
          "base_uri": "https://localhost:8080/",
          "height": 234
        },
        "id": "twuhxAe4Ixjh",
        "outputId": "6918c203-4c7e-4414-ebed-3c70024eb3a7"
      },
      "source": [
        "df = pd.DataFrame({'gruplar':['A','B','C','A','B','C'],\n",
        "                   'değişken1':[10,23,33,22,11,99],\n",
        "                   'değişken2':[100,253,333,262,111,969]} , columns = ['gruplar','değişken1','değişken2'])\n",
        "\n",
        "df"
      ],
      "execution_count": null,
      "outputs": [
        {
          "output_type": "execute_result",
          "data": {
            "text/html": [
              "<div>\n",
              "<style scoped>\n",
              "    .dataframe tbody tr th:only-of-type {\n",
              "        vertical-align: middle;\n",
              "    }\n",
              "\n",
              "    .dataframe tbody tr th {\n",
              "        vertical-align: top;\n",
              "    }\n",
              "\n",
              "    .dataframe thead th {\n",
              "        text-align: right;\n",
              "    }\n",
              "</style>\n",
              "<table border=\"1\" class=\"dataframe\">\n",
              "  <thead>\n",
              "    <tr style=\"text-align: right;\">\n",
              "      <th></th>\n",
              "      <th>gruplar</th>\n",
              "      <th>değişken1</th>\n",
              "      <th>değişken2</th>\n",
              "    </tr>\n",
              "  </thead>\n",
              "  <tbody>\n",
              "    <tr>\n",
              "      <th>0</th>\n",
              "      <td>A</td>\n",
              "      <td>10</td>\n",
              "      <td>100</td>\n",
              "    </tr>\n",
              "    <tr>\n",
              "      <th>1</th>\n",
              "      <td>B</td>\n",
              "      <td>23</td>\n",
              "      <td>253</td>\n",
              "    </tr>\n",
              "    <tr>\n",
              "      <th>2</th>\n",
              "      <td>C</td>\n",
              "      <td>33</td>\n",
              "      <td>333</td>\n",
              "    </tr>\n",
              "    <tr>\n",
              "      <th>3</th>\n",
              "      <td>A</td>\n",
              "      <td>22</td>\n",
              "      <td>262</td>\n",
              "    </tr>\n",
              "    <tr>\n",
              "      <th>4</th>\n",
              "      <td>B</td>\n",
              "      <td>11</td>\n",
              "      <td>111</td>\n",
              "    </tr>\n",
              "    <tr>\n",
              "      <th>5</th>\n",
              "      <td>C</td>\n",
              "      <td>99</td>\n",
              "      <td>969</td>\n",
              "    </tr>\n",
              "  </tbody>\n",
              "</table>\n",
              "</div>"
            ],
            "text/plain": [
              "  gruplar  değişken1  değişken2\n",
              "0       A         10        100\n",
              "1       B         23        253\n",
              "2       C         33        333\n",
              "3       A         22        262\n",
              "4       B         11        111\n",
              "5       C         99        969"
            ]
          },
          "metadata": {},
          "execution_count": 2
        }
      ]
    },
    {
      "cell_type": "markdown",
      "metadata": {
        "id": "go0qEsSgLh0a"
      },
      "source": [
        "- Biz df veri setimizde bir koşul belirtmek istiyoruz.Bu koşul gruplar değişkeninde ki değerlerimizin değişken1 bazında standart sapması 9'dan büyük olanları almak istiyoruz. Fakat bunu Pandasın bize sağladığı bir fonksiyon ile çözemeyiz.\n",
        "- O yüzden kendimiz bir fonksiyon yazacağız.Bu fonksiyon **değişken1** özelinde standart sapması 9'dan büyük olan **gruplar değişkeninde** ki değerleri bize verir."
      ]
    },
    {
      "cell_type": "code",
      "metadata": {
        "id": "oN-4lnHPLc_w"
      },
      "source": [
        "def MyStd(x):\n",
        "\n",
        "  return x[\"değişken1\"].std() > 9"
      ],
      "execution_count": null,
      "outputs": []
    },
    {
      "cell_type": "markdown",
      "metadata": {
        "id": "mjqHabL_ME_2"
      },
      "source": [
        " - Yazmış olduğumuz fonksiyonu **filter() fonskiyonu** ile kullanıyoruz. Yazdığımız fonskiyonu filter() içerisine yazıyoruz.\n",
        "\n",
        "- yani siz bir fonksiyon oluşturup içine yazdığınız zaman ön tanımlı olan axis = 0 değerinden satırdaki her değeri alıp kendisi fonksiyona koyuyor ve size bir sonuc döndürüyor. bunuda size cıktı olarak veriyor."
      ]
    },
    {
      "cell_type": "code",
      "metadata": {
        "colab": {
          "base_uri": "https://localhost:8080/",
          "height": 110
        },
        "id": "FJfk4LYiI39y",
        "outputId": "7dfabb66-63e8-4414-ceee-c2475575f91c"
      },
      "source": [
        "df.groupby('gruplar').filter(MyStd)"
      ],
      "execution_count": null,
      "outputs": [
        {
          "output_type": "execute_result",
          "data": {
            "text/html": [
              "<div>\n",
              "<style scoped>\n",
              "    .dataframe tbody tr th:only-of-type {\n",
              "        vertical-align: middle;\n",
              "    }\n",
              "\n",
              "    .dataframe tbody tr th {\n",
              "        vertical-align: top;\n",
              "    }\n",
              "\n",
              "    .dataframe thead th {\n",
              "        text-align: right;\n",
              "    }\n",
              "</style>\n",
              "<table border=\"1\" class=\"dataframe\">\n",
              "  <thead>\n",
              "    <tr style=\"text-align: right;\">\n",
              "      <th></th>\n",
              "      <th>gruplar</th>\n",
              "      <th>değişken1</th>\n",
              "      <th>değişken2</th>\n",
              "    </tr>\n",
              "  </thead>\n",
              "  <tbody>\n",
              "    <tr>\n",
              "      <th>2</th>\n",
              "      <td>C</td>\n",
              "      <td>33</td>\n",
              "      <td>333</td>\n",
              "    </tr>\n",
              "    <tr>\n",
              "      <th>5</th>\n",
              "      <td>C</td>\n",
              "      <td>99</td>\n",
              "      <td>969</td>\n",
              "    </tr>\n",
              "  </tbody>\n",
              "</table>\n",
              "</div>"
            ],
            "text/plain": [
              "  gruplar  değişken1  değişken2\n",
              "2       C         33        333\n",
              "5       C         99        969"
            ]
          },
          "metadata": {},
          "execution_count": 21
        }
      ]
    },
    {
      "cell_type": "markdown",
      "metadata": {
        "id": "oz9knDlYOTRJ"
      },
      "source": [
        "#### transform() Fonksiyonu\n",
        "\n",
        "- Transform() fonskiyonu vektörel bir fonksiyondur.Yani sütun bazında, değişkenler bazında, bütün değişkenler üzerinde bir işlem yapmak için kullanacağımız bir fonksiyon.Fakat bu fonksiyonun özelliği bizim istemiş olduğumuz bir fonksiyonu değişkenler üzerinde çalıştırabilmek.\n",
        "\n",
        "- Bu sebeple fonksiyonel programlama özelliklerden olan lambda fonskiyonu kendi tanımladığımız bir fonksiyon olarak kullanırız.\n"
      ]
    },
    {
      "cell_type": "code",
      "metadata": {
        "colab": {
          "base_uri": "https://localhost:8080/",
          "height": 234
        },
        "id": "BVokw8FZRFOe",
        "outputId": "acdb2ca0-1204-4831-8e50-63b5f2f415f3"
      },
      "source": [
        "df_a = df.iloc[:,1:3]\n",
        "\n",
        "df_a"
      ],
      "execution_count": null,
      "outputs": [
        {
          "output_type": "execute_result",
          "data": {
            "text/html": [
              "<div>\n",
              "<style scoped>\n",
              "    .dataframe tbody tr th:only-of-type {\n",
              "        vertical-align: middle;\n",
              "    }\n",
              "\n",
              "    .dataframe tbody tr th {\n",
              "        vertical-align: top;\n",
              "    }\n",
              "\n",
              "    .dataframe thead th {\n",
              "        text-align: right;\n",
              "    }\n",
              "</style>\n",
              "<table border=\"1\" class=\"dataframe\">\n",
              "  <thead>\n",
              "    <tr style=\"text-align: right;\">\n",
              "      <th></th>\n",
              "      <th>değişken1</th>\n",
              "      <th>değişken2</th>\n",
              "    </tr>\n",
              "  </thead>\n",
              "  <tbody>\n",
              "    <tr>\n",
              "      <th>0</th>\n",
              "      <td>10</td>\n",
              "      <td>100</td>\n",
              "    </tr>\n",
              "    <tr>\n",
              "      <th>1</th>\n",
              "      <td>23</td>\n",
              "      <td>253</td>\n",
              "    </tr>\n",
              "    <tr>\n",
              "      <th>2</th>\n",
              "      <td>33</td>\n",
              "      <td>333</td>\n",
              "    </tr>\n",
              "    <tr>\n",
              "      <th>3</th>\n",
              "      <td>22</td>\n",
              "      <td>262</td>\n",
              "    </tr>\n",
              "    <tr>\n",
              "      <th>4</th>\n",
              "      <td>11</td>\n",
              "      <td>111</td>\n",
              "    </tr>\n",
              "    <tr>\n",
              "      <th>5</th>\n",
              "      <td>99</td>\n",
              "      <td>969</td>\n",
              "    </tr>\n",
              "  </tbody>\n",
              "</table>\n",
              "</div>"
            ],
            "text/plain": [
              "   değişken1  değişken2\n",
              "0         10        100\n",
              "1         23        253\n",
              "2         33        333\n",
              "3         22        262\n",
              "4         11        111\n",
              "5         99        969"
            ]
          },
          "metadata": {},
          "execution_count": 29
        }
      ]
    },
    {
      "cell_type": "markdown",
      "metadata": {
        "id": "grm9dnB1VgHd"
      },
      "source": [
        "- Değişkenlerimizin bulunduğu df_a datamıza tranform() fonksiyonu uyguluyoruz.\n",
        "\n",
        "- df_a veri setimizdeki değişkenlerimizin değerlerini lambda fonksiyonu ile değişken değerlerinin kendisinden, değişkenin ortalamasını çıkararak bulduğumuz sonuç ile değiştiriyoruz.\n",
        "\n",
        "- x burada bir değişkendir.Gezilecek olan sütunları, değişkenleri ifade eder."
      ]
    },
    {
      "cell_type": "code",
      "metadata": {
        "colab": {
          "base_uri": "https://localhost:8080/",
          "height": 234
        },
        "id": "6RYfQ96rUgSX",
        "outputId": "5f8673ca-1da3-4c22-b379-c43a599e1d30"
      },
      "source": [
        "df_a.transform(lambda x: x-x.mean())"
      ],
      "execution_count": null,
      "outputs": [
        {
          "output_type": "execute_result",
          "data": {
            "text/html": [
              "<div>\n",
              "<style scoped>\n",
              "    .dataframe tbody tr th:only-of-type {\n",
              "        vertical-align: middle;\n",
              "    }\n",
              "\n",
              "    .dataframe tbody tr th {\n",
              "        vertical-align: top;\n",
              "    }\n",
              "\n",
              "    .dataframe thead th {\n",
              "        text-align: right;\n",
              "    }\n",
              "</style>\n",
              "<table border=\"1\" class=\"dataframe\">\n",
              "  <thead>\n",
              "    <tr style=\"text-align: right;\">\n",
              "      <th></th>\n",
              "      <th>değişken1</th>\n",
              "      <th>değişken2</th>\n",
              "    </tr>\n",
              "  </thead>\n",
              "  <tbody>\n",
              "    <tr>\n",
              "      <th>0</th>\n",
              "      <td>-23.0</td>\n",
              "      <td>-238.0</td>\n",
              "    </tr>\n",
              "    <tr>\n",
              "      <th>1</th>\n",
              "      <td>-10.0</td>\n",
              "      <td>-85.0</td>\n",
              "    </tr>\n",
              "    <tr>\n",
              "      <th>2</th>\n",
              "      <td>0.0</td>\n",
              "      <td>-5.0</td>\n",
              "    </tr>\n",
              "    <tr>\n",
              "      <th>3</th>\n",
              "      <td>-11.0</td>\n",
              "      <td>-76.0</td>\n",
              "    </tr>\n",
              "    <tr>\n",
              "      <th>4</th>\n",
              "      <td>-22.0</td>\n",
              "      <td>-227.0</td>\n",
              "    </tr>\n",
              "    <tr>\n",
              "      <th>5</th>\n",
              "      <td>66.0</td>\n",
              "      <td>631.0</td>\n",
              "    </tr>\n",
              "  </tbody>\n",
              "</table>\n",
              "</div>"
            ],
            "text/plain": [
              "   değişken1  değişken2\n",
              "0      -23.0     -238.0\n",
              "1      -10.0      -85.0\n",
              "2        0.0       -5.0\n",
              "3      -11.0      -76.0\n",
              "4      -22.0     -227.0\n",
              "5       66.0      631.0"
            ]
          },
          "metadata": {},
          "execution_count": 31
        }
      ]
    },
    {
      "cell_type": "markdown",
      "metadata": {
        "id": "aV7edi-gZIfk"
      },
      "source": [
        "- yani siz bir fonksiyon oluşturup içine yazdığınız zaman ön tanımlı olan axis = 0 değerinden satırdaki her değeri alıp kendisi fonksiyona koyuyor ve size bir sonuc döndürüyor. bunuda size cıktı olarak veriyor."
      ]
    },
    {
      "cell_type": "code",
      "metadata": {
        "id": "yOq9lykLYkzC"
      },
      "source": [
        "def fonksiyon(x):\n",
        "\n",
        "  return x-x.mean()"
      ],
      "execution_count": null,
      "outputs": []
    },
    {
      "cell_type": "code",
      "metadata": {
        "colab": {
          "base_uri": "https://localhost:8080/",
          "height": 234
        },
        "id": "k1oHzRbrYsW-",
        "outputId": "489ede73-90f5-447f-d661-3dc9248310c4"
      },
      "source": [
        "df_a.transform(fonksiyon)"
      ],
      "execution_count": null,
      "outputs": [
        {
          "output_type": "execute_result",
          "data": {
            "text/html": [
              "<div>\n",
              "<style scoped>\n",
              "    .dataframe tbody tr th:only-of-type {\n",
              "        vertical-align: middle;\n",
              "    }\n",
              "\n",
              "    .dataframe tbody tr th {\n",
              "        vertical-align: top;\n",
              "    }\n",
              "\n",
              "    .dataframe thead th {\n",
              "        text-align: right;\n",
              "    }\n",
              "</style>\n",
              "<table border=\"1\" class=\"dataframe\">\n",
              "  <thead>\n",
              "    <tr style=\"text-align: right;\">\n",
              "      <th></th>\n",
              "      <th>değişken1</th>\n",
              "      <th>değişken2</th>\n",
              "    </tr>\n",
              "  </thead>\n",
              "  <tbody>\n",
              "    <tr>\n",
              "      <th>0</th>\n",
              "      <td>-23.0</td>\n",
              "      <td>-238.0</td>\n",
              "    </tr>\n",
              "    <tr>\n",
              "      <th>1</th>\n",
              "      <td>-10.0</td>\n",
              "      <td>-85.0</td>\n",
              "    </tr>\n",
              "    <tr>\n",
              "      <th>2</th>\n",
              "      <td>0.0</td>\n",
              "      <td>-5.0</td>\n",
              "    </tr>\n",
              "    <tr>\n",
              "      <th>3</th>\n",
              "      <td>-11.0</td>\n",
              "      <td>-76.0</td>\n",
              "    </tr>\n",
              "    <tr>\n",
              "      <th>4</th>\n",
              "      <td>-22.0</td>\n",
              "      <td>-227.0</td>\n",
              "    </tr>\n",
              "    <tr>\n",
              "      <th>5</th>\n",
              "      <td>66.0</td>\n",
              "      <td>631.0</td>\n",
              "    </tr>\n",
              "  </tbody>\n",
              "</table>\n",
              "</div>"
            ],
            "text/plain": [
              "   değişken1  değişken2\n",
              "0      -23.0     -238.0\n",
              "1      -10.0      -85.0\n",
              "2        0.0       -5.0\n",
              "3      -11.0      -76.0\n",
              "4      -22.0     -227.0\n",
              "5       66.0      631.0"
            ]
          },
          "metadata": {},
          "execution_count": 35
        }
      ]
    },
    {
      "cell_type": "code",
      "metadata": {
        "colab": {
          "base_uri": "https://localhost:8080/",
          "height": 234
        },
        "id": "-PeunDrTfkUd",
        "outputId": "aa8e3425-97eb-4b7c-abbd-1bf092021c18"
      },
      "source": [
        "def funk2(x):\n",
        "\n",
        "  result = x-x.mean()\n",
        "\n",
        "  return result\n",
        "\n",
        "df_a.transform(funk2)"
      ],
      "execution_count": null,
      "outputs": [
        {
          "output_type": "execute_result",
          "data": {
            "text/html": [
              "<div>\n",
              "<style scoped>\n",
              "    .dataframe tbody tr th:only-of-type {\n",
              "        vertical-align: middle;\n",
              "    }\n",
              "\n",
              "    .dataframe tbody tr th {\n",
              "        vertical-align: top;\n",
              "    }\n",
              "\n",
              "    .dataframe thead th {\n",
              "        text-align: right;\n",
              "    }\n",
              "</style>\n",
              "<table border=\"1\" class=\"dataframe\">\n",
              "  <thead>\n",
              "    <tr style=\"text-align: right;\">\n",
              "      <th></th>\n",
              "      <th>değişken1</th>\n",
              "      <th>değişken2</th>\n",
              "    </tr>\n",
              "  </thead>\n",
              "  <tbody>\n",
              "    <tr>\n",
              "      <th>0</th>\n",
              "      <td>-23.0</td>\n",
              "      <td>-238.0</td>\n",
              "    </tr>\n",
              "    <tr>\n",
              "      <th>1</th>\n",
              "      <td>-10.0</td>\n",
              "      <td>-85.0</td>\n",
              "    </tr>\n",
              "    <tr>\n",
              "      <th>2</th>\n",
              "      <td>0.0</td>\n",
              "      <td>-5.0</td>\n",
              "    </tr>\n",
              "    <tr>\n",
              "      <th>3</th>\n",
              "      <td>-11.0</td>\n",
              "      <td>-76.0</td>\n",
              "    </tr>\n",
              "    <tr>\n",
              "      <th>4</th>\n",
              "      <td>-22.0</td>\n",
              "      <td>-227.0</td>\n",
              "    </tr>\n",
              "    <tr>\n",
              "      <th>5</th>\n",
              "      <td>66.0</td>\n",
              "      <td>631.0</td>\n",
              "    </tr>\n",
              "  </tbody>\n",
              "</table>\n",
              "</div>"
            ],
            "text/plain": [
              "   değişken1  değişken2\n",
              "0      -23.0     -238.0\n",
              "1      -10.0      -85.0\n",
              "2        0.0       -5.0\n",
              "3      -11.0      -76.0\n",
              "4      -22.0     -227.0\n",
              "5       66.0      631.0"
            ]
          },
          "metadata": {},
          "execution_count": 41
        }
      ]
    },
    {
      "cell_type": "markdown",
      "metadata": {
        "id": "dRFKz0MNgT8Z"
      },
      "source": [
        "#### apply() fonksiyonu \n",
        "\n",
        "- apply() fonksiyonu, transform() ve filter() fonskiyonu gibi dataframe'in değişkenlerin üzerinde gezinme yeteneği olan ve toplulaştırma amacıyla kullanılabilecek olan fonksiyondur."
      ]
    },
    {
      "cell_type": "code",
      "metadata": {
        "colab": {
          "base_uri": "https://localhost:8080/",
          "height": 234
        },
        "id": "x9RZYJwBhhNa",
        "outputId": "387f3196-664e-4a8a-d12c-cefc6d6029ff"
      },
      "source": [
        "df = pd.DataFrame({'gruplar':['A','B','C','A','B','C'],\n",
        "                   'değişken1':[10,23,33,22,11,99],\n",
        "                   'değişken2':[100,253,333,262,111,969]} , columns = ['gruplar','değişken1','değişken2'])\n",
        "\n",
        "df"
      ],
      "execution_count": null,
      "outputs": [
        {
          "output_type": "execute_result",
          "data": {
            "text/html": [
              "<div>\n",
              "<style scoped>\n",
              "    .dataframe tbody tr th:only-of-type {\n",
              "        vertical-align: middle;\n",
              "    }\n",
              "\n",
              "    .dataframe tbody tr th {\n",
              "        vertical-align: top;\n",
              "    }\n",
              "\n",
              "    .dataframe thead th {\n",
              "        text-align: right;\n",
              "    }\n",
              "</style>\n",
              "<table border=\"1\" class=\"dataframe\">\n",
              "  <thead>\n",
              "    <tr style=\"text-align: right;\">\n",
              "      <th></th>\n",
              "      <th>gruplar</th>\n",
              "      <th>değişken1</th>\n",
              "      <th>değişken2</th>\n",
              "    </tr>\n",
              "  </thead>\n",
              "  <tbody>\n",
              "    <tr>\n",
              "      <th>0</th>\n",
              "      <td>A</td>\n",
              "      <td>10</td>\n",
              "      <td>100</td>\n",
              "    </tr>\n",
              "    <tr>\n",
              "      <th>1</th>\n",
              "      <td>B</td>\n",
              "      <td>23</td>\n",
              "      <td>253</td>\n",
              "    </tr>\n",
              "    <tr>\n",
              "      <th>2</th>\n",
              "      <td>C</td>\n",
              "      <td>33</td>\n",
              "      <td>333</td>\n",
              "    </tr>\n",
              "    <tr>\n",
              "      <th>3</th>\n",
              "      <td>A</td>\n",
              "      <td>22</td>\n",
              "      <td>262</td>\n",
              "    </tr>\n",
              "    <tr>\n",
              "      <th>4</th>\n",
              "      <td>B</td>\n",
              "      <td>11</td>\n",
              "      <td>111</td>\n",
              "    </tr>\n",
              "    <tr>\n",
              "      <th>5</th>\n",
              "      <td>C</td>\n",
              "      <td>99</td>\n",
              "      <td>969</td>\n",
              "    </tr>\n",
              "  </tbody>\n",
              "</table>\n",
              "</div>"
            ],
            "text/plain": [
              "  gruplar  değişken1  değişken2\n",
              "0       A         10        100\n",
              "1       B         23        253\n",
              "2       C         33        333\n",
              "3       A         22        262\n",
              "4       B         11        111\n",
              "5       C         99        969"
            ]
          },
          "metadata": {},
          "execution_count": 42
        }
      ]
    },
    {
      "cell_type": "code",
      "metadata": {
        "colab": {
          "base_uri": "https://localhost:8080/"
        },
        "id": "h4ZWp7Slhkun",
        "outputId": "48e7fb7c-743c-4233-e8ed-346c7bb80769"
      },
      "source": [
        "df.apply(np.sum)"
      ],
      "execution_count": null,
      "outputs": [
        {
          "output_type": "execute_result",
          "data": {
            "text/plain": [
              "gruplar      ABCABC\n",
              "değişken1       198\n",
              "değişken2      2028\n",
              "dtype: object"
            ]
          },
          "metadata": {},
          "execution_count": 45
        }
      ]
    },
    {
      "cell_type": "code",
      "metadata": {
        "id": "S2aUFAf7osB6"
      },
      "source": [
        "df.groupby('gruplar')"
      ],
      "execution_count": null,
      "outputs": []
    },
    {
      "cell_type": "markdown",
      "metadata": {
        "id": "ZQxBcm4-Mn3s"
      },
      "source": [
        "### Pivot Tablolar\n",
        "\n",
        "- Veri setleri üzerinde bazı satır ve sütun işlemleri yaparak veri setini amaca uygun hale getirmek için kullanılan yapılardır.\n",
        "\n",
        "- **groupby**'ın çok boyutlu versiyonu olarak düşünülebilir."
      ]
    },
    {
      "cell_type": "code",
      "metadata": {
        "colab": {
          "base_uri": "https://localhost:8080/",
          "height": 203
        },
        "id": "2A1acYvkMvMd",
        "outputId": "ab9f6bc7-21f5-4df5-f06c-56f811d650aa"
      },
      "source": [
        "import seaborn as sns \n",
        "\n",
        "titanic = sns.load_dataset('titanic')\n",
        "titanic.head()"
      ],
      "execution_count": null,
      "outputs": [
        {
          "output_type": "execute_result",
          "data": {
            "text/html": [
              "<div>\n",
              "<style scoped>\n",
              "    .dataframe tbody tr th:only-of-type {\n",
              "        vertical-align: middle;\n",
              "    }\n",
              "\n",
              "    .dataframe tbody tr th {\n",
              "        vertical-align: top;\n",
              "    }\n",
              "\n",
              "    .dataframe thead th {\n",
              "        text-align: right;\n",
              "    }\n",
              "</style>\n",
              "<table border=\"1\" class=\"dataframe\">\n",
              "  <thead>\n",
              "    <tr style=\"text-align: right;\">\n",
              "      <th></th>\n",
              "      <th>survived</th>\n",
              "      <th>pclass</th>\n",
              "      <th>sex</th>\n",
              "      <th>age</th>\n",
              "      <th>sibsp</th>\n",
              "      <th>parch</th>\n",
              "      <th>fare</th>\n",
              "      <th>embarked</th>\n",
              "      <th>class</th>\n",
              "      <th>who</th>\n",
              "      <th>adult_male</th>\n",
              "      <th>deck</th>\n",
              "      <th>embark_town</th>\n",
              "      <th>alive</th>\n",
              "      <th>alone</th>\n",
              "    </tr>\n",
              "  </thead>\n",
              "  <tbody>\n",
              "    <tr>\n",
              "      <th>0</th>\n",
              "      <td>0</td>\n",
              "      <td>3</td>\n",
              "      <td>male</td>\n",
              "      <td>22.0</td>\n",
              "      <td>1</td>\n",
              "      <td>0</td>\n",
              "      <td>7.2500</td>\n",
              "      <td>S</td>\n",
              "      <td>Third</td>\n",
              "      <td>man</td>\n",
              "      <td>True</td>\n",
              "      <td>NaN</td>\n",
              "      <td>Southampton</td>\n",
              "      <td>no</td>\n",
              "      <td>False</td>\n",
              "    </tr>\n",
              "    <tr>\n",
              "      <th>1</th>\n",
              "      <td>1</td>\n",
              "      <td>1</td>\n",
              "      <td>female</td>\n",
              "      <td>38.0</td>\n",
              "      <td>1</td>\n",
              "      <td>0</td>\n",
              "      <td>71.2833</td>\n",
              "      <td>C</td>\n",
              "      <td>First</td>\n",
              "      <td>woman</td>\n",
              "      <td>False</td>\n",
              "      <td>C</td>\n",
              "      <td>Cherbourg</td>\n",
              "      <td>yes</td>\n",
              "      <td>False</td>\n",
              "    </tr>\n",
              "    <tr>\n",
              "      <th>2</th>\n",
              "      <td>1</td>\n",
              "      <td>3</td>\n",
              "      <td>female</td>\n",
              "      <td>26.0</td>\n",
              "      <td>0</td>\n",
              "      <td>0</td>\n",
              "      <td>7.9250</td>\n",
              "      <td>S</td>\n",
              "      <td>Third</td>\n",
              "      <td>woman</td>\n",
              "      <td>False</td>\n",
              "      <td>NaN</td>\n",
              "      <td>Southampton</td>\n",
              "      <td>yes</td>\n",
              "      <td>True</td>\n",
              "    </tr>\n",
              "    <tr>\n",
              "      <th>3</th>\n",
              "      <td>1</td>\n",
              "      <td>1</td>\n",
              "      <td>female</td>\n",
              "      <td>35.0</td>\n",
              "      <td>1</td>\n",
              "      <td>0</td>\n",
              "      <td>53.1000</td>\n",
              "      <td>S</td>\n",
              "      <td>First</td>\n",
              "      <td>woman</td>\n",
              "      <td>False</td>\n",
              "      <td>C</td>\n",
              "      <td>Southampton</td>\n",
              "      <td>yes</td>\n",
              "      <td>False</td>\n",
              "    </tr>\n",
              "    <tr>\n",
              "      <th>4</th>\n",
              "      <td>0</td>\n",
              "      <td>3</td>\n",
              "      <td>male</td>\n",
              "      <td>35.0</td>\n",
              "      <td>0</td>\n",
              "      <td>0</td>\n",
              "      <td>8.0500</td>\n",
              "      <td>S</td>\n",
              "      <td>Third</td>\n",
              "      <td>man</td>\n",
              "      <td>True</td>\n",
              "      <td>NaN</td>\n",
              "      <td>Southampton</td>\n",
              "      <td>no</td>\n",
              "      <td>True</td>\n",
              "    </tr>\n",
              "  </tbody>\n",
              "</table>\n",
              "</div>"
            ],
            "text/plain": [
              "   survived  pclass     sex   age  ...  deck  embark_town  alive  alone\n",
              "0         0       3    male  22.0  ...   NaN  Southampton     no  False\n",
              "1         1       1  female  38.0  ...     C    Cherbourg    yes  False\n",
              "2         1       3  female  26.0  ...   NaN  Southampton    yes   True\n",
              "3         1       1  female  35.0  ...     C  Southampton    yes  False\n",
              "4         0       3    male  35.0  ...   NaN  Southampton     no   True\n",
              "\n",
              "[5 rows x 15 columns]"
            ]
          },
          "metadata": {},
          "execution_count": 2
        }
      ]
    },
    {
      "cell_type": "markdown",
      "metadata": {
        "id": "Q3Dk0ocQOSvS"
      },
      "source": [
        "- **sex (cinsiyet) değişkenine göre** gruplandırma yaptık.\n",
        "- Sürekli değişken olarakta **Survived** değişkenini seçtik.\n",
        "- Cinsiyete göre gruplama işlemi yaptık.Survived değişkenine göre de ortalama aldık."
      ]
    },
    {
      "cell_type": "code",
      "metadata": {
        "colab": {
          "base_uri": "https://localhost:8080/"
        },
        "id": "1UGhIGvtOLJr",
        "outputId": "b7dabc4a-fd26-414a-e441-3994bac47582"
      },
      "source": [
        "titanic.groupby('sex')['survived'].mean()"
      ],
      "execution_count": null,
      "outputs": [
        {
          "output_type": "execute_result",
          "data": {
            "text/plain": [
              "sex\n",
              "female    0.742038\n",
              "male      0.188908\n",
              "Name: survived, dtype: float64"
            ]
          },
          "metadata": {},
          "execution_count": 3
        }
      ]
    },
    {
      "cell_type": "markdown",
      "metadata": {
        "id": "V68Vnc7kPvHB"
      },
      "source": [
        "- Çıktımızın bir dataframe olmasını istersek iki tane köşeli parantez yazmamız yeterli olacaktır."
      ]
    },
    {
      "cell_type": "code",
      "metadata": {
        "colab": {
          "base_uri": "https://localhost:8080/",
          "height": 142
        },
        "id": "D1tyySnPP6EM",
        "outputId": "231c0312-63cf-4750-fd7b-ed21b2bd8871"
      },
      "source": [
        "titanic.groupby('sex')[['survived']].mean()"
      ],
      "execution_count": null,
      "outputs": [
        {
          "output_type": "execute_result",
          "data": {
            "text/html": [
              "<div>\n",
              "<style scoped>\n",
              "    .dataframe tbody tr th:only-of-type {\n",
              "        vertical-align: middle;\n",
              "    }\n",
              "\n",
              "    .dataframe tbody tr th {\n",
              "        vertical-align: top;\n",
              "    }\n",
              "\n",
              "    .dataframe thead th {\n",
              "        text-align: right;\n",
              "    }\n",
              "</style>\n",
              "<table border=\"1\" class=\"dataframe\">\n",
              "  <thead>\n",
              "    <tr style=\"text-align: right;\">\n",
              "      <th></th>\n",
              "      <th>survived</th>\n",
              "    </tr>\n",
              "    <tr>\n",
              "      <th>sex</th>\n",
              "      <th></th>\n",
              "    </tr>\n",
              "  </thead>\n",
              "  <tbody>\n",
              "    <tr>\n",
              "      <th>female</th>\n",
              "      <td>0.742038</td>\n",
              "    </tr>\n",
              "    <tr>\n",
              "      <th>male</th>\n",
              "      <td>0.188908</td>\n",
              "    </tr>\n",
              "  </tbody>\n",
              "</table>\n",
              "</div>"
            ],
            "text/plain": [
              "        survived\n",
              "sex             \n",
              "female  0.742038\n",
              "male    0.188908"
            ]
          },
          "metadata": {},
          "execution_count": 4
        }
      ]
    },
    {
      "cell_type": "markdown",
      "metadata": {
        "id": "Bgjzka-4QhgJ"
      },
      "source": [
        "- Groupby operasyonunu genişleteceğiz.\n",
        "\n",
        "- **Sex(cinsiyet) ve class** değişkenlerine göre groupby işlemi yaptık.O 2 değişkene göre grupladık.\n",
        "- x eksenin de **sex değişkeni** y ekseninde **class kategorik değişkenin** sınıflarına göre bölüp kesişimlerinde birşeyler ifade etmiş olduk.\n",
        "\n",
        "- Yani 2 tane kategorik değişkenimizi sürekli değişkendeki değerlerin ortalamasını alarak bir pivot tablo oluşturmuş olduk.\n",
        "\n",
        "- **unstack()** Transpoze alır. Tablonun kolay okunmasını sağlar.\n"
      ]
    },
    {
      "cell_type": "code",
      "metadata": {
        "colab": {
          "base_uri": "https://localhost:8080/",
          "height": 172
        },
        "id": "7ndldiRfQO1o",
        "outputId": "be5b7ee6-71e8-417f-ca53-7c2e73435c37"
      },
      "source": [
        "titanic.groupby(['sex','class'])[['survived']].agg('mean').unstack()"
      ],
      "execution_count": null,
      "outputs": [
        {
          "output_type": "execute_result",
          "data": {
            "text/html": [
              "<div>\n",
              "<style scoped>\n",
              "    .dataframe tbody tr th:only-of-type {\n",
              "        vertical-align: middle;\n",
              "    }\n",
              "\n",
              "    .dataframe tbody tr th {\n",
              "        vertical-align: top;\n",
              "    }\n",
              "\n",
              "    .dataframe thead tr th {\n",
              "        text-align: left;\n",
              "    }\n",
              "\n",
              "    .dataframe thead tr:last-of-type th {\n",
              "        text-align: right;\n",
              "    }\n",
              "</style>\n",
              "<table border=\"1\" class=\"dataframe\">\n",
              "  <thead>\n",
              "    <tr>\n",
              "      <th></th>\n",
              "      <th colspan=\"3\" halign=\"left\">survived</th>\n",
              "    </tr>\n",
              "    <tr>\n",
              "      <th>class</th>\n",
              "      <th>First</th>\n",
              "      <th>Second</th>\n",
              "      <th>Third</th>\n",
              "    </tr>\n",
              "    <tr>\n",
              "      <th>sex</th>\n",
              "      <th></th>\n",
              "      <th></th>\n",
              "      <th></th>\n",
              "    </tr>\n",
              "  </thead>\n",
              "  <tbody>\n",
              "    <tr>\n",
              "      <th>female</th>\n",
              "      <td>0.968085</td>\n",
              "      <td>0.921053</td>\n",
              "      <td>0.500000</td>\n",
              "    </tr>\n",
              "    <tr>\n",
              "      <th>male</th>\n",
              "      <td>0.368852</td>\n",
              "      <td>0.157407</td>\n",
              "      <td>0.135447</td>\n",
              "    </tr>\n",
              "  </tbody>\n",
              "</table>\n",
              "</div>"
            ],
            "text/plain": [
              "        survived                    \n",
              "class      First    Second     Third\n",
              "sex                                 \n",
              "female  0.968085  0.921053  0.500000\n",
              "male    0.368852  0.157407  0.135447"
            ]
          },
          "metadata": {},
          "execution_count": 6
        }
      ]
    },
    {
      "cell_type": "markdown",
      "metadata": {
        "id": "jEsZ7ZJXRtUU"
      },
      "source": [
        "#### pivot table ile"
      ]
    },
    {
      "cell_type": "markdown",
      "metadata": {
        "id": "h4X0LGY9R7oF"
      },
      "source": [
        "- **index** : Satır olarak değerlendiriyor. Gözlem biriminde olacak olan kategorik değişken\n",
        "\n",
        "- **columns** : Sütunlar. Sütunda olacak olan kategorik değişken."
      ]
    },
    {
      "cell_type": "code",
      "metadata": {
        "colab": {
          "base_uri": "https://localhost:8080/",
          "height": 142
        },
        "id": "9q2cf-jHRpFO",
        "outputId": "f46aa763-29b2-4fb0-e945-0e65809af032"
      },
      "source": [
        "titanic.pivot_table(\"survived\", index = 'sex', columns = 'class')"
      ],
      "execution_count": null,
      "outputs": [
        {
          "output_type": "execute_result",
          "data": {
            "text/html": [
              "<div>\n",
              "<style scoped>\n",
              "    .dataframe tbody tr th:only-of-type {\n",
              "        vertical-align: middle;\n",
              "    }\n",
              "\n",
              "    .dataframe tbody tr th {\n",
              "        vertical-align: top;\n",
              "    }\n",
              "\n",
              "    .dataframe thead th {\n",
              "        text-align: right;\n",
              "    }\n",
              "</style>\n",
              "<table border=\"1\" class=\"dataframe\">\n",
              "  <thead>\n",
              "    <tr style=\"text-align: right;\">\n",
              "      <th>class</th>\n",
              "      <th>First</th>\n",
              "      <th>Second</th>\n",
              "      <th>Third</th>\n",
              "    </tr>\n",
              "    <tr>\n",
              "      <th>sex</th>\n",
              "      <th></th>\n",
              "      <th></th>\n",
              "      <th></th>\n",
              "    </tr>\n",
              "  </thead>\n",
              "  <tbody>\n",
              "    <tr>\n",
              "      <th>female</th>\n",
              "      <td>0.968085</td>\n",
              "      <td>0.921053</td>\n",
              "      <td>0.500000</td>\n",
              "    </tr>\n",
              "    <tr>\n",
              "      <th>male</th>\n",
              "      <td>0.368852</td>\n",
              "      <td>0.157407</td>\n",
              "      <td>0.135447</td>\n",
              "    </tr>\n",
              "  </tbody>\n",
              "</table>\n",
              "</div>"
            ],
            "text/plain": [
              "class      First    Second     Third\n",
              "sex                                 \n",
              "female  0.968085  0.921053  0.500000\n",
              "male    0.368852  0.157407  0.135447"
            ]
          },
          "metadata": {},
          "execution_count": 7
        }
      ]
    },
    {
      "cell_type": "markdown",
      "metadata": {
        "id": "JVWwaYnGiH7V"
      },
      "source": [
        "- Biz Sürekli değişkenide tabloya eklemek ve diğer kategorik değişkenlere göre değerlendirme yapmak isteyelim diyelim\n",
        "- Örneğin \"age\" değişkenimiz sürekli değişkenimizdir.**\"age\" değişkenimizle** beraber **\"survived\"** ve **\"sex\"** değişkenlerimizle beraber pivot tablo oluşturalım.\n",
        "- **age değişkenimiz sürekli bir değişkendir**.ilk olarrak bunu **kategorik değişken** formatına dönüştürmemiz lazım"
      ]
    },
    {
      "cell_type": "code",
      "metadata": {
        "colab": {
          "base_uri": "https://localhost:8080/"
        },
        "id": "bhuDemNkTBDF",
        "outputId": "5b092596-b73f-4111-f400-430ee4a597c9"
      },
      "source": [
        "titanic['age'].head()"
      ],
      "execution_count": null,
      "outputs": [
        {
          "output_type": "execute_result",
          "data": {
            "text/plain": [
              "0    22.0\n",
              "1    38.0\n",
              "2    26.0\n",
              "3    35.0\n",
              "4    35.0\n",
              "Name: age, dtype: float64"
            ]
          },
          "metadata": {},
          "execution_count": 12
        }
      ]
    },
    {
      "cell_type": "markdown",
      "metadata": {
        "id": "HdiO3xoki3Js"
      },
      "source": [
        "- **age değişkenimizi** kategorik formata çevirelim.\n",
        "- **cut() fonskiyonunu** kullararak age değişkenimizi bölerek kategorik formata dönüştürdük. age değişkeninde ki değerleri Liste içerisinde yazdığımız değerlere göre(aralıklara göre) bölmüş oldu. Şöyle ;\n",
        "\n",
        "   - age değişkeninde **15 oaln değer**   -->   **(0,18]**\n",
        "   - age değişkeninde **22 olan değer**   -->   **(18,90]**\n",
        "   - age değişkeninde **38 olan değer**   -->   **(18,90]** değerlerini alır.\n",
        "\n",
        "- Sürekli değişken olan **age değişkenini** 2 sınıflı olacak şekilde ayırarak  **kategorik değişkene** dönüştürmüş olduk."
      ]
    },
    {
      "cell_type": "code",
      "metadata": {
        "colab": {
          "base_uri": "https://localhost:8080/"
        },
        "id": "Om5ePa2aStYw",
        "outputId": "e1049cab-a899-4eef-be23-c4a8c29219bd"
      },
      "source": [
        "age = pd.cut(titanic['age'], [0,18,90])\n",
        "\n",
        "age.head()"
      ],
      "execution_count": null,
      "outputs": [
        {
          "output_type": "execute_result",
          "data": {
            "text/plain": [
              "0    (18, 90]\n",
              "1    (18, 90]\n",
              "2    (18, 90]\n",
              "3    (18, 90]\n",
              "4    (18, 90]\n",
              "Name: age, dtype: category\n",
              "Categories (2, interval[int64]): [(0, 18] < (18, 90]]"
            ]
          },
          "metadata": {},
          "execution_count": 29
        }
      ]
    },
    {
      "cell_type": "code",
      "metadata": {
        "colab": {
          "base_uri": "https://localhost:8080/",
          "height": 203
        },
        "id": "5Brnpl3RlloS",
        "outputId": "c68a532f-23de-416f-c69a-e2756f967aa3"
      },
      "source": [
        "titanic.pivot_table(\"survived\",index = ['sex', age], columns = 'class')"
      ],
      "execution_count": null,
      "outputs": [
        {
          "output_type": "execute_result",
          "data": {
            "text/html": [
              "<div>\n",
              "<style scoped>\n",
              "    .dataframe tbody tr th:only-of-type {\n",
              "        vertical-align: middle;\n",
              "    }\n",
              "\n",
              "    .dataframe tbody tr th {\n",
              "        vertical-align: top;\n",
              "    }\n",
              "\n",
              "    .dataframe thead th {\n",
              "        text-align: right;\n",
              "    }\n",
              "</style>\n",
              "<table border=\"1\" class=\"dataframe\">\n",
              "  <thead>\n",
              "    <tr style=\"text-align: right;\">\n",
              "      <th></th>\n",
              "      <th>class</th>\n",
              "      <th>First</th>\n",
              "      <th>Second</th>\n",
              "      <th>Third</th>\n",
              "    </tr>\n",
              "    <tr>\n",
              "      <th>sex</th>\n",
              "      <th>age</th>\n",
              "      <th></th>\n",
              "      <th></th>\n",
              "      <th></th>\n",
              "    </tr>\n",
              "  </thead>\n",
              "  <tbody>\n",
              "    <tr>\n",
              "      <th rowspan=\"2\" valign=\"top\">female</th>\n",
              "      <th>(0, 18]</th>\n",
              "      <td>0.909091</td>\n",
              "      <td>1.000000</td>\n",
              "      <td>0.511628</td>\n",
              "    </tr>\n",
              "    <tr>\n",
              "      <th>(18, 90]</th>\n",
              "      <td>0.972973</td>\n",
              "      <td>0.900000</td>\n",
              "      <td>0.423729</td>\n",
              "    </tr>\n",
              "    <tr>\n",
              "      <th rowspan=\"2\" valign=\"top\">male</th>\n",
              "      <th>(0, 18]</th>\n",
              "      <td>0.800000</td>\n",
              "      <td>0.600000</td>\n",
              "      <td>0.215686</td>\n",
              "    </tr>\n",
              "    <tr>\n",
              "      <th>(18, 90]</th>\n",
              "      <td>0.375000</td>\n",
              "      <td>0.071429</td>\n",
              "      <td>0.133663</td>\n",
              "    </tr>\n",
              "  </tbody>\n",
              "</table>\n",
              "</div>"
            ],
            "text/plain": [
              "class               First    Second     Third\n",
              "sex    age                                   \n",
              "female (0, 18]   0.909091  1.000000  0.511628\n",
              "       (18, 90]  0.972973  0.900000  0.423729\n",
              "male   (0, 18]   0.800000  0.600000  0.215686\n",
              "       (18, 90]  0.375000  0.071429  0.133663"
            ]
          },
          "metadata": {},
          "execution_count": 30
        }
      ]
    },
    {
      "cell_type": "code",
      "metadata": {
        "colab": {
          "base_uri": "https://localhost:8080/"
        },
        "id": "y4_ohcRkTQtH",
        "outputId": "0479b171-fc26-4af6-871d-8a71ebb792ce"
      },
      "source": [
        "pd.qcut(titanic['age'],2,labels=[1,2]).apply(lambda x: 'genc'if x>1 else 'yaşlı').head()"
      ],
      "execution_count": null,
      "outputs": [
        {
          "output_type": "execute_result",
          "data": {
            "text/plain": [
              "0    yaşlı\n",
              "1     genc\n",
              "2    yaşlı\n",
              "3     genc\n",
              "4     genc\n",
              "Name: age, dtype: category\n",
              "Categories (2, object): ['yaşlı' < 'genc']"
            ]
          },
          "metadata": {},
          "execution_count": 22
        }
      ]
    }
  ]
}